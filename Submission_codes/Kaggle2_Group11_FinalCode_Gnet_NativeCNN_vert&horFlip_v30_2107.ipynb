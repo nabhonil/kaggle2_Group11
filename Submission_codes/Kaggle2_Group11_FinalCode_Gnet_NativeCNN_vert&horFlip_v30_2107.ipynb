{
 "cells": [
  {
   "cell_type": "markdown",
   "metadata": {
    "id": "qM2cr8mbfwEA"
   },
   "source": [
    "### Objective:\n",
    "To classify images in the Caltech-256 dataset, which is an improvement over Caltech-101 dataset using a Convolutional Neural Network."
   ]
  },
  {
   "cell_type": "markdown",
   "metadata": {
    "id": "9-uLJvizgCBf"
   },
   "source": [
    "### Problem Statement\n",
    "To build and implement a Convolutional Neural Network model to classify images in the Caltech-256 dataset.\n",
    "\n",
    "At the end of this competition, you will be able to:\n",
    "\n",
    "* Load and extract features of images available in the Caltech-256 dataset using ImageDataGenerator\n",
    "\n",
    "* Build convolutional neural networks using either Keras or PyTorch deep learning libraries\n",
    "\n",
    "* Use the pre-trained models using either Keras or PyTorch deep learning libraries"
   ]
  },
  {
   "cell_type": "markdown",
   "metadata": {
    "id": "DdYmy-tJgURN"
   },
   "source": [
    "### Description:\n",
    "Caltech-256 is an object recognition dataset containing approximately 30,000 real-world images, of different sizes, spanning 256 classes (256 object classes and an additional clutter class). Each class is represented by at least 80 images. The dataset is a superset of the Caltech-101 dataset.\n",
    "\n",
    "Here is a handy link to Kaggle's competition documentation (https://www.kaggle.com/docs/competitions), which includes, among other things, instructions on submitting predictions (https://www.kaggle.com/docs/competitions#making-a-submission)."
   ]
  },
  {
   "cell_type": "markdown",
   "metadata": {
    "id": "Y8OapRtHgLnU"
   },
   "source": [
    "### Instructions for downloading train and test data are as follows:"
   ]
  },
  {
   "cell_type": "markdown",
   "metadata": {
    "id": "DO2jS73oLnCR"
   },
   "source": [
    "### 1. Create an API key in Kaggle.\n",
    "\n",
    "To do this, go to the competition site on Kaggle at https://www.kaggle.com/t/185418aa7ed24db3b98ed851a4db2b41 and click on user then click on your profile as shown below. Click Account.\n",
    "\n",
    "![alt text](https://cdn.iisc.talentsprint.com/DLFA/Experiment_related_data/Capture-NLP.PNG)\n",
    "\n"
   ]
  },
  {
   "cell_type": "markdown",
   "metadata": {
    "id": "DkzGffHdbwX2"
   },
   "source": [
    "### 2. Next, scroll down to the API access section and click on **Create New Token** to download an API key (kaggle.json).\n",
    "\n",
    "![alt text](https://cdn.iisc.talentsprint.com/DLFA/Experiment_related_data/Capture-NLP_1.PNG)"
   ]
  },
  {
   "cell_type": "markdown",
   "metadata": {
    "id": "WtETuXx8b-OC"
   },
   "source": [
    "### 3. Upload your kaggle.json file using the following snippet in a code cell:\n",
    "\n"
   ]
  },
  {
   "cell_type": "code",
   "execution_count": 1,
   "metadata": {
    "colab": {
     "base_uri": "https://localhost:8080/",
     "height": 108
    },
    "id": "-1pfXBDxWl0Y",
    "outputId": "de3f25e1-83fc-49be-b36b-5d9810b81bfb"
   },
   "outputs": [],
   "source": [
    "from google.colab import files\n",
    "files.upload()"
   ]
  },
  {
   "cell_type": "code",
   "execution_count": 2,
   "metadata": {
    "colab": {
     "base_uri": "https://localhost:8080/"
    },
    "id": "GCV_T6MMW4eX",
    "outputId": "2cf01bcd-0fd3-45fb-f138-2ce302669e21"
   },
   "outputs": [],
   "source": [
    "#If successfully uploaded in the above step, the 'ls' command here should display the kaggle.json file.\n",
    "# %ls"
   ]
  },
  {
   "cell_type": "markdown",
   "metadata": {
    "id": "JbukdzJ6cE32"
   },
   "source": [
    "### 4. Install the Kaggle API using the following command\n"
   ]
  },
  {
   "cell_type": "code",
   "execution_count": 3,
   "metadata": {
    "id": "dMj1n1MJcqzN"
   },
   "outputs": [],
   "source": [
    "!pip install -U -q kaggle==1.5.8"
   ]
  },
  {
   "cell_type": "markdown",
   "metadata": {
    "id": "3Vpy9P1nchhd"
   },
   "source": [
    "### 5. Move the kaggle.json file into ~/.kaggle, which is where the API client expects your token to be located:\n",
    "\n"
   ]
  },
  {
   "cell_type": "code",
   "execution_count": 4,
   "metadata": {
    "id": "yQbPsDOLZ0b4"
   },
   "outputs": [],
   "source": [
    "!mkdir -p ~/.kaggle\n",
    "!cp kaggle.json ~/.kaggle/"
   ]
  },
  {
   "cell_type": "code",
   "execution_count": 5,
   "metadata": {
    "colab": {
     "base_uri": "https://localhost:8080/"
    },
    "id": "BenAWlpI73sm",
    "outputId": "ae6421ba-5f72-4ddf-a3ba-d89648c0a378"
   },
   "outputs": [],
   "source": [
    "#Execute the following command to verify whether the kaggle.json is stored in the appropriate location: ~/.kaggle/kaggle.json\n",
    "!ls ~/.kaggle"
   ]
  },
  {
   "cell_type": "code",
   "execution_count": 6,
   "metadata": {
    "id": "vm2jGsCradOS"
   },
   "outputs": [],
   "source": [
    "!chmod 600 /root/.kaggle/kaggle.json #run this command to ensure your Kaggle API token is secure on colab"
   ]
  },
  {
   "cell_type": "markdown",
   "metadata": {
    "id": "32unPZKzdI72"
   },
   "source": [
    "### 6. Now download the Test Data from Kaggle"
   ]
  },
  {
   "cell_type": "markdown",
   "metadata": {
    "id": "ppuy5gRKHFwv"
   },
   "source": [
    "**NOTE: If you get a '403 - Not Found' error after running the cell below, it is most likely that the user (whose kaggle.json is uploaded above) has not 'accepted' the rules of the competition and therefore has 'not joined' the competition.**"
   ]
  },
  {
   "cell_type": "markdown",
   "metadata": {
    "id": "41-ETZCE_A1j"
   },
   "source": [
    "If you encounter **401-unauthorised** download latest **kaggle.json** by repeating steps 1 & 2"
   ]
  },
  {
   "cell_type": "code",
   "execution_count": 7,
   "metadata": {
    "colab": {
     "base_uri": "https://localhost:8080/"
    },
    "id": "TY40TmgfHq0s",
    "outputId": "cce29c08-1acb-47da-a445-edeb62d39671"
   },
   "outputs": [],
   "source": [
    "#If you get a forbidden link, you have most likely not joined the competition.\n",
    "!kaggle competitions download -c classification-of-caltech-256-images"
   ]
  },
  {
   "cell_type": "code",
   "execution_count": 8,
   "metadata": {
    "colab": {
     "base_uri": "https://localhost:8080/"
    },
    "id": "5VmllhW5ENRr",
    "outputId": "369968e0-ca97-4f6f-b974-76a2d89bcff4"
   },
   "outputs": [],
   "source": [
    "!mkdir /content/Kaggle2Test\n",
    "!unzip classification-of-caltech-256-images -d /content/Kaggle2Test/"
   ]
  },
  {
   "cell_type": "code",
   "execution_count": 9,
   "metadata": {
    "id": "fZrpDsz83xmJ"
   },
   "outputs": [],
   "source": [
    "!mkdir Kaggle2Test/test\n",
    "!mv test/* Kaggle2Test/test/"
   ]
  },
  {
   "cell_type": "markdown",
   "metadata": {
    "id": "MI_uUJyfOAHr"
   },
   "source": [
    "### 7. Download the Train Data"
   ]
  },
  {
   "cell_type": "code",
   "execution_count": 10,
   "metadata": {
    "id": "8efM3KoBOLiV"
   },
   "outputs": [],
   "source": [
    "%%capture\n",
    "!wget https://cdn.iisc.talentsprint.com/DLFA/Experiment_related_data/Caltech_256_Train.zip\n",
    "\n",
    "!unzip \"Caltech_256_Train.zip\""
   ]
  },
  {
   "cell_type": "markdown",
   "metadata": {
    "id": "1BQEA97zTlTa"
   },
   "source": [
    "## Grading = 10 Marks"
   ]
  },
  {
   "cell_type": "markdown",
   "metadata": {
    "id": "QeKon2vruI_c"
   },
   "source": [
    "## YOUR CODING STARTS FROM HERE"
   ]
  },
  {
   "cell_type": "markdown",
   "metadata": {
    "id": "abstract-stocks"
   },
   "source": [
    "### Import Required packages"
   ]
  },
  {
   "cell_type": "code",
   "execution_count": 1,
   "metadata": {
    "id": "YG52PDGENRgN"
   },
   "outputs": [
    {
     "name": "stderr",
     "output_type": "stream",
     "text": [
      "C:\\Users\\abhay\\AppData\\Roaming\\Python\\Python310\\site-packages\\torchvision\\io\\image.py:13: UserWarning: Failed to load image Python extension: '[WinError 127] The specified procedure could not be found'If you don't plan on using image functionality from `torchvision.io`, you can ignore this warning. Otherwise, there might be something wrong with your environment. Did you have `libjpeg` or `libpng` installed before building `torchvision` from source?\n",
      "  warn(\n"
     ]
    }
   ],
   "source": [
    "# import the libraries\n",
    "import numpy as np\n",
    "import pandas as pd\n",
    "import os,shutil,glob,PIL\n",
    "import pathlib\n",
    "from PIL import Image\n",
    "import torch\n",
    "import torch.nn as nn\n",
    "import torch.nn.init as init\n",
    "from torch.utils.data import DataLoader\n",
    "from torchvision import transforms, datasets, utils\n",
    "import matplotlib.pyplot as plt\n",
    "import torchvision.models as models\n",
    "import torch.optim as optim\n",
    "from tqdm import tqdm\n",
    "from collections import defaultdict\n",
    "from collections import Counter"
   ]
  },
  {
   "cell_type": "markdown",
   "metadata": {
    "id": "53g0zVbjRV7K"
   },
   "source": [
    "### **Stage 1:** Data Loading and preprocessing of Images (3 points)"
   ]
  },
  {
   "cell_type": "markdown",
   "metadata": {
    "id": "aYSjwlcSGJq1"
   },
   "source": [
    "#### Analyze the shape of images and distribution of classes"
   ]
  },
  {
   "cell_type": "markdown",
   "metadata": {
    "id": "BN8LigRXeR4m"
   },
   "source": [
    "**The below two cells were run later (but shown here) after loading data with transform without normalization to get appropriate mean and standard deviation.**"
   ]
  },
  {
   "cell_type": "code",
   "execution_count": 12,
   "metadata": {
    "id": "NzY4BnX4ePoO"
   },
   "outputs": [],
   "source": [
    "# mean = 0.0\n",
    "# for img, _ in train_data:\n",
    "#     mean += img.mean([1,2])\n",
    "# mean = mean/len(train_data)\n",
    "# print(mean)"
   ]
  },
  {
   "cell_type": "code",
   "execution_count": 13,
   "metadata": {
    "id": "efBKujnJePoP"
   },
   "outputs": [],
   "source": [
    "# sumel = 0.0\n",
    "# countel = 0\n",
    "# for img, _ in train_data:\n",
    "#     img = (img - mean.unsqueeze(1).unsqueeze(1))**2\n",
    "#     sumel += img.sum([1, 2])\n",
    "#     countel += torch.numel(img[0])\n",
    "# std = torch.sqrt(sumel/countel)\n",
    "# print(std)"
   ]
  },
  {
   "cell_type": "code",
   "execution_count": 14,
   "metadata": {
    "id": "Z_FC0knCfeFD"
   },
   "outputs": [],
   "source": [
    "# Normalize with mean and std\n",
    "# train_transform = transforms.Compose([transforms.Resize((224, 224)), transforms.ToTensor(), transforms.Normalize((0.4839, 0.4528, 0.3962), (0.2702, 0.2655, 0.2745))])\n",
    "# train_transform = transforms.Compose([transforms.Resize((256, 256)), transforms.ToTensor()])\n",
    "# transform = transforms.Compose([transforms.Resize((256, 256)), transforms.ToTensor(), transforms.Normalize((0.5503, 0.5315, 0.5028), (0.3162, 0.3125, 0.3263))])"
   ]
  },
  {
   "cell_type": "code",
   "execution_count": 2,
   "metadata": {
    "id": "oTFhZyeviUd8"
   },
   "outputs": [],
   "source": [
    "# Define train and test transforms for data preprocessing and image augmentation\n",
    "train_transform = transforms.Compose([\n",
    "    transforms.Resize((224,224)),\n",
    "    transforms.RandomHorizontalFlip(),\n",
    "    transforms.RandomVerticalFlip(),\n",
    "    transforms.ToTensor(),\n",
    "    transforms.Normalize((0.4839, 0.4528, 0.3962), (0.2702, 0.2655, 0.2745))])\n",
    "\n",
    "test_transform = transforms.Compose([\n",
    "    transforms.Resize((224,224)),\n",
    "    transforms.ToTensor(),\n",
    "    transforms.Normalize((0.4839, 0.4528, 0.3962), (0.2702, 0.2655, 0.2745))])"
   ]
  },
  {
   "cell_type": "code",
   "execution_count": 3,
   "metadata": {
    "id": "T6aeOLfgIZy3"
   },
   "outputs": [],
   "source": [
    "train_transform = transforms.Compose([\n",
    "    transforms.RandomResizedCrop(224),\n",
    "    transforms.RandomHorizontalFlip(),\n",
    "    transforms.ToTensor(),\n",
    "    transforms.Normalize(mean=[0.485, 0.456, 0.406], std=[0.229, 0.224, 0.225])\n",
    "])\n",
    "\n",
    "test_transform = transforms.Compose([\n",
    "    transforms.Resize(256),\n",
    "    transforms.CenterCrop(224),\n",
    "    transforms.ToTensor(),\n",
    "    transforms.Normalize(mean=[0.485, 0.456, 0.406], std=[0.229, 0.224, 0.225])\n",
    "])\n"
   ]
  },
  {
   "cell_type": "markdown",
   "metadata": {
    "id": "Lc-ERQYaITV_"
   },
   "source": [
    "**We will be adjusting these values 224 224 after calculating mean and std dev. later on.**"
   ]
  },
  {
   "cell_type": "code",
   "execution_count": 4,
   "metadata": {
    "id": "BzVnVYkxBK7C"
   },
   "outputs": [],
   "source": [
    "# Loading the train set file\n",
    "train_data_folder = \"./classification-of-caltech-256-images/train\" # Train directory for loading images\n",
    "total_dataset = datasets.ImageFolder(root=train_data_folder, transform=train_transform)\n",
    "# train_data = datasets.ImageFolder(root=train_data_folder)"
   ]
  },
  {
   "cell_type": "code",
   "execution_count": 5,
   "metadata": {
    "id": "onQwL8FUbaq9"
   },
   "outputs": [],
   "source": [
    "# splitting between train and Validation set\n",
    "train_size = int(0.9 * len(total_dataset))  # 90% for training\n",
    "val_size = len(total_dataset) - train_size  # Remaining 10% for validation\n",
    "train_data, val_data = torch.utils.data.random_split(total_dataset, [train_size, val_size])"
   ]
  },
  {
   "cell_type": "code",
   "execution_count": 6,
   "metadata": {
    "id": "4C17yZSrbqn6"
   },
   "outputs": [],
   "source": [
    "#defiining train_batch_size\n",
    "train_batch_size = 32"
   ]
  },
  {
   "cell_type": "code",
   "execution_count": 7,
   "metadata": {
    "id": "6RWIkIDscA3G"
   },
   "outputs": [],
   "source": [
    "# Create data loaders for training and validation\n",
    "train_loader = torch.utils.data.DataLoader(train_data, batch_size=train_batch_size,shuffle=True)\n",
    "val_loader = torch.utils.data.DataLoader(val_data, batch_size=train_batch_size,shuffle=False)"
   ]
  },
  {
   "cell_type": "code",
   "execution_count": 8,
   "metadata": {
    "id": "JRRJgkJYBPz6"
   },
   "outputs": [],
   "source": [
    "# Loading the test set file\n",
    "test_data_folder = \"./classification-of-caltech-256-images/test_images\" # Test directory for loading images\n",
    "test_data = datasets.ImageFolder(root=test_data_folder, transform=test_transform)"
   ]
  },
  {
   "cell_type": "code",
   "execution_count": 9,
   "metadata": {
    "colab": {
     "base_uri": "https://localhost:8080/"
    },
    "id": "YekVS5WqjWkK",
    "outputId": "c56629a7-50ec-4ebe-a3f6-dede283fd9eb"
   },
   "outputs": [
    {
     "data": {
      "text/plain": [
       "['001.ak47',\n",
       " '002.american-flag',\n",
       " '003.backpack',\n",
       " '004.baseball-bat',\n",
       " '005.baseball-glove',\n",
       " '006.basketball-hoop',\n",
       " '007.bat',\n",
       " '008.bathtub',\n",
       " '009.bear',\n",
       " '010.beer-mug',\n",
       " '011.billiards',\n",
       " '012.binoculars',\n",
       " '013.birdbath',\n",
       " '014.blimp',\n",
       " '015.bonsai-101',\n",
       " '016.boom-box',\n",
       " '017.bowling-ball',\n",
       " '018.bowling-pin',\n",
       " '019.boxing-glove',\n",
       " '020.brain-101',\n",
       " '021.breadmaker',\n",
       " '022.buddha-101',\n",
       " '023.bulldozer',\n",
       " '024.butterfly',\n",
       " '025.cactus',\n",
       " '026.cake',\n",
       " '027.calculator',\n",
       " '028.camel',\n",
       " '029.cannon',\n",
       " '030.canoe',\n",
       " '031.car-tire',\n",
       " '032.cartman',\n",
       " '033.cd',\n",
       " '034.centipede',\n",
       " '035.cereal-box',\n",
       " '036.chandelier-101',\n",
       " '037.chess-board',\n",
       " '038.chimp',\n",
       " '039.chopsticks',\n",
       " '040.cockroach',\n",
       " '041.coffee-mug',\n",
       " '042.coffin',\n",
       " '043.coin',\n",
       " '044.comet',\n",
       " '045.computer-keyboard',\n",
       " '046.computer-monitor',\n",
       " '047.computer-mouse',\n",
       " '048.conch',\n",
       " '049.cormorant',\n",
       " '050.covered-wagon',\n",
       " '051.cowboy-hat',\n",
       " '052.crab-101',\n",
       " '053.desk-globe',\n",
       " '054.diamond-ring',\n",
       " '055.dice',\n",
       " '056.dog',\n",
       " '057.dolphin-101',\n",
       " '058.doorknob',\n",
       " '059.drinking-straw',\n",
       " '060.duck',\n",
       " '061.dumb-bell',\n",
       " '062.eiffel-tower',\n",
       " '063.electric-guitar-101',\n",
       " '064.elephant-101',\n",
       " '065.elk',\n",
       " '066.ewer-101',\n",
       " '067.eyeglasses',\n",
       " '068.fern',\n",
       " '069.fighter-jet',\n",
       " '070.fire-extinguisher',\n",
       " '071.fire-hydrant',\n",
       " '072.fire-truck',\n",
       " '073.fireworks',\n",
       " '074.flashlight',\n",
       " '075.floppy-disk',\n",
       " '076.football-helmet',\n",
       " '077.french-horn',\n",
       " '078.fried-egg',\n",
       " '079.frisbee',\n",
       " '080.frog',\n",
       " '081.frying-pan',\n",
       " '082.galaxy',\n",
       " '083.gas-pump',\n",
       " '084.giraffe',\n",
       " '085.goat',\n",
       " '086.golden-gate-bridge',\n",
       " '087.goldfish',\n",
       " '088.golf-ball',\n",
       " '089.goose',\n",
       " '090.gorilla',\n",
       " '091.grand-piano-101',\n",
       " '092.grapes',\n",
       " '093.grasshopper',\n",
       " '094.guitar-pick',\n",
       " '095.hamburger',\n",
       " '096.hammock',\n",
       " '097.harmonica',\n",
       " '098.harp',\n",
       " '099.harpsichord',\n",
       " '100.hawksbill-101',\n",
       " '101.head-phones',\n",
       " '102.helicopter-101',\n",
       " '103.hibiscus',\n",
       " '104.homer-simpson',\n",
       " '105.horse',\n",
       " '106.horseshoe-crab',\n",
       " '107.hot-air-balloon',\n",
       " '108.hot-dog',\n",
       " '109.hot-tub',\n",
       " '110.hourglass',\n",
       " '111.house-fly',\n",
       " '112.human-skeleton',\n",
       " '113.hummingbird',\n",
       " '114.ibis-101',\n",
       " '115.ice-cream-cone',\n",
       " '116.iguana',\n",
       " '117.ipod',\n",
       " '118.iris',\n",
       " '119.jesus-christ',\n",
       " '120.joy-stick',\n",
       " '121.kangaroo-101',\n",
       " '122.kayak',\n",
       " '123.ketch-101',\n",
       " '124.killer-whale',\n",
       " '125.knife',\n",
       " '126.ladder',\n",
       " '127.laptop-101',\n",
       " '128.lathe',\n",
       " '129.leopards-101',\n",
       " '130.license-plate',\n",
       " '131.lightbulb',\n",
       " '132.light-house',\n",
       " '133.lightning',\n",
       " '134.llama-101',\n",
       " '135.mailbox',\n",
       " '136.mandolin',\n",
       " '137.mars',\n",
       " '138.mattress',\n",
       " '139.megaphone',\n",
       " '140.menorah-101',\n",
       " '141.microscope',\n",
       " '142.microwave',\n",
       " '143.minaret',\n",
       " '144.minotaur',\n",
       " '145.motorbikes-101',\n",
       " '146.mountain-bike',\n",
       " '147.mushroom',\n",
       " '148.mussels',\n",
       " '149.necktie',\n",
       " '150.octopus',\n",
       " '151.ostrich',\n",
       " '152.owl',\n",
       " '153.palm-pilot',\n",
       " '154.palm-tree',\n",
       " '155.paperclip',\n",
       " '156.paper-shredder',\n",
       " '157.pci-card',\n",
       " '158.penguin',\n",
       " '159.people',\n",
       " '160.pez-dispenser',\n",
       " '161.photocopier',\n",
       " '162.picnic-table',\n",
       " '163.playing-card',\n",
       " '164.porcupine',\n",
       " '165.pram',\n",
       " '166.praying-mantis',\n",
       " '167.pyramid',\n",
       " '168.raccoon',\n",
       " '169.radio-telescope',\n",
       " '170.rainbow',\n",
       " '171.refrigerator',\n",
       " '172.revolver-101',\n",
       " '173.rifle',\n",
       " '174.rotary-phone',\n",
       " '175.roulette-wheel',\n",
       " '176.saddle',\n",
       " '177.saturn',\n",
       " '178.school-bus',\n",
       " '179.scorpion-101',\n",
       " '180.screwdriver',\n",
       " '181.segway',\n",
       " '182.self-propelled-lawn-mower',\n",
       " '183.sextant',\n",
       " '184.sheet-music',\n",
       " '185.skateboard',\n",
       " '186.skunk',\n",
       " '187.skyscraper',\n",
       " '188.smokestack',\n",
       " '189.snail',\n",
       " '190.snake',\n",
       " '191.sneaker',\n",
       " '192.snowmobile',\n",
       " '193.soccer-ball',\n",
       " '194.socks',\n",
       " '195.soda-can',\n",
       " '196.spaghetti',\n",
       " '197.speed-boat',\n",
       " '198.spider',\n",
       " '199.spoon',\n",
       " '200.stained-glass',\n",
       " '201.starfish-101',\n",
       " '202.steering-wheel',\n",
       " '203.stirrups',\n",
       " '204.sunflower-101',\n",
       " '205.superman',\n",
       " '206.sushi',\n",
       " '207.swan',\n",
       " '208.swiss-army-knife',\n",
       " '209.sword',\n",
       " '210.syringe',\n",
       " '211.tambourine',\n",
       " '212.teapot',\n",
       " '213.teddy-bear',\n",
       " '214.teepee',\n",
       " '215.telephone-box',\n",
       " '216.tennis-ball',\n",
       " '217.tennis-court',\n",
       " '218.tennis-racket',\n",
       " '219.theodolite',\n",
       " '220.toaster',\n",
       " '221.tomato',\n",
       " '222.tombstone',\n",
       " '223.top-hat',\n",
       " '224.touring-bike',\n",
       " '225.tower-pisa',\n",
       " '226.traffic-light',\n",
       " '227.treadmill',\n",
       " '228.triceratops',\n",
       " '229.tricycle',\n",
       " '230.trilobite-101',\n",
       " '231.tripod',\n",
       " '232.t-shirt',\n",
       " '233.tuning-fork',\n",
       " '234.tweezer',\n",
       " '235.umbrella-101',\n",
       " '236.unicorn',\n",
       " '237.vcr',\n",
       " '238.video-projector',\n",
       " '239.washing-machine',\n",
       " '240.watch-101',\n",
       " '241.waterfall',\n",
       " '242.watermelon',\n",
       " '243.welding-mask',\n",
       " '244.wheelbarrow',\n",
       " '245.windmill',\n",
       " '246.wine-bottle',\n",
       " '247.xylophone',\n",
       " '248.yarmulke',\n",
       " '249.yo-yo',\n",
       " '250.zebra',\n",
       " '251.airplanes-101',\n",
       " '252.car-side-101',\n",
       " '253.faces-easy-101',\n",
       " '254.greyhound',\n",
       " '255.tennis-shoes',\n",
       " '256.toad',\n",
       " '257.clutter']"
      ]
     },
     "execution_count": 9,
     "metadata": {},
     "output_type": "execute_result"
    }
   ],
   "source": [
    "test_data.classes\n",
    "total_dataset.classes"
   ]
  },
  {
   "cell_type": "code",
   "execution_count": 10,
   "metadata": {
    "id": "JDMI9MDHBPwf"
   },
   "outputs": [],
   "source": [
    "# # Initializing batch size\n",
    "# batch_size = 64\n",
    "\n",
    "# # Loading the train dataset\n",
    "# train_loader = torch.utils.data.DataLoader(train_data, batch_size=batch_size, shuffle=True)"
   ]
  },
  {
   "cell_type": "code",
   "execution_count": 10,
   "metadata": {
    "colab": {
     "base_uri": "https://localhost:8080/"
    },
    "id": "la3vAIgDBPpv",
    "outputId": "e9338d96-e4a9-40d3-9f58-3d65b7535740"
   },
   "outputs": [
    {
     "data": {
      "text/plain": [
       "(torch.Size([32, 3, 224, 224]), torch.Size([32]))"
      ]
     },
     "execution_count": 10,
     "metadata": {},
     "output_type": "execute_result"
    }
   ],
   "source": [
    "# Generate a batches of images and labels\n",
    "train_images, train_labels = next(iter(train_loader))\n",
    "train_images.shape, train_labels.shape"
   ]
  },
  {
   "cell_type": "code",
   "execution_count": 11,
   "metadata": {
    "id": "2vZ0AO9nBPlS"
   },
   "outputs": [],
   "source": [
    "# labels Translator\n",
    "label_names = {v: k for k, v in total_dataset.class_to_idx.items()}\n",
    "label_names"
   ]
  },
  {
   "cell_type": "code",
   "execution_count": 26,
   "metadata": {
    "id": "QsfIUhmoBPhp"
   },
   "outputs": [],
   "source": [
    "# Create a grid of images along with their corresponding labels\n",
    "L = 3\n",
    "W = 3\n",
    "\n",
    "fig, axes = plt.subplots(L, W, figsize = (10, 10))\n",
    "axes = axes.reshape(-1)\n",
    "\n",
    "for i in np.arange(0, L*W):\n",
    "    axes[i].imshow(train_images[i].permute(1, 2, 0))\n",
    "    axes[i].set_title(label_names[train_labels[i].item()])\n",
    "    axes[i].axis('on')\n",
    "\n",
    "plt.tight_layout()"
   ]
  },
  {
   "cell_type": "code",
   "execution_count": 27,
   "metadata": {
    "id": "quy6Ov3FBPdN"
   },
   "outputs": [],
   "source": [
    "mean = 0.0\n",
    "for img, _ in train_data:\n",
    "    mean += img.mean([1,2])\n",
    "mean = mean/len(train_data)\n",
    "print(mean)"
   ]
  },
  {
   "cell_type": "code",
   "execution_count": 28,
   "metadata": {
    "id": "aRJyw4xnBPZA"
   },
   "outputs": [],
   "source": [
    "sumel = 0.0\n",
    "countel = 0\n",
    "for img, _ in train_data:\n",
    "    img = (img - mean.unsqueeze(1).unsqueeze(1))**2\n",
    "    sumel += img.sum([1, 2])\n",
    "    countel += torch.numel(img[0])\n",
    "std = torch.sqrt(sumel/countel)\n",
    "print(std)"
   ]
  },
  {
   "cell_type": "code",
   "execution_count": 12,
   "metadata": {},
   "outputs": [],
   "source": [
    "num_classes = len(total_dataset.classes)"
   ]
  },
  {
   "cell_type": "code",
   "execution_count": 29,
   "metadata": {
    "id": "poU9n8u2BPR6"
   },
   "outputs": [],
   "source": [
    "# sum = 0\n",
    "# for label in train_data.classes:\n",
    "#     num_img = len(train_data.targets[train_data.targets == train_data.class_to_idx[label]])\n",
    "#     print (num_img)\n",
    "# print (sum)\n",
    "\n",
    "num_classes = len(total_dataset.classes)\n",
    "dataset_size = len(total_dataset)\n",
    "classes = total_dataset.classes\n",
    "img_dict = {}\n",
    "for i in range(num_classes):\n",
    "    img_dict[classes[i]] = 0\n",
    "\n",
    "for i in range(dataset_size):\n",
    "    img, label = total_dataset[i]\n",
    "    img_dict[classes[label]] += 1\n",
    "\n",
    "# img_dict"
   ]
  },
  {
   "cell_type": "markdown",
   "metadata": {
    "id": "krqjf7tIHlqg"
   },
   "source": [
    "**Our observation is all those minority classes we need to go for augmenting new samples.**"
   ]
  },
  {
   "cell_type": "code",
   "execution_count": 13,
   "metadata": {
    "colab": {
     "base_uri": "https://localhost:8080/"
    },
    "id": "LJ9l-8dPBPJh",
    "outputId": "f8e806e1-a6ae-40ea-c15e-37b2f88132fc"
   },
   "outputs": [
    {
     "name": "stdout",
     "output_type": "stream",
     "text": [
      "257\n"
     ]
    }
   ],
   "source": [
    "# No of Categories\n",
    "print(len(total_dataset.classes))"
   ]
  },
  {
   "cell_type": "code",
   "execution_count": 31,
   "metadata": {
    "id": "XnXP8SJZe0Wf"
   },
   "outputs": [],
   "source": [
    "# total_dataset.targets"
   ]
  },
  {
   "cell_type": "code",
   "execution_count": 14,
   "metadata": {
    "colab": {
     "base_uri": "https://localhost:8080/"
    },
    "id": "1EysC9vCOP6A",
    "outputId": "fc91f9f4-dfdb-4683-ec93-949269a7c4da"
   },
   "outputs": [
    {
     "data": {
      "text/plain": [
       "device(type='cuda')"
      ]
     },
     "execution_count": 14,
     "metadata": {},
     "output_type": "execute_result"
    }
   ],
   "source": [
    "device = torch.device(\"cuda\" if torch.cuda.is_available() else \"cpu\")\n",
    "device"
   ]
  },
  {
   "cell_type": "code",
   "execution_count": 15,
   "metadata": {
    "colab": {
     "base_uri": "https://localhost:8080/"
    },
    "id": "AXKWKI3feSN9",
    "outputId": "130ebfbc-659e-499c-dfd4-ead58b2e2b57"
   },
   "outputs": [
    {
     "data": {
      "text/plain": [
       "tensor([0.8163, 0.8247, 0.5298, 0.6299, 0.5405, 0.8889, 0.7547, 0.3448, 0.7843,\n",
       "        0.8511, 0.2878, 0.3704, 0.8163, 0.9302, 0.6557, 0.8791, 0.7692, 0.7921,\n",
       "        0.6452, 0.9639, 0.5634, 0.8247, 0.7273, 0.7143, 0.7018, 0.7547, 0.8000,\n",
       "        0.7273, 0.7767, 0.7692, 0.8889, 0.7921, 0.7843, 0.8000, 0.9195, 0.7547,\n",
       "        0.6667, 0.7273, 0.9412, 0.6452, 0.9195, 0.9195, 0.6452, 0.6612, 0.9412,\n",
       "        0.6015, 0.8511, 0.7767, 0.7547, 0.8247, 0.7018, 0.9412, 0.9756, 0.6780,\n",
       "        0.8163, 0.7843, 0.7547, 0.8602, 0.9639, 0.9195, 0.7843, 0.9639, 0.6557,\n",
       "        0.6107, 0.7921, 0.9639, 0.9639, 0.7273, 0.8081, 0.9524, 0.8081, 0.6780,\n",
       "        0.8000, 0.6957, 0.9639, 0.9524, 0.8696, 0.8889, 0.8081, 0.6897, 0.8421,\n",
       "        0.9877, 0.8421, 0.9524, 0.7143, 1.0000, 0.8602, 0.8163, 0.7273, 0.3774,\n",
       "        0.8421, 0.3980, 0.7143, 0.7692, 0.9302, 0.2807, 0.8989, 0.8000, 1.0000,\n",
       "        0.8602, 0.5797, 0.9091, 0.7207, 0.8247, 0.2963, 0.9195, 0.8989, 0.9412,\n",
       "        0.5128, 0.9412, 0.9524, 0.9524, 0.6897, 0.6667, 0.9091, 0.7477, 0.6612,\n",
       "        0.7407, 0.9195, 0.6154, 0.9756, 0.7767, 0.7207, 0.8791, 0.7921, 0.3306,\n",
       "        0.6250, 0.7619, 0.4211, 0.8791, 0.8696, 0.4211, 0.5882, 0.6723, 0.8602,\n",
       "        0.8602, 0.5128, 0.4167, 0.9302, 0.8989, 0.6838, 0.7477, 0.6154, 0.9756,\n",
       "        0.1003, 0.9756, 0.3960, 0.4598, 0.7767, 0.7207, 0.7339, 0.6667, 0.8602,\n",
       "        0.7767, 0.8696, 0.8333, 0.7619, 0.5369, 0.3828, 0.9639, 0.7767, 0.8791,\n",
       "        0.8889, 0.7921, 0.9091, 0.8696, 0.9302, 0.5714, 0.8696, 0.7843, 0.9524,\n",
       "        0.8081, 0.7547, 0.9524, 0.9639, 0.7273, 0.8333, 0.8163, 1.0000, 0.7843,\n",
       "        0.8000, 0.6667, 0.8000, 0.9524, 0.7767, 0.9877, 0.8421, 0.9091, 0.6723,\n",
       "        0.7143, 0.7207, 0.7143, 0.4598, 0.7143, 0.9195, 0.7692, 0.8000, 0.7407,\n",
       "        0.7619, 0.8000, 0.9877, 0.8247, 0.8791, 1.0000, 0.9195, 0.8163, 0.6957,\n",
       "        0.7339, 0.7843, 0.7207, 0.8421, 0.5882, 0.7921, 0.5755, 0.9524, 0.8163,\n",
       "        0.7619, 0.9877, 0.9524, 0.8511, 0.7767, 0.8791, 1.0000, 0.7273, 0.8889,\n",
       "        0.8081, 0.5442, 0.8421, 0.8421, 0.8511, 0.7143, 0.2235, 0.8000, 0.6557,\n",
       "        0.7018, 0.8247, 0.8889, 0.8247, 0.9524, 0.3980, 0.8421, 0.8602, 0.8889,\n",
       "        0.8791, 0.8791, 0.7921, 0.8696, 0.9524, 0.8000, 0.8333, 0.1000, 0.6897,\n",
       "        0.1839, 0.8421, 0.7767, 0.7407, 0.0967], device='cuda:0')"
      ]
     },
     "execution_count": 15,
     "metadata": {},
     "output_type": "execute_result"
    }
   ],
   "source": [
    "# Calculate class weights\n",
    "class_weights = torch.tensor([1.0] * num_classes)  # Initialize with equal weights\n",
    "\n",
    "# Calculate class frequencies\n",
    "class_counts = torch.bincount(torch.tensor(total_dataset.targets))\n",
    "total_samples = len(total_dataset)\n",
    "class_frequencies = class_counts.float() / total_samples\n",
    "\n",
    "# Update class weights based on class frequencies\n",
    "class_weights = 1.0 / class_frequencies\n",
    "\n",
    "# Normalize class weights\n",
    "class_weights /= torch.max(class_weights)\n",
    "class_weights.to(device)"
   ]
  },
  {
   "cell_type": "code",
   "execution_count": 16,
   "metadata": {
    "colab": {
     "base_uri": "https://localhost:8080/"
    },
    "id": "5Z15D5RloIi8",
    "outputId": "92606b91-2742-40b4-8960-f24fe44e6531"
   },
   "outputs": [
    {
     "name": "stdout",
     "output_type": "stream",
     "text": [
      "cuda\n"
     ]
    }
   ],
   "source": [
    "print(device)"
   ]
  },
  {
   "cell_type": "code",
   "execution_count": 17,
   "metadata": {
    "colab": {
     "base_uri": "https://localhost:8080/"
    },
    "id": "YRH3c81gIF0H",
    "outputId": "fe6ee89d-0243-4111-87ed-9061891daa61"
   },
   "outputs": [
    {
     "name": "stdout",
     "output_type": "stream",
     "text": [
      "30607\n"
     ]
    }
   ],
   "source": [
    "# Number of training samples\n",
    "print(len(total_dataset))"
   ]
  },
  {
   "cell_type": "code",
   "execution_count": 18,
   "metadata": {
    "colab": {
     "base_uri": "https://localhost:8080/"
    },
    "id": "qRFg5oUyBO_2",
    "outputId": "026226b4-c5ff-45a1-8c2a-67abbb1701c4"
   },
   "outputs": [
    {
     "name": "stdout",
     "output_type": "stream",
     "text": [
      "torch.Size([3, 224, 224]) torch.Size([3, 224, 224])\n"
     ]
    }
   ],
   "source": [
    "# Size of one training image\n",
    "print(train_data[0][0].size(), val_data[0][0].size())"
   ]
  },
  {
   "cell_type": "code",
   "execution_count": 21,
   "metadata": {
    "colab": {
     "base_uri": "https://localhost:8080/",
     "height": 36
    },
    "id": "VEA_l_jNBOzx",
    "outputId": "e6c7ca88-a571-401f-dc08-81f25e629ca0"
   },
   "outputs": [],
   "source": [
    "# max(img_dict,key=img_dict.get)"
   ]
  },
  {
   "cell_type": "code",
   "execution_count": 38,
   "metadata": {
    "id": "usbPxHFPKC8f"
   },
   "outputs": [],
   "source": [
    "# print(img_dict.values())\n",
    "# total = sum(img_dict.values())"
   ]
  },
  {
   "cell_type": "code",
   "execution_count": 19,
   "metadata": {
    "colab": {
     "base_uri": "https://localhost:8080/"
    },
    "id": "H3TIlsKoKDFU",
    "outputId": "7fcedf39-3f34-46a3-c5d2-3c1ce9c7d81b"
   },
   "outputs": [
    {
     "name": "stdout",
     "output_type": "stream",
     "text": [
      "Using PyTorch version: 1.12.1+cu116 CUDA: True\n"
     ]
    }
   ],
   "source": [
    "# To test whether GPU instance is present in the system of not.\n",
    "use_cuda = torch.cuda.is_available()\n",
    "print('Using PyTorch version:', torch.__version__, 'CUDA:', use_cuda)"
   ]
  },
  {
   "cell_type": "markdown",
   "metadata": {
    "id": "zkOr1nhNT5yD"
   },
   "source": [
    "### **Stage 2:** Build and train the CNN model using Keras/Pytorch (5 points)\n",
    "\n",
    "You can train the CNN model and Pre-trained model and then compare the model performance on the kaggle testset\n"
   ]
  },
  {
   "cell_type": "markdown",
   "metadata": {
    "id": "hjGEBM5BFeS8"
   },
   "source": [
    "### Transfer learning\n",
    "\n",
    "Transfer learning consists of taking features learned on one problem, and leveraging them on a new, similar problem.\n",
    "\n",
    "A pre-trained model is a saved network that was previously trained on a large dataset, typically on a large-scale image-classification task.\n",
    "\n",
    "The intuition behind transfer learning for image classification is that if a model is trained on a large and general enough dataset, this model will effectively serve as a generic model of the visual world. You can then take advantage of these learned feature maps without having to start from scratch by training a large model on a large dataset.\n",
    "\n"
   ]
  },
  {
   "cell_type": "code",
   "execution_count": 47,
   "metadata": {},
   "outputs": [],
   "source": [
    "torch.cuda.empty_cache()"
   ]
  },
  {
   "cell_type": "markdown",
   "metadata": {},
   "source": [
    "<b> Creating and using the Native CNN model using BatchNorm, Pool and skip connections <\\b>"
   ]
  },
  {
   "cell_type": "code",
   "execution_count": null,
   "metadata": {},
   "outputs": [],
   "source": [
    "class CaltechCNN(nn.Module):\n",
    "    def __init__(self, num_classes):\n",
    "      super(CaltechCNN, self).__init__()\n",
    "      self.conv1 = nn.Conv2d(3, 64, kernel_size=3, padding=1)\n",
    "      self.bn1 = nn.BatchNorm2d(64)\n",
    "      self.conv2 = nn.Conv2d(64, 128, kernel_size=3, padding=1)\n",
    "      self.bn2 = nn.BatchNorm2d(128)\n",
    "      self.conv3 = nn.Conv2d(128, 256, kernel_size=3, padding=1)\n",
    "      self.bn3 = nn.BatchNorm2d(256)\n",
    "      self.pool = nn.MaxPool2d(2, 2)\n",
    "      self.skip_conv1 = nn.Conv2d(64, 128, kernel_size=1, stride=1)\n",
    "      self.skip_conv2 = nn.Conv2d(128, 256, kernel_size=1, stride=1)\n",
    "      self.fc1 = nn.Linear(256 * 8 * 8, 512)\n",
    "      self.fc2 = nn.Linear(512, num_classes)\n",
    "\n",
    "    def forward(self, x):\n",
    "      x = self.conv1(x)\n",
    "      x = self.bn1(x)\n",
    "      x = F.relu(x)\n",
    "      x = self.pool(x)\n",
    "      skip = self.skip_conv1(x)\n",
    "      x = self.conv2(x)\n",
    "      x = self.bn2(x)\n",
    "      x = F.relu(x)\n",
    "      x = self.pool(x)\n",
    "      skip = self.skip_conv2(skip)\n",
    "      x += F.interpolate(skip, size=x.size()[2:], mode='bilinear', align_corners=False)\n",
    "      x = F.relu(x)\n",
    "      x = self.conv3(x)\n",
    "      x = self.bn3(x)\n",
    "      x = F.relu(x)\n",
    "      x = self.pool(x)\n",
    "      x = x.view(-1, 256 * 8 * 8)\n",
    "      x = F.relu(self.fc1(x))\n",
    "      x = self.fc2(x)\n",
    "      return x"
   ]
  },
  {
   "cell_type": "code",
   "execution_count": null,
   "metadata": {},
   "outputs": [],
   "source": [
    "model_ft = CaltechCNN(num_classes=num_classes)\n",
    "model_ft = model_ft.to(device)\n",
    "print(model_ft)"
   ]
  },
  {
   "cell_type": "markdown",
   "metadata": {
    "id": "_1ZKm2M2FeTI"
   },
   "source": [
    "#### Use the pre-trained models\n",
    "\n",
    "* Load the pre-trained model\n",
    "* Train and evaluate the images"
   ]
  },
  {
   "cell_type": "markdown",
   "metadata": {},
   "source": [
    "<b> Now using Pretrained GoogleNet model <\\b>"
   ]
  },
  {
   "cell_type": "code",
   "execution_count": 20,
   "metadata": {
    "colab": {
     "base_uri": "https://localhost:8080/"
    },
    "id": "ckLKFtR3KDIj",
    "outputId": "31992d92-7f6d-45d2-9974-7980339c8755"
   },
   "outputs": [
    {
     "name": "stderr",
     "output_type": "stream",
     "text": [
      "C:\\Users\\abhay\\AppData\\Roaming\\Python\\Python310\\site-packages\\torchvision\\models\\_utils.py:208: UserWarning: The parameter 'pretrained' is deprecated since 0.13 and may be removed in the future, please use 'weights' instead.\n",
      "  warnings.warn(\n",
      "C:\\Users\\abhay\\AppData\\Roaming\\Python\\Python310\\site-packages\\torchvision\\models\\_utils.py:223: UserWarning: Arguments other than a weight enum or `None` for 'weights' are deprecated since 0.13 and may be removed in the future. The current behavior is equivalent to passing `weights=GoogLeNet_Weights.IMAGENET1K_V1`. You can also use `weights=GoogLeNet_Weights.DEFAULT` to get the most up-to-date weights.\n",
      "  warnings.warn(msg)\n"
     ]
    },
    {
     "name": "stdout",
     "output_type": "stream",
     "text": [
      "GoogLeNet(\n",
      "  (conv1): BasicConv2d(\n",
      "    (conv): Conv2d(3, 64, kernel_size=(7, 7), stride=(2, 2), padding=(3, 3), bias=False)\n",
      "    (bn): BatchNorm2d(64, eps=0.001, momentum=0.1, affine=True, track_running_stats=True)\n",
      "  )\n",
      "  (maxpool1): MaxPool2d(kernel_size=3, stride=2, padding=0, dilation=1, ceil_mode=True)\n",
      "  (conv2): BasicConv2d(\n",
      "    (conv): Conv2d(64, 64, kernel_size=(1, 1), stride=(1, 1), bias=False)\n",
      "    (bn): BatchNorm2d(64, eps=0.001, momentum=0.1, affine=True, track_running_stats=True)\n",
      "  )\n",
      "  (conv3): BasicConv2d(\n",
      "    (conv): Conv2d(64, 192, kernel_size=(3, 3), stride=(1, 1), padding=(1, 1), bias=False)\n",
      "    (bn): BatchNorm2d(192, eps=0.001, momentum=0.1, affine=True, track_running_stats=True)\n",
      "  )\n",
      "  (maxpool2): MaxPool2d(kernel_size=3, stride=2, padding=0, dilation=1, ceil_mode=True)\n",
      "  (inception3a): Inception(\n",
      "    (branch1): BasicConv2d(\n",
      "      (conv): Conv2d(192, 64, kernel_size=(1, 1), stride=(1, 1), bias=False)\n",
      "      (bn): BatchNorm2d(64, eps=0.001, momentum=0.1, affine=True, track_running_stats=True)\n",
      "    )\n",
      "    (branch2): Sequential(\n",
      "      (0): BasicConv2d(\n",
      "        (conv): Conv2d(192, 96, kernel_size=(1, 1), stride=(1, 1), bias=False)\n",
      "        (bn): BatchNorm2d(96, eps=0.001, momentum=0.1, affine=True, track_running_stats=True)\n",
      "      )\n",
      "      (1): BasicConv2d(\n",
      "        (conv): Conv2d(96, 128, kernel_size=(3, 3), stride=(1, 1), padding=(1, 1), bias=False)\n",
      "        (bn): BatchNorm2d(128, eps=0.001, momentum=0.1, affine=True, track_running_stats=True)\n",
      "      )\n",
      "    )\n",
      "    (branch3): Sequential(\n",
      "      (0): BasicConv2d(\n",
      "        (conv): Conv2d(192, 16, kernel_size=(1, 1), stride=(1, 1), bias=False)\n",
      "        (bn): BatchNorm2d(16, eps=0.001, momentum=0.1, affine=True, track_running_stats=True)\n",
      "      )\n",
      "      (1): BasicConv2d(\n",
      "        (conv): Conv2d(16, 32, kernel_size=(3, 3), stride=(1, 1), padding=(1, 1), bias=False)\n",
      "        (bn): BatchNorm2d(32, eps=0.001, momentum=0.1, affine=True, track_running_stats=True)\n",
      "      )\n",
      "    )\n",
      "    (branch4): Sequential(\n",
      "      (0): MaxPool2d(kernel_size=3, stride=1, padding=1, dilation=1, ceil_mode=True)\n",
      "      (1): BasicConv2d(\n",
      "        (conv): Conv2d(192, 32, kernel_size=(1, 1), stride=(1, 1), bias=False)\n",
      "        (bn): BatchNorm2d(32, eps=0.001, momentum=0.1, affine=True, track_running_stats=True)\n",
      "      )\n",
      "    )\n",
      "  )\n",
      "  (inception3b): Inception(\n",
      "    (branch1): BasicConv2d(\n",
      "      (conv): Conv2d(256, 128, kernel_size=(1, 1), stride=(1, 1), bias=False)\n",
      "      (bn): BatchNorm2d(128, eps=0.001, momentum=0.1, affine=True, track_running_stats=True)\n",
      "    )\n",
      "    (branch2): Sequential(\n",
      "      (0): BasicConv2d(\n",
      "        (conv): Conv2d(256, 128, kernel_size=(1, 1), stride=(1, 1), bias=False)\n",
      "        (bn): BatchNorm2d(128, eps=0.001, momentum=0.1, affine=True, track_running_stats=True)\n",
      "      )\n",
      "      (1): BasicConv2d(\n",
      "        (conv): Conv2d(128, 192, kernel_size=(3, 3), stride=(1, 1), padding=(1, 1), bias=False)\n",
      "        (bn): BatchNorm2d(192, eps=0.001, momentum=0.1, affine=True, track_running_stats=True)\n",
      "      )\n",
      "    )\n",
      "    (branch3): Sequential(\n",
      "      (0): BasicConv2d(\n",
      "        (conv): Conv2d(256, 32, kernel_size=(1, 1), stride=(1, 1), bias=False)\n",
      "        (bn): BatchNorm2d(32, eps=0.001, momentum=0.1, affine=True, track_running_stats=True)\n",
      "      )\n",
      "      (1): BasicConv2d(\n",
      "        (conv): Conv2d(32, 96, kernel_size=(3, 3), stride=(1, 1), padding=(1, 1), bias=False)\n",
      "        (bn): BatchNorm2d(96, eps=0.001, momentum=0.1, affine=True, track_running_stats=True)\n",
      "      )\n",
      "    )\n",
      "    (branch4): Sequential(\n",
      "      (0): MaxPool2d(kernel_size=3, stride=1, padding=1, dilation=1, ceil_mode=True)\n",
      "      (1): BasicConv2d(\n",
      "        (conv): Conv2d(256, 64, kernel_size=(1, 1), stride=(1, 1), bias=False)\n",
      "        (bn): BatchNorm2d(64, eps=0.001, momentum=0.1, affine=True, track_running_stats=True)\n",
      "      )\n",
      "    )\n",
      "  )\n",
      "  (maxpool3): MaxPool2d(kernel_size=3, stride=2, padding=0, dilation=1, ceil_mode=True)\n",
      "  (inception4a): Inception(\n",
      "    (branch1): BasicConv2d(\n",
      "      (conv): Conv2d(480, 192, kernel_size=(1, 1), stride=(1, 1), bias=False)\n",
      "      (bn): BatchNorm2d(192, eps=0.001, momentum=0.1, affine=True, track_running_stats=True)\n",
      "    )\n",
      "    (branch2): Sequential(\n",
      "      (0): BasicConv2d(\n",
      "        (conv): Conv2d(480, 96, kernel_size=(1, 1), stride=(1, 1), bias=False)\n",
      "        (bn): BatchNorm2d(96, eps=0.001, momentum=0.1, affine=True, track_running_stats=True)\n",
      "      )\n",
      "      (1): BasicConv2d(\n",
      "        (conv): Conv2d(96, 208, kernel_size=(3, 3), stride=(1, 1), padding=(1, 1), bias=False)\n",
      "        (bn): BatchNorm2d(208, eps=0.001, momentum=0.1, affine=True, track_running_stats=True)\n",
      "      )\n",
      "    )\n",
      "    (branch3): Sequential(\n",
      "      (0): BasicConv2d(\n",
      "        (conv): Conv2d(480, 16, kernel_size=(1, 1), stride=(1, 1), bias=False)\n",
      "        (bn): BatchNorm2d(16, eps=0.001, momentum=0.1, affine=True, track_running_stats=True)\n",
      "      )\n",
      "      (1): BasicConv2d(\n",
      "        (conv): Conv2d(16, 48, kernel_size=(3, 3), stride=(1, 1), padding=(1, 1), bias=False)\n",
      "        (bn): BatchNorm2d(48, eps=0.001, momentum=0.1, affine=True, track_running_stats=True)\n",
      "      )\n",
      "    )\n",
      "    (branch4): Sequential(\n",
      "      (0): MaxPool2d(kernel_size=3, stride=1, padding=1, dilation=1, ceil_mode=True)\n",
      "      (1): BasicConv2d(\n",
      "        (conv): Conv2d(480, 64, kernel_size=(1, 1), stride=(1, 1), bias=False)\n",
      "        (bn): BatchNorm2d(64, eps=0.001, momentum=0.1, affine=True, track_running_stats=True)\n",
      "      )\n",
      "    )\n",
      "  )\n",
      "  (inception4b): Inception(\n",
      "    (branch1): BasicConv2d(\n",
      "      (conv): Conv2d(512, 160, kernel_size=(1, 1), stride=(1, 1), bias=False)\n",
      "      (bn): BatchNorm2d(160, eps=0.001, momentum=0.1, affine=True, track_running_stats=True)\n",
      "    )\n",
      "    (branch2): Sequential(\n",
      "      (0): BasicConv2d(\n",
      "        (conv): Conv2d(512, 112, kernel_size=(1, 1), stride=(1, 1), bias=False)\n",
      "        (bn): BatchNorm2d(112, eps=0.001, momentum=0.1, affine=True, track_running_stats=True)\n",
      "      )\n",
      "      (1): BasicConv2d(\n",
      "        (conv): Conv2d(112, 224, kernel_size=(3, 3), stride=(1, 1), padding=(1, 1), bias=False)\n",
      "        (bn): BatchNorm2d(224, eps=0.001, momentum=0.1, affine=True, track_running_stats=True)\n",
      "      )\n",
      "    )\n",
      "    (branch3): Sequential(\n",
      "      (0): BasicConv2d(\n",
      "        (conv): Conv2d(512, 24, kernel_size=(1, 1), stride=(1, 1), bias=False)\n",
      "        (bn): BatchNorm2d(24, eps=0.001, momentum=0.1, affine=True, track_running_stats=True)\n",
      "      )\n",
      "      (1): BasicConv2d(\n",
      "        (conv): Conv2d(24, 64, kernel_size=(3, 3), stride=(1, 1), padding=(1, 1), bias=False)\n",
      "        (bn): BatchNorm2d(64, eps=0.001, momentum=0.1, affine=True, track_running_stats=True)\n",
      "      )\n",
      "    )\n",
      "    (branch4): Sequential(\n",
      "      (0): MaxPool2d(kernel_size=3, stride=1, padding=1, dilation=1, ceil_mode=True)\n",
      "      (1): BasicConv2d(\n",
      "        (conv): Conv2d(512, 64, kernel_size=(1, 1), stride=(1, 1), bias=False)\n",
      "        (bn): BatchNorm2d(64, eps=0.001, momentum=0.1, affine=True, track_running_stats=True)\n",
      "      )\n",
      "    )\n",
      "  )\n",
      "  (inception4c): Inception(\n",
      "    (branch1): BasicConv2d(\n",
      "      (conv): Conv2d(512, 128, kernel_size=(1, 1), stride=(1, 1), bias=False)\n",
      "      (bn): BatchNorm2d(128, eps=0.001, momentum=0.1, affine=True, track_running_stats=True)\n",
      "    )\n",
      "    (branch2): Sequential(\n",
      "      (0): BasicConv2d(\n",
      "        (conv): Conv2d(512, 128, kernel_size=(1, 1), stride=(1, 1), bias=False)\n",
      "        (bn): BatchNorm2d(128, eps=0.001, momentum=0.1, affine=True, track_running_stats=True)\n",
      "      )\n",
      "      (1): BasicConv2d(\n",
      "        (conv): Conv2d(128, 256, kernel_size=(3, 3), stride=(1, 1), padding=(1, 1), bias=False)\n",
      "        (bn): BatchNorm2d(256, eps=0.001, momentum=0.1, affine=True, track_running_stats=True)\n",
      "      )\n",
      "    )\n",
      "    (branch3): Sequential(\n",
      "      (0): BasicConv2d(\n",
      "        (conv): Conv2d(512, 24, kernel_size=(1, 1), stride=(1, 1), bias=False)\n",
      "        (bn): BatchNorm2d(24, eps=0.001, momentum=0.1, affine=True, track_running_stats=True)\n",
      "      )\n",
      "      (1): BasicConv2d(\n",
      "        (conv): Conv2d(24, 64, kernel_size=(3, 3), stride=(1, 1), padding=(1, 1), bias=False)\n",
      "        (bn): BatchNorm2d(64, eps=0.001, momentum=0.1, affine=True, track_running_stats=True)\n",
      "      )\n",
      "    )\n",
      "    (branch4): Sequential(\n",
      "      (0): MaxPool2d(kernel_size=3, stride=1, padding=1, dilation=1, ceil_mode=True)\n",
      "      (1): BasicConv2d(\n",
      "        (conv): Conv2d(512, 64, kernel_size=(1, 1), stride=(1, 1), bias=False)\n",
      "        (bn): BatchNorm2d(64, eps=0.001, momentum=0.1, affine=True, track_running_stats=True)\n",
      "      )\n",
      "    )\n",
      "  )\n",
      "  (inception4d): Inception(\n",
      "    (branch1): BasicConv2d(\n",
      "      (conv): Conv2d(512, 112, kernel_size=(1, 1), stride=(1, 1), bias=False)\n",
      "      (bn): BatchNorm2d(112, eps=0.001, momentum=0.1, affine=True, track_running_stats=True)\n",
      "    )\n",
      "    (branch2): Sequential(\n",
      "      (0): BasicConv2d(\n",
      "        (conv): Conv2d(512, 144, kernel_size=(1, 1), stride=(1, 1), bias=False)\n",
      "        (bn): BatchNorm2d(144, eps=0.001, momentum=0.1, affine=True, track_running_stats=True)\n",
      "      )\n",
      "      (1): BasicConv2d(\n",
      "        (conv): Conv2d(144, 288, kernel_size=(3, 3), stride=(1, 1), padding=(1, 1), bias=False)\n",
      "        (bn): BatchNorm2d(288, eps=0.001, momentum=0.1, affine=True, track_running_stats=True)\n",
      "      )\n",
      "    )\n",
      "    (branch3): Sequential(\n",
      "      (0): BasicConv2d(\n",
      "        (conv): Conv2d(512, 32, kernel_size=(1, 1), stride=(1, 1), bias=False)\n",
      "        (bn): BatchNorm2d(32, eps=0.001, momentum=0.1, affine=True, track_running_stats=True)\n",
      "      )\n",
      "      (1): BasicConv2d(\n",
      "        (conv): Conv2d(32, 64, kernel_size=(3, 3), stride=(1, 1), padding=(1, 1), bias=False)\n",
      "        (bn): BatchNorm2d(64, eps=0.001, momentum=0.1, affine=True, track_running_stats=True)\n",
      "      )\n",
      "    )\n",
      "    (branch4): Sequential(\n",
      "      (0): MaxPool2d(kernel_size=3, stride=1, padding=1, dilation=1, ceil_mode=True)\n",
      "      (1): BasicConv2d(\n",
      "        (conv): Conv2d(512, 64, kernel_size=(1, 1), stride=(1, 1), bias=False)\n",
      "        (bn): BatchNorm2d(64, eps=0.001, momentum=0.1, affine=True, track_running_stats=True)\n",
      "      )\n",
      "    )\n",
      "  )\n",
      "  (inception4e): Inception(\n",
      "    (branch1): BasicConv2d(\n",
      "      (conv): Conv2d(528, 256, kernel_size=(1, 1), stride=(1, 1), bias=False)\n",
      "      (bn): BatchNorm2d(256, eps=0.001, momentum=0.1, affine=True, track_running_stats=True)\n",
      "    )\n",
      "    (branch2): Sequential(\n",
      "      (0): BasicConv2d(\n",
      "        (conv): Conv2d(528, 160, kernel_size=(1, 1), stride=(1, 1), bias=False)\n",
      "        (bn): BatchNorm2d(160, eps=0.001, momentum=0.1, affine=True, track_running_stats=True)\n",
      "      )\n",
      "      (1): BasicConv2d(\n",
      "        (conv): Conv2d(160, 320, kernel_size=(3, 3), stride=(1, 1), padding=(1, 1), bias=False)\n",
      "        (bn): BatchNorm2d(320, eps=0.001, momentum=0.1, affine=True, track_running_stats=True)\n",
      "      )\n",
      "    )\n",
      "    (branch3): Sequential(\n",
      "      (0): BasicConv2d(\n",
      "        (conv): Conv2d(528, 32, kernel_size=(1, 1), stride=(1, 1), bias=False)\n",
      "        (bn): BatchNorm2d(32, eps=0.001, momentum=0.1, affine=True, track_running_stats=True)\n",
      "      )\n",
      "      (1): BasicConv2d(\n",
      "        (conv): Conv2d(32, 128, kernel_size=(3, 3), stride=(1, 1), padding=(1, 1), bias=False)\n",
      "        (bn): BatchNorm2d(128, eps=0.001, momentum=0.1, affine=True, track_running_stats=True)\n",
      "      )\n",
      "    )\n",
      "    (branch4): Sequential(\n",
      "      (0): MaxPool2d(kernel_size=3, stride=1, padding=1, dilation=1, ceil_mode=True)\n",
      "      (1): BasicConv2d(\n",
      "        (conv): Conv2d(528, 128, kernel_size=(1, 1), stride=(1, 1), bias=False)\n",
      "        (bn): BatchNorm2d(128, eps=0.001, momentum=0.1, affine=True, track_running_stats=True)\n",
      "      )\n",
      "    )\n",
      "  )\n",
      "  (maxpool4): MaxPool2d(kernel_size=2, stride=2, padding=0, dilation=1, ceil_mode=True)\n",
      "  (inception5a): Inception(\n",
      "    (branch1): BasicConv2d(\n",
      "      (conv): Conv2d(832, 256, kernel_size=(1, 1), stride=(1, 1), bias=False)\n",
      "      (bn): BatchNorm2d(256, eps=0.001, momentum=0.1, affine=True, track_running_stats=True)\n",
      "    )\n",
      "    (branch2): Sequential(\n",
      "      (0): BasicConv2d(\n",
      "        (conv): Conv2d(832, 160, kernel_size=(1, 1), stride=(1, 1), bias=False)\n",
      "        (bn): BatchNorm2d(160, eps=0.001, momentum=0.1, affine=True, track_running_stats=True)\n",
      "      )\n",
      "      (1): BasicConv2d(\n",
      "        (conv): Conv2d(160, 320, kernel_size=(3, 3), stride=(1, 1), padding=(1, 1), bias=False)\n",
      "        (bn): BatchNorm2d(320, eps=0.001, momentum=0.1, affine=True, track_running_stats=True)\n",
      "      )\n",
      "    )\n",
      "    (branch3): Sequential(\n",
      "      (0): BasicConv2d(\n",
      "        (conv): Conv2d(832, 32, kernel_size=(1, 1), stride=(1, 1), bias=False)\n",
      "        (bn): BatchNorm2d(32, eps=0.001, momentum=0.1, affine=True, track_running_stats=True)\n",
      "      )\n",
      "      (1): BasicConv2d(\n",
      "        (conv): Conv2d(32, 128, kernel_size=(3, 3), stride=(1, 1), padding=(1, 1), bias=False)\n",
      "        (bn): BatchNorm2d(128, eps=0.001, momentum=0.1, affine=True, track_running_stats=True)\n",
      "      )\n",
      "    )\n",
      "    (branch4): Sequential(\n",
      "      (0): MaxPool2d(kernel_size=3, stride=1, padding=1, dilation=1, ceil_mode=True)\n",
      "      (1): BasicConv2d(\n",
      "        (conv): Conv2d(832, 128, kernel_size=(1, 1), stride=(1, 1), bias=False)\n",
      "        (bn): BatchNorm2d(128, eps=0.001, momentum=0.1, affine=True, track_running_stats=True)\n",
      "      )\n",
      "    )\n",
      "  )\n",
      "  (inception5b): Inception(\n",
      "    (branch1): BasicConv2d(\n",
      "      (conv): Conv2d(832, 384, kernel_size=(1, 1), stride=(1, 1), bias=False)\n",
      "      (bn): BatchNorm2d(384, eps=0.001, momentum=0.1, affine=True, track_running_stats=True)\n",
      "    )\n",
      "    (branch2): Sequential(\n",
      "      (0): BasicConv2d(\n",
      "        (conv): Conv2d(832, 192, kernel_size=(1, 1), stride=(1, 1), bias=False)\n",
      "        (bn): BatchNorm2d(192, eps=0.001, momentum=0.1, affine=True, track_running_stats=True)\n",
      "      )\n",
      "      (1): BasicConv2d(\n",
      "        (conv): Conv2d(192, 384, kernel_size=(3, 3), stride=(1, 1), padding=(1, 1), bias=False)\n",
      "        (bn): BatchNorm2d(384, eps=0.001, momentum=0.1, affine=True, track_running_stats=True)\n",
      "      )\n",
      "    )\n",
      "    (branch3): Sequential(\n",
      "      (0): BasicConv2d(\n",
      "        (conv): Conv2d(832, 48, kernel_size=(1, 1), stride=(1, 1), bias=False)\n",
      "        (bn): BatchNorm2d(48, eps=0.001, momentum=0.1, affine=True, track_running_stats=True)\n",
      "      )\n",
      "      (1): BasicConv2d(\n",
      "        (conv): Conv2d(48, 128, kernel_size=(3, 3), stride=(1, 1), padding=(1, 1), bias=False)\n",
      "        (bn): BatchNorm2d(128, eps=0.001, momentum=0.1, affine=True, track_running_stats=True)\n",
      "      )\n",
      "    )\n",
      "    (branch4): Sequential(\n",
      "      (0): MaxPool2d(kernel_size=3, stride=1, padding=1, dilation=1, ceil_mode=True)\n",
      "      (1): BasicConv2d(\n",
      "        (conv): Conv2d(832, 128, kernel_size=(1, 1), stride=(1, 1), bias=False)\n",
      "        (bn): BatchNorm2d(128, eps=0.001, momentum=0.1, affine=True, track_running_stats=True)\n",
      "      )\n",
      "    )\n",
      "  )\n",
      "  (aux1): None\n",
      "  (aux2): None\n",
      "  (avgpool): AdaptiveAvgPool2d(output_size=(1, 1))\n",
      "  (dropout): Dropout(p=0.2, inplace=False)\n",
      "  (fc): Linear(in_features=1024, out_features=257, bias=True)\n",
      ")\n"
     ]
    }
   ],
   "source": [
    "model_ft = models.googlenet(pretrained=True)\n",
    "num_ftrs = model_ft.fc.in_features\n",
    "model_ft.fc = nn.Linear(num_ftrs,num_classes)\n",
    "#model.softmax = nn.softmax()\n",
    "model_ft = model_ft.to(device)\n",
    "print(model_ft)"
   ]
  },
  {
   "cell_type": "code",
   "execution_count": 21,
   "metadata": {},
   "outputs": [
    {
     "data": {
      "text/plain": [
       "<All keys matched successfully>"
      ]
     },
     "execution_count": 21,
     "metadata": {},
     "output_type": "execute_result"
    }
   ],
   "source": [
    "## use this cell to perform incremental training of the saved models:\n",
    "\n",
    "# PATH='CalTech-256-GoogleNet_v307_2307.pth'\n",
    "# model_ft.load_state_dict(torch.load(PATH))"
   ]
  },
  {
   "cell_type": "code",
   "execution_count": 22,
   "metadata": {
    "id": "C85LEWZeKDLq"
   },
   "outputs": [],
   "source": [
    "criterion = nn.CrossEntropyLoss(weight=class_weights).to(device)\n",
    "optimizer = optim.Adam(model_ft.parameters(), lr=0.001)"
   ]
  },
  {
   "cell_type": "code",
   "execution_count": 23,
   "metadata": {
    "id": "lVpIc9ZIELmi"
   },
   "outputs": [],
   "source": [
    "epsilon = 0.005  # Perturbation strength for FGSM"
   ]
  },
  {
   "cell_type": "code",
   "execution_count": 24,
   "metadata": {
    "id": "NMwER9i_g023"
   },
   "outputs": [],
   "source": [
    "train_accu = []     # Empty list for saving train accuracy\n",
    "train_losses = []   # Empty list for saving train losses\n",
    "val_accu = []"
   ]
  },
  {
   "cell_type": "code",
   "execution_count": null,
   "metadata": {},
   "outputs": [],
   "source": [
    "# Tried making the below training an Adversarial Robustness with FGSM"
   ]
  },
  {
   "cell_type": "code",
   "execution_count": 31,
   "metadata": {
    "id": "Bk3qQgcYKDOi"
   },
   "outputs": [],
   "source": [
    "def train(epoch):\n",
    "  print('\\nEpoch : %d'%epoch)\n",
    "\n",
    "  model_ft.train()    # Initiate the model in training mode\n",
    "\n",
    "  running_loss = 0\n",
    "  correct = 0\n",
    "  total = 0\n",
    "\n",
    "  for data in tqdm(train_loader):\n",
    "\n",
    "    inputs,labels=data[0].to(device),data[1].to(device)   # Loading the input tensors into CUDA GPU\n",
    "    # print(inputs,labels)\n",
    "    # Generate adversarial examples using FGSM\n",
    "    # inputs.requires_grad = True\n",
    "\n",
    "    optimizer.zero_grad()\n",
    "    outputs = model_ft(inputs)\n",
    "    loss = criterion(outputs,labels)  # Calculating the loss\n",
    "    loss.backward()                   # Back Propagation for calculaing gradients and adjusting weights\n",
    "\n",
    "    # Create perturbations based on the sign of gradients\n",
    "    # inputs_grad = inputs.grad.data\n",
    "    # perturbed_inputs = torch.clamp(inputs + epsilon * torch.sign(inputs_grad), 0, 1)\n",
    "    # perturbed_inputs = perturbed_inputs.detach()\n",
    "\n",
    "    # # Perform forward pass with perturbed inputs\n",
    "    # outputs = model_ft(perturbed_inputs)\n",
    "    # loss = criterion(outputs, labels)\n",
    "    # loss.backward()\n",
    "\n",
    "    optimizer.step()\n",
    "\n",
    "    running_loss += loss.item()\n",
    "\n",
    "    _, predicted = outputs.max(1)\n",
    "    total += labels.size(0)\n",
    "    correct += predicted.eq(labels).sum().item()\n",
    "\n",
    "\n",
    "\n",
    "\n",
    "  train_loss = running_loss/len(train_loader)     # Calculating the mean of training loss\n",
    "  accu = 100.*correct/total                       # Calculating the accuracy\n",
    "\n",
    "  train_accu.append(accu)\n",
    "  train_losses.append(train_loss)\n",
    "  print('Train Loss: %.3f | Accuracy: %.3f'%(train_loss,accu))"
   ]
  },
  {
   "cell_type": "markdown",
   "metadata": {},
   "source": [
    "<b>The below Eval_Val function also outputs Top N wrong predictions against their Ground Truth Label</b>"
   ]
  },
  {
   "cell_type": "code",
   "execution_count": 32,
   "metadata": {
    "id": "eVdTbFgifCfi"
   },
   "outputs": [],
   "source": [
    "  # Validation\n",
    "def eval_val(epoch):\n",
    "    model_ft.eval()\n",
    "    wrong_predictions = []\n",
    "    val_loss = 0\n",
    "    correct = 0\n",
    "    total = 0\n",
    "\n",
    "    with torch.no_grad():\n",
    "      for i, data in enumerate(val_loader, 0):\n",
    "        inputs, labels = data[0].to(device), data[1].to(device)\n",
    "        outputs = model_ft(inputs)\n",
    "        loss = criterion(outputs, labels)\n",
    "        # Get predicted labels\n",
    "        _, predicted = torch.max(outputs.data, 1)\n",
    "\n",
    "        # Find wrong predictions\n",
    "        for j in range(len(predicted)):\n",
    "          if predicted[j] != labels[j]:\n",
    "              wrong_predictions.append({\n",
    "                  'input': inputs[j],\n",
    "                  'predicted_label': predicted[j].item(),\n",
    "                  'true_label': labels[j].item()\n",
    "              })\n",
    "        # print(val_loss)\n",
    "        val_loss += loss.item()\n",
    "        total += labels.size(0)\n",
    "        correct += predicted.eq(labels).sum().item()\n",
    "\n",
    "\n",
    "    val_batch_loss = val_loss/len(val_loader)\n",
    "    val_batch_accu = 100.*correct/total                       # Calculating the accuracy\n",
    "    val_accu.append(val_batch_accu)\n",
    "    print('Val Loss: %.3f| Accuracy: %.3f' %(val_batch_loss,val_batch_accu))\n",
    "\n",
    "    print('Top 5 Wrong Predictions in Validation Set:')\n",
    "    counter = Counter([prediction['true_label'] for prediction in wrong_predictions])\n",
    "    top_wrong_predictions = counter.most_common(5)\n",
    "\n",
    "    for true_label, count in top_wrong_predictions:\n",
    "        print(f'True Label: {true_label}, Count: {count}')\n",
    "        filtered_predictions = [prediction for prediction in wrong_predictions\n",
    "                                if prediction['true_label'] == true_label][:5]\n",
    "        for prediction in filtered_predictions:\n",
    "            input_image = prediction['input']\n",
    "            predicted_label = prediction['predicted_label']\n",
    "            true_label = prediction['true_label']\n",
    "            print(f'Predicted Label: {predicted_label}, True Label: {true_label}')\n",
    "\n",
    "\n",
    "    # # Print details of wrong predictions\n",
    "    # print('Wrong Predictions in Validation Set:')\n",
    "    # for prediction in wrong_predictions:\n",
    "    #     input_image = prediction['input']\n",
    "    #     predicted_label = prediction['predicted_label']\n",
    "    #     true_label = prediction['true_label']\n",
    "    #     print(f'Predicted Label: {predicted_label}, True Label: {true_label}')\n",
    "    #     # Additional code to visualize or process the input image if needed\n"
   ]
  },
  {
   "cell_type": "code",
   "execution_count": 42,
   "metadata": {},
   "outputs": [
    {
     "name": "stdout",
     "output_type": "stream",
     "text": [
      "\n",
      "Epoch : 1\n"
     ]
    },
    {
     "name": "stderr",
     "output_type": "stream",
     "text": [
      "100%|████████████████████████████████████████████████████████████████████████████████| 861/861 [06:49<00:00,  2.10it/s]\n"
     ]
    },
    {
     "name": "stdout",
     "output_type": "stream",
     "text": [
      "Train Loss: 0.508 | Accuracy: 86.390\n",
      "Val Loss: 0.613| Accuracy: 84.156\n",
      "Top 5 Wrong Predictions in Validation Set:\n",
      "True Label: 256, Count: 34\n",
      "Predicted Label: 25, True Label: 256\n",
      "Predicted Label: 232, True Label: 256\n",
      "Predicted Label: 202, True Label: 256\n",
      "Predicted Label: 89, True Label: 256\n",
      "Predicted Label: 91, True Label: 256\n",
      "True Label: 125, Count: 14\n",
      "Predicted Label: 134, True Label: 125\n",
      "Predicted Label: 228, True Label: 125\n",
      "Predicted Label: 149, True Label: 125\n",
      "Predicted Label: 209, True Label: 125\n",
      "Predicted Label: 256, True Label: 125\n",
      "True Label: 231, Count: 10\n",
      "Predicted Label: 234, True Label: 231\n",
      "Predicted Label: 116, True Label: 231\n",
      "Predicted Label: 158, True Label: 231\n",
      "Predicted Label: 222, True Label: 231\n",
      "Predicted Label: 217, True Label: 231\n",
      "True Label: 39, Count: 9\n",
      "Predicted Label: 197, True Label: 39\n",
      "Predicted Label: 98, True Label: 39\n",
      "Predicted Label: 242, True Label: 39\n",
      "Predicted Label: 176, True Label: 39\n",
      "Predicted Label: 4, True Label: 39\n",
      "True Label: 146, Count: 9\n",
      "Predicted Label: 105, True Label: 146\n",
      "Predicted Label: 4, True Label: 146\n",
      "Predicted Label: 195, True Label: 146\n",
      "Predicted Label: 152, True Label: 146\n",
      "Predicted Label: 25, True Label: 146\n",
      "\n",
      "Epoch : 2\n"
     ]
    },
    {
     "name": "stderr",
     "output_type": "stream",
     "text": [
      "100%|████████████████████████████████████████████████████████████████████████████████| 861/861 [13:08<00:00,  1.09it/s]\n"
     ]
    },
    {
     "name": "stdout",
     "output_type": "stream",
     "text": [
      "Train Loss: 0.514 | Accuracy: 86.172\n",
      "Val Loss: 0.672| Accuracy: 82.881\n",
      "Top 5 Wrong Predictions in Validation Set:\n",
      "True Label: 256, Count: 30\n",
      "Predicted Label: 103, True Label: 256\n",
      "Predicted Label: 232, True Label: 256\n",
      "Predicted Label: 79, True Label: 256\n",
      "Predicted Label: 67, True Label: 256\n",
      "Predicted Label: 53, True Label: 256\n",
      "True Label: 125, Count: 13\n",
      "Predicted Label: 228, True Label: 125\n",
      "Predicted Label: 21, True Label: 125\n",
      "Predicted Label: 246, True Label: 125\n",
      "Predicted Label: 84, True Label: 125\n",
      "Predicted Label: 158, True Label: 125\n",
      "True Label: 104, Count: 12\n",
      "Predicted Label: 118, True Label: 104\n",
      "Predicted Label: 28, True Label: 104\n",
      "Predicted Label: 57, True Label: 104\n",
      "Predicted Label: 63, True Label: 104\n",
      "Predicted Label: 118, True Label: 104\n",
      "True Label: 146, Count: 11\n",
      "Predicted Label: 118, True Label: 146\n",
      "Predicted Label: 18, True Label: 146\n",
      "Predicted Label: 212, True Label: 146\n",
      "Predicted Label: 84, True Label: 146\n",
      "Predicted Label: 40, True Label: 146\n",
      "True Label: 231, Count: 10\n",
      "Predicted Label: 158, True Label: 231\n",
      "Predicted Label: 139, True Label: 231\n",
      "Predicted Label: 162, True Label: 231\n",
      "Predicted Label: 226, True Label: 231\n",
      "Predicted Label: 40, True Label: 231\n",
      "\n",
      "Epoch : 3\n"
     ]
    },
    {
     "name": "stderr",
     "output_type": "stream",
     "text": [
      "100%|████████████████████████████████████████████████████████████████████████████████| 861/861 [06:47<00:00,  2.11it/s]\n"
     ]
    },
    {
     "name": "stdout",
     "output_type": "stream",
     "text": [
      "Train Loss: 0.529 | Accuracy: 86.089\n",
      "Val Loss: 0.644| Accuracy: 82.849\n",
      "Top 5 Wrong Predictions in Validation Set:\n",
      "True Label: 256, Count: 27\n",
      "Predicted Label: 25, True Label: 256\n",
      "Predicted Label: 142, True Label: 256\n",
      "Predicted Label: 141, True Label: 256\n",
      "Predicted Label: 91, True Label: 256\n",
      "Predicted Label: 77, True Label: 256\n",
      "True Label: 125, Count: 19\n",
      "Predicted Label: 228, True Label: 125\n",
      "Predicted Label: 7, True Label: 125\n",
      "Predicted Label: 164, True Label: 125\n",
      "Predicted Label: 227, True Label: 125\n",
      "Predicted Label: 226, True Label: 125\n",
      "True Label: 104, Count: 11\n",
      "Predicted Label: 28, True Label: 104\n",
      "Predicted Label: 133, True Label: 104\n",
      "Predicted Label: 92, True Label: 104\n",
      "Predicted Label: 139, True Label: 104\n",
      "Predicted Label: 116, True Label: 104\n",
      "True Label: 146, Count: 10\n",
      "Predicted Label: 147, True Label: 146\n",
      "Predicted Label: 4, True Label: 146\n",
      "Predicted Label: 241, True Label: 146\n",
      "Predicted Label: 124, True Label: 146\n",
      "Predicted Label: 70, True Label: 146\n",
      "True Label: 95, Count: 8\n",
      "Predicted Label: 29, True Label: 95\n",
      "Predicted Label: 164, True Label: 95\n",
      "Predicted Label: 7, True Label: 95\n",
      "Predicted Label: 153, True Label: 95\n",
      "Predicted Label: 10, True Label: 95\n",
      "\n",
      "Epoch : 4\n"
     ]
    },
    {
     "name": "stderr",
     "output_type": "stream",
     "text": [
      "100%|████████████████████████████████████████████████████████████████████████████████| 861/861 [06:43<00:00,  2.13it/s]\n"
     ]
    },
    {
     "name": "stdout",
     "output_type": "stream",
     "text": [
      "Train Loss: 0.509 | Accuracy: 86.379\n",
      "Val Loss: 0.662| Accuracy: 83.241\n",
      "Top 5 Wrong Predictions in Validation Set:\n",
      "True Label: 256, Count: 24\n",
      "Predicted Label: 206, True Label: 256\n",
      "Predicted Label: 232, True Label: 256\n",
      "Predicted Label: 80, True Label: 256\n",
      "Predicted Label: 6, True Label: 256\n",
      "Predicted Label: 67, True Label: 256\n",
      "True Label: 231, Count: 12\n",
      "Predicted Label: 180, True Label: 231\n",
      "Predicted Label: 100, True Label: 231\n",
      "Predicted Label: 107, True Label: 231\n",
      "Predicted Label: 34, True Label: 231\n",
      "Predicted Label: 10, True Label: 231\n",
      "True Label: 39, Count: 10\n",
      "Predicted Label: 110, True Label: 39\n",
      "Predicted Label: 231, True Label: 39\n",
      "Predicted Label: 18, True Label: 39\n",
      "Predicted Label: 74, True Label: 39\n",
      "Predicted Label: 198, True Label: 39\n",
      "True Label: 125, Count: 10\n",
      "Predicted Label: 168, True Label: 125\n",
      "Predicted Label: 246, True Label: 125\n",
      "Predicted Label: 41, True Label: 125\n",
      "Predicted Label: 6, True Label: 125\n",
      "Predicted Label: 29, True Label: 125\n",
      "True Label: 146, Count: 9\n",
      "Predicted Label: 12, True Label: 146\n",
      "Predicted Label: 118, True Label: 146\n",
      "Predicted Label: 57, True Label: 146\n",
      "Predicted Label: 163, True Label: 146\n",
      "Predicted Label: 114, True Label: 146\n",
      "\n",
      "Epoch : 5\n"
     ]
    },
    {
     "name": "stderr",
     "output_type": "stream",
     "text": [
      "100%|████████████████████████████████████████████████████████████████████████████████| 861/861 [06:45<00:00,  2.12it/s]\n"
     ]
    },
    {
     "name": "stdout",
     "output_type": "stream",
     "text": [
      "Train Loss: 0.501 | Accuracy: 86.506\n",
      "Val Loss: 0.678| Accuracy: 82.228\n",
      "Top 5 Wrong Predictions in Validation Set:\n",
      "True Label: 256, Count: 35\n",
      "Predicted Label: 25, True Label: 256\n",
      "Predicted Label: 157, True Label: 256\n",
      "Predicted Label: 160, True Label: 256\n",
      "Predicted Label: 6, True Label: 256\n",
      "Predicted Label: 91, True Label: 256\n",
      "True Label: 125, Count: 11\n",
      "Predicted Label: 39, True Label: 125\n",
      "Predicted Label: 244, True Label: 125\n",
      "Predicted Label: 158, True Label: 125\n",
      "Predicted Label: 158, True Label: 125\n",
      "Predicted Label: 194, True Label: 125\n",
      "True Label: 231, Count: 10\n",
      "Predicted Label: 158, True Label: 231\n",
      "Predicted Label: 9, True Label: 231\n",
      "Predicted Label: 194, True Label: 231\n",
      "Predicted Label: 158, True Label: 231\n",
      "Predicted Label: 16, True Label: 231\n",
      "True Label: 104, Count: 9\n",
      "Predicted Label: 158, True Label: 104\n",
      "Predicted Label: 28, True Label: 104\n",
      "Predicted Label: 133, True Label: 104\n",
      "Predicted Label: 227, True Label: 104\n",
      "Predicted Label: 158, True Label: 104\n",
      "True Label: 95, Count: 9\n",
      "Predicted Label: 7, True Label: 95\n",
      "Predicted Label: 213, True Label: 95\n",
      "Predicted Label: 153, True Label: 95\n",
      "Predicted Label: 25, True Label: 95\n",
      "Predicted Label: 221, True Label: 95\n",
      "\n",
      "Epoch : 6\n"
     ]
    },
    {
     "name": "stderr",
     "output_type": "stream",
     "text": [
      "100%|████████████████████████████████████████████████████████████████████████████████| 861/861 [09:10<00:00,  1.56it/s]\n"
     ]
    },
    {
     "name": "stdout",
     "output_type": "stream",
     "text": [
      "Train Loss: 0.511 | Accuracy: 86.227\n",
      "Val Loss: 0.716| Accuracy: 81.542\n",
      "Top 5 Wrong Predictions in Validation Set:\n",
      "True Label: 256, Count: 24\n",
      "Predicted Label: 198, True Label: 256\n",
      "Predicted Label: 160, True Label: 256\n",
      "Predicted Label: 89, True Label: 256\n",
      "Predicted Label: 91, True Label: 256\n",
      "Predicted Label: 173, True Label: 256\n",
      "True Label: 250, Count: 15\n",
      "Predicted Label: 101, True Label: 250\n",
      "Predicted Label: 49, True Label: 250\n",
      "Predicted Label: 68, True Label: 250\n",
      "Predicted Label: 74, True Label: 250\n",
      "Predicted Label: 68, True Label: 250\n",
      "True Label: 125, Count: 13\n",
      "Predicted Label: 225, True Label: 125\n",
      "Predicted Label: 42, True Label: 125\n",
      "Predicted Label: 227, True Label: 125\n",
      "Predicted Label: 175, True Label: 125\n",
      "Predicted Label: 158, True Label: 125\n",
      "True Label: 104, Count: 12\n",
      "Predicted Label: 63, True Label: 104\n",
      "Predicted Label: 49, True Label: 104\n",
      "Predicted Label: 143, True Label: 104\n",
      "Predicted Label: 149, True Label: 104\n",
      "Predicted Label: 118, True Label: 104\n",
      "True Label: 95, Count: 11\n",
      "Predicted Label: 71, True Label: 95\n",
      "Predicted Label: 148, True Label: 95\n",
      "Predicted Label: 83, True Label: 95\n",
      "Predicted Label: 208, True Label: 95\n",
      "Predicted Label: 119, True Label: 95\n",
      "\n",
      "Epoch : 7\n"
     ]
    },
    {
     "name": "stderr",
     "output_type": "stream",
     "text": [
      "100%|████████████████████████████████████████████████████████████████████████████████| 861/861 [06:45<00:00,  2.13it/s]\n"
     ]
    },
    {
     "name": "stdout",
     "output_type": "stream",
     "text": [
      "Train Loss: 0.513 | Accuracy: 86.328\n",
      "Val Loss: 0.660| Accuracy: 82.489\n",
      "Top 5 Wrong Predictions in Validation Set:\n",
      "True Label: 256, Count: 22\n",
      "Predicted Label: 103, True Label: 256\n",
      "Predicted Label: 236, True Label: 256\n",
      "Predicted Label: 91, True Label: 256\n",
      "Predicted Label: 217, True Label: 256\n",
      "Predicted Label: 195, True Label: 256\n",
      "True Label: 125, Count: 15\n",
      "Predicted Label: 3, True Label: 125\n",
      "Predicted Label: 158, True Label: 125\n",
      "Predicted Label: 149, True Label: 125\n",
      "Predicted Label: 230, True Label: 125\n",
      "Predicted Label: 97, True Label: 125\n",
      "True Label: 95, Count: 10\n",
      "Predicted Label: 97, True Label: 95\n",
      "Predicted Label: 83, True Label: 95\n",
      "Predicted Label: 228, True Label: 95\n",
      "Predicted Label: 121, True Label: 95\n",
      "Predicted Label: 49, True Label: 95\n",
      "True Label: 104, Count: 9\n",
      "Predicted Label: 195, True Label: 104\n",
      "Predicted Label: 83, True Label: 104\n",
      "Predicted Label: 227, True Label: 104\n",
      "Predicted Label: 64, True Label: 104\n",
      "Predicted Label: 27, True Label: 104\n",
      "True Label: 194, Count: 9\n",
      "Predicted Label: 69, True Label: 194\n",
      "Predicted Label: 242, True Label: 194\n",
      "Predicted Label: 60, True Label: 194\n",
      "Predicted Label: 184, True Label: 194\n",
      "Predicted Label: 25, True Label: 194\n",
      "\n",
      "Epoch : 8\n"
     ]
    },
    {
     "name": "stderr",
     "output_type": "stream",
     "text": [
      "100%|████████████████████████████████████████████████████████████████████████████████| 861/861 [06:45<00:00,  2.12it/s]\n"
     ]
    },
    {
     "name": "stdout",
     "output_type": "stream",
     "text": [
      "Train Loss: 0.496 | Accuracy: 86.757\n",
      "Val Loss: 0.622| Accuracy: 83.567\n",
      "Top 5 Wrong Predictions in Validation Set:\n",
      "True Label: 256, Count: 29\n",
      "Predicted Label: 103, True Label: 256\n",
      "Predicted Label: 160, True Label: 256\n",
      "Predicted Label: 6, True Label: 256\n",
      "Predicted Label: 91, True Label: 256\n",
      "Predicted Label: 66, True Label: 256\n",
      "True Label: 125, Count: 14\n",
      "Predicted Label: 228, True Label: 125\n",
      "Predicted Label: 49, True Label: 125\n",
      "Predicted Label: 147, True Label: 125\n",
      "Predicted Label: 122, True Label: 125\n",
      "Predicted Label: 102, True Label: 125\n",
      "True Label: 95, Count: 11\n",
      "Predicted Label: 148, True Label: 95\n",
      "Predicted Label: 84, True Label: 95\n",
      "Predicted Label: 244, True Label: 95\n",
      "Predicted Label: 153, True Label: 95\n",
      "Predicted Label: 61, True Label: 95\n",
      "True Label: 104, Count: 9\n",
      "Predicted Label: 49, True Label: 104\n",
      "Predicted Label: 116, True Label: 104\n",
      "Predicted Label: 235, True Label: 104\n",
      "Predicted Label: 216, True Label: 104\n",
      "Predicted Label: 235, True Label: 104\n",
      "True Label: 39, Count: 7\n",
      "Predicted Label: 197, True Label: 39\n",
      "Predicted Label: 197, True Label: 39\n",
      "Predicted Label: 242, True Label: 39\n",
      "Predicted Label: 50, True Label: 39\n",
      "Predicted Label: 163, True Label: 39\n",
      "\n",
      "Epoch : 9\n"
     ]
    },
    {
     "name": "stderr",
     "output_type": "stream",
     "text": [
      "100%|████████████████████████████████████████████████████████████████████████████████| 861/861 [06:46<00:00,  2.12it/s]\n"
     ]
    },
    {
     "name": "stdout",
     "output_type": "stream",
     "text": [
      "Train Loss: 0.487 | Accuracy: 86.561\n",
      "Val Loss: 0.683| Accuracy: 82.130\n",
      "Top 5 Wrong Predictions in Validation Set:\n",
      "True Label: 256, Count: 26\n",
      "Predicted Label: 160, True Label: 256\n",
      "Predicted Label: 146, True Label: 256\n",
      "Predicted Label: 133, True Label: 256\n",
      "Predicted Label: 91, True Label: 256\n",
      "Predicted Label: 242, True Label: 256\n",
      "True Label: 125, Count: 11\n",
      "Predicted Label: 106, True Label: 125\n",
      "Predicted Label: 28, True Label: 125\n",
      "Predicted Label: 28, True Label: 125\n",
      "Predicted Label: 227, True Label: 125\n",
      "Predicted Label: 230, True Label: 125\n",
      "True Label: 231, Count: 11\n",
      "Predicted Label: 21, True Label: 231\n",
      "Predicted Label: 118, True Label: 231\n",
      "Predicted Label: 159, True Label: 231\n",
      "Predicted Label: 17, True Label: 231\n",
      "Predicted Label: 226, True Label: 231\n",
      "True Label: 188, Count: 10\n",
      "Predicted Label: 178, True Label: 188\n",
      "Predicted Label: 135, True Label: 188\n",
      "Predicted Label: 120, True Label: 188\n",
      "Predicted Label: 39, True Label: 188\n",
      "Predicted Label: 55, True Label: 188\n",
      "True Label: 211, Count: 9\n",
      "Predicted Label: 25, True Label: 211\n",
      "Predicted Label: 114, True Label: 211\n",
      "Predicted Label: 255, True Label: 211\n",
      "Predicted Label: 155, True Label: 211\n",
      "Predicted Label: 65, True Label: 211\n",
      "\n",
      "Epoch : 10\n"
     ]
    },
    {
     "name": "stderr",
     "output_type": "stream",
     "text": [
      "100%|████████████████████████████████████████████████████████████████████████████████| 861/861 [06:44<00:00,  2.13it/s]\n"
     ]
    },
    {
     "name": "stdout",
     "output_type": "stream",
     "text": [
      "Train Loss: 0.481 | Accuracy: 87.029\n",
      "Val Loss: 0.623| Accuracy: 83.763\n",
      "Top 5 Wrong Predictions in Validation Set:\n",
      "True Label: 256, Count: 40\n",
      "Predicted Label: 25, True Label: 256\n",
      "Predicted Label: 159, True Label: 256\n",
      "Predicted Label: 160, True Label: 256\n",
      "Predicted Label: 89, True Label: 256\n",
      "Predicted Label: 8, True Label: 256\n",
      "True Label: 250, Count: 14\n",
      "Predicted Label: 74, True Label: 250\n",
      "Predicted Label: 68, True Label: 250\n",
      "Predicted Label: 68, True Label: 250\n",
      "Predicted Label: 68, True Label: 250\n",
      "Predicted Label: 76, True Label: 250\n",
      "True Label: 125, Count: 12\n",
      "Predicted Label: 250, True Label: 125\n",
      "Predicted Label: 172, True Label: 125\n",
      "Predicted Label: 186, True Label: 125\n",
      "Predicted Label: 246, True Label: 125\n",
      "Predicted Label: 175, True Label: 125\n",
      "True Label: 231, Count: 10\n",
      "Predicted Label: 11, True Label: 231\n",
      "Predicted Label: 100, True Label: 231\n",
      "Predicted Label: 158, True Label: 231\n",
      "Predicted Label: 149, True Label: 231\n",
      "Predicted Label: 204, True Label: 231\n",
      "True Label: 95, Count: 10\n",
      "Predicted Label: 180, True Label: 95\n",
      "Predicted Label: 7, True Label: 95\n",
      "Predicted Label: 56, True Label: 95\n",
      "Predicted Label: 7, True Label: 95\n",
      "Predicted Label: 244, True Label: 95\n",
      "\n",
      "Epoch : 11\n"
     ]
    },
    {
     "name": "stderr",
     "output_type": "stream",
     "text": [
      "100%|████████████████████████████████████████████████████████████████████████████████| 861/861 [06:43<00:00,  2.13it/s]\n"
     ]
    },
    {
     "name": "stdout",
     "output_type": "stream",
     "text": [
      "Train Loss: 0.500 | Accuracy: 86.572\n",
      "Val Loss: 0.674| Accuracy: 82.849\n",
      "Top 5 Wrong Predictions in Validation Set:\n",
      "True Label: 256, Count: 31\n",
      "Predicted Label: 160, True Label: 256\n",
      "Predicted Label: 233, True Label: 256\n",
      "Predicted Label: 6, True Label: 256\n",
      "Predicted Label: 91, True Label: 256\n",
      "Predicted Label: 67, True Label: 256\n",
      "True Label: 125, Count: 15\n",
      "Predicted Label: 228, True Label: 125\n",
      "Predicted Label: 172, True Label: 125\n",
      "Predicted Label: 156, True Label: 125\n",
      "Predicted Label: 6, True Label: 125\n",
      "Predicted Label: 230, True Label: 125\n",
      "True Label: 146, Count: 11\n",
      "Predicted Label: 12, True Label: 146\n",
      "Predicted Label: 158, True Label: 146\n",
      "Predicted Label: 220, True Label: 146\n",
      "Predicted Label: 193, True Label: 146\n",
      "Predicted Label: 188, True Label: 146\n",
      "True Label: 250, Count: 11\n",
      "Predicted Label: 172, True Label: 250\n",
      "Predicted Label: 132, True Label: 250\n",
      "Predicted Label: 68, True Label: 250\n",
      "Predicted Label: 68, True Label: 250\n",
      "Predicted Label: 99, True Label: 250\n",
      "True Label: 231, Count: 10\n",
      "Predicted Label: 21, True Label: 231\n",
      "Predicted Label: 252, True Label: 231\n",
      "Predicted Label: 7, True Label: 231\n",
      "Predicted Label: 25, True Label: 231\n",
      "Predicted Label: 32, True Label: 231\n",
      "\n",
      "Epoch : 12\n"
     ]
    },
    {
     "name": "stderr",
     "output_type": "stream",
     "text": [
      "100%|████████████████████████████████████████████████████████████████████████████████| 861/861 [06:47<00:00,  2.11it/s]\n"
     ]
    },
    {
     "name": "stdout",
     "output_type": "stream",
     "text": [
      "Train Loss: 0.488 | Accuracy: 86.880\n",
      "Val Loss: 0.674| Accuracy: 83.045\n",
      "Top 5 Wrong Predictions in Validation Set:\n",
      "True Label: 256, Count: 35\n",
      "Predicted Label: 25, True Label: 256\n",
      "Predicted Label: 142, True Label: 256\n",
      "Predicted Label: 236, True Label: 256\n",
      "Predicted Label: 12, True Label: 256\n",
      "Predicted Label: 220, True Label: 256\n",
      "True Label: 125, Count: 12\n",
      "Predicted Label: 158, True Label: 125\n",
      "Predicted Label: 7, True Label: 125\n",
      "Predicted Label: 147, True Label: 125\n",
      "Predicted Label: 230, True Label: 125\n",
      "Predicted Label: 228, True Label: 125\n",
      "True Label: 104, Count: 12\n",
      "Predicted Label: 115, True Label: 104\n",
      "Predicted Label: 85, True Label: 104\n",
      "Predicted Label: 133, True Label: 104\n",
      "Predicted Label: 194, True Label: 104\n",
      "Predicted Label: 143, True Label: 104\n",
      "True Label: 146, Count: 11\n",
      "Predicted Label: 200, True Label: 146\n",
      "Predicted Label: 158, True Label: 146\n",
      "Predicted Label: 220, True Label: 146\n",
      "Predicted Label: 205, True Label: 146\n",
      "Predicted Label: 193, True Label: 146\n",
      "True Label: 250, Count: 11\n",
      "Predicted Label: 142, True Label: 250\n",
      "Predicted Label: 216, True Label: 250\n",
      "Predicted Label: 68, True Label: 250\n",
      "Predicted Label: 236, True Label: 250\n",
      "Predicted Label: 68, True Label: 250\n"
     ]
    }
   ],
   "source": [
    "epochs = 12 # 20 run modify it later on\n",
    "for epoch in range(1, epochs+1):\n",
    "  train(epoch)\n",
    "  eval_val(epoch)"
   ]
  },
  {
   "cell_type": "code",
   "execution_count": 33,
   "metadata": {},
   "outputs": [
    {
     "name": "stdout",
     "output_type": "stream",
     "text": [
      "\n",
      "Epoch : 1\n"
     ]
    },
    {
     "name": "stderr",
     "output_type": "stream",
     "text": [
      "100%|████████████████████████████████████████████████████████████████████████████████| 861/861 [10:03<00:00,  1.43it/s]\n"
     ]
    },
    {
     "name": "stdout",
     "output_type": "stream",
     "text": [
      "Train Loss: 0.594 | Accuracy: 84.070\n",
      "Val Loss: 0.432| Accuracy: 88.697\n",
      "Top 5 Wrong Predictions in Validation Set:\n",
      "True Label: 256, Count: 35\n",
      "Predicted Label: 190, True Label: 256\n",
      "Predicted Label: 160, True Label: 256\n",
      "Predicted Label: 173, True Label: 256\n",
      "Predicted Label: 6, True Label: 256\n",
      "Predicted Label: 91, True Label: 256\n",
      "True Label: 125, Count: 10\n",
      "Predicted Label: 58, True Label: 125\n",
      "Predicted Label: 7, True Label: 125\n",
      "Predicted Label: 230, True Label: 125\n",
      "Predicted Label: 230, True Label: 125\n",
      "Predicted Label: 97, True Label: 125\n",
      "True Label: 95, Count: 9\n",
      "Predicted Label: 206, True Label: 95\n",
      "Predicted Label: 180, True Label: 95\n",
      "Predicted Label: 148, True Label: 95\n",
      "Predicted Label: 228, True Label: 95\n",
      "Predicted Label: 29, True Label: 95\n",
      "True Label: 7, Count: 7\n",
      "Predicted Label: 130, True Label: 7\n",
      "Predicted Label: 158, True Label: 7\n",
      "Predicted Label: 20, True Label: 7\n",
      "Predicted Label: 101, True Label: 7\n",
      "Predicted Label: 190, True Label: 7\n",
      "True Label: 104, Count: 7\n",
      "Predicted Label: 49, True Label: 104\n",
      "Predicted Label: 39, True Label: 104\n",
      "Predicted Label: 21, True Label: 104\n",
      "Predicted Label: 121, True Label: 104\n",
      "Predicted Label: 22, True Label: 104\n",
      "\n",
      "Epoch : 2\n"
     ]
    },
    {
     "name": "stderr",
     "output_type": "stream",
     "text": [
      "100%|████████████████████████████████████████████████████████████████████████████████| 861/861 [18:09<00:00,  1.27s/it]\n"
     ]
    },
    {
     "name": "stdout",
     "output_type": "stream",
     "text": [
      "Train Loss: 0.573 | Accuracy: 84.568\n",
      "Val Loss: 0.488| Accuracy: 87.226\n",
      "Top 5 Wrong Predictions in Validation Set:\n",
      "True Label: 256, Count: 23\n",
      "Predicted Label: 25, True Label: 256\n",
      "Predicted Label: 141, True Label: 256\n",
      "Predicted Label: 91, True Label: 256\n",
      "Predicted Label: 149, True Label: 256\n",
      "Predicted Label: 197, True Label: 256\n",
      "True Label: 104, Count: 9\n",
      "Predicted Label: 49, True Label: 104\n",
      "Predicted Label: 49, True Label: 104\n",
      "Predicted Label: 164, True Label: 104\n",
      "Predicted Label: 49, True Label: 104\n",
      "Predicted Label: 6, True Label: 104\n",
      "True Label: 250, Count: 7\n",
      "Predicted Label: 95, True Label: 250\n",
      "Predicted Label: 101, True Label: 250\n",
      "Predicted Label: 68, True Label: 250\n",
      "Predicted Label: 99, True Label: 250\n",
      "Predicted Label: 196, True Label: 250\n",
      "True Label: 125, Count: 6\n",
      "Predicted Label: 70, True Label: 125\n",
      "Predicted Label: 84, True Label: 125\n",
      "Predicted Label: 221, True Label: 125\n",
      "Predicted Label: 207, True Label: 125\n",
      "Predicted Label: 164, True Label: 125\n",
      "True Label: 23, Count: 5\n",
      "Predicted Label: 8, True Label: 23\n",
      "Predicted Label: 117, True Label: 23\n",
      "Predicted Label: 255, True Label: 23\n",
      "Predicted Label: 92, True Label: 23\n",
      "Predicted Label: 148, True Label: 23\n",
      "\n",
      "Epoch : 3\n"
     ]
    },
    {
     "name": "stderr",
     "output_type": "stream",
     "text": [
      "100%|████████████████████████████████████████████████████████████████████████████████| 861/861 [11:15<00:00,  1.27it/s]\n"
     ]
    },
    {
     "name": "stdout",
     "output_type": "stream",
     "text": [
      "Train Loss: 0.564 | Accuracy: 84.945\n",
      "Val Loss: 0.529| Accuracy: 86.181\n",
      "Top 5 Wrong Predictions in Validation Set:\n",
      "True Label: 256, Count: 25\n",
      "Predicted Label: 108, True Label: 256\n",
      "Predicted Label: 142, True Label: 256\n",
      "Predicted Label: 238, True Label: 256\n",
      "Predicted Label: 67, True Label: 256\n",
      "Predicted Label: 115, True Label: 256\n",
      "True Label: 10, Count: 12\n",
      "Predicted Label: 180, True Label: 10\n",
      "Predicted Label: 141, True Label: 10\n",
      "Predicted Label: 135, True Label: 10\n",
      "Predicted Label: 118, True Label: 10\n",
      "Predicted Label: 76, True Label: 10\n",
      "True Label: 125, Count: 11\n",
      "Predicted Label: 160, True Label: 125\n",
      "Predicted Label: 29, True Label: 125\n",
      "Predicted Label: 172, True Label: 125\n",
      "Predicted Label: 158, True Label: 125\n",
      "Predicted Label: 29, True Label: 125\n",
      "True Label: 146, Count: 10\n",
      "Predicted Label: 255, True Label: 146\n",
      "Predicted Label: 158, True Label: 146\n",
      "Predicted Label: 220, True Label: 146\n",
      "Predicted Label: 227, True Label: 146\n",
      "Predicted Label: 115, True Label: 146\n",
      "True Label: 104, Count: 10\n",
      "Predicted Label: 83, True Label: 104\n",
      "Predicted Label: 55, True Label: 104\n",
      "Predicted Label: 115, True Label: 104\n",
      "Predicted Label: 28, True Label: 104\n",
      "Predicted Label: 27, True Label: 104\n",
      "\n",
      "Epoch : 4\n"
     ]
    },
    {
     "name": "stderr",
     "output_type": "stream",
     "text": [
      "100%|████████████████████████████████████████████████████████████████████████████████| 861/861 [06:50<00:00,  2.10it/s]\n"
     ]
    },
    {
     "name": "stdout",
     "output_type": "stream",
     "text": [
      "Train Loss: 0.562 | Accuracy: 84.934\n",
      "Val Loss: 0.487| Accuracy: 87.161\n",
      "Top 5 Wrong Predictions in Validation Set:\n",
      "True Label: 256, Count: 26\n",
      "Predicted Label: 238, True Label: 256\n",
      "Predicted Label: 81, True Label: 256\n",
      "Predicted Label: 67, True Label: 256\n",
      "Predicted Label: 67, True Label: 256\n",
      "Predicted Label: 199, True Label: 256\n",
      "True Label: 104, Count: 12\n",
      "Predicted Label: 115, True Label: 104\n",
      "Predicted Label: 187, True Label: 104\n",
      "Predicted Label: 253, True Label: 104\n",
      "Predicted Label: 12, True Label: 104\n",
      "Predicted Label: 149, True Label: 104\n",
      "True Label: 95, Count: 11\n",
      "Predicted Label: 196, True Label: 95\n",
      "Predicted Label: 217, True Label: 95\n",
      "Predicted Label: 164, True Label: 95\n",
      "Predicted Label: 148, True Label: 95\n",
      "Predicted Label: 153, True Label: 95\n",
      "True Label: 125, Count: 10\n",
      "Predicted Label: 180, True Label: 125\n",
      "Predicted Label: 118, True Label: 125\n",
      "Predicted Label: 230, True Label: 125\n",
      "Predicted Label: 60, True Label: 125\n",
      "Predicted Label: 164, True Label: 125\n",
      "True Label: 146, Count: 9\n",
      "Predicted Label: 118, True Label: 146\n",
      "Predicted Label: 81, True Label: 146\n",
      "Predicted Label: 188, True Label: 146\n",
      "Predicted Label: 99, True Label: 146\n",
      "Predicted Label: 12, True Label: 146\n",
      "\n",
      "Epoch : 5\n"
     ]
    },
    {
     "name": "stderr",
     "output_type": "stream",
     "text": [
      "100%|████████████████████████████████████████████████████████████████████████████████| 861/861 [06:41<00:00,  2.14it/s]\n"
     ]
    },
    {
     "name": "stdout",
     "output_type": "stream",
     "text": [
      "Train Loss: 0.552 | Accuracy: 85.167\n",
      "Val Loss: 0.522| Accuracy: 85.560\n",
      "Top 5 Wrong Predictions in Validation Set:\n",
      "True Label: 256, Count: 31\n",
      "Predicted Label: 222, True Label: 256\n",
      "Predicted Label: 160, True Label: 256\n",
      "Predicted Label: 245, True Label: 256\n",
      "Predicted Label: 6, True Label: 256\n",
      "Predicted Label: 91, True Label: 256\n",
      "True Label: 125, Count: 13\n",
      "Predicted Label: 180, True Label: 125\n",
      "Predicted Label: 214, True Label: 125\n",
      "Predicted Label: 186, True Label: 125\n",
      "Predicted Label: 242, True Label: 125\n",
      "Predicted Label: 170, True Label: 125\n",
      "True Label: 231, Count: 9\n",
      "Predicted Label: 21, True Label: 231\n",
      "Predicted Label: 137, True Label: 231\n",
      "Predicted Label: 234, True Label: 231\n",
      "Predicted Label: 107, True Label: 231\n",
      "Predicted Label: 238, True Label: 231\n",
      "True Label: 146, Count: 8\n",
      "Predicted Label: 121, True Label: 146\n",
      "Predicted Label: 102, True Label: 146\n",
      "Predicted Label: 57, True Label: 146\n",
      "Predicted Label: 99, True Label: 146\n",
      "Predicted Label: 99, True Label: 146\n",
      "True Label: 95, Count: 8\n",
      "Predicted Label: 29, True Label: 95\n",
      "Predicted Label: 108, True Label: 95\n",
      "Predicted Label: 101, True Label: 95\n",
      "Predicted Label: 196, True Label: 95\n",
      "Predicted Label: 153, True Label: 95\n",
      "\n",
      "Epoch : 6\n"
     ]
    },
    {
     "name": "stderr",
     "output_type": "stream",
     "text": [
      "100%|████████████████████████████████████████████████████████████████████████████████| 861/861 [06:43<00:00,  2.13it/s]\n"
     ]
    },
    {
     "name": "stdout",
     "output_type": "stream",
     "text": [
      "Train Loss: 0.563 | Accuracy: 85.228\n",
      "Val Loss: 0.542| Accuracy: 85.234\n",
      "Top 5 Wrong Predictions in Validation Set:\n",
      "True Label: 256, Count: 31\n",
      "Predicted Label: 34, True Label: 256\n",
      "Predicted Label: 160, True Label: 256\n",
      "Predicted Label: 6, True Label: 256\n",
      "Predicted Label: 91, True Label: 256\n",
      "Predicted Label: 67, True Label: 256\n",
      "True Label: 231, Count: 13\n",
      "Predicted Label: 21, True Label: 231\n",
      "Predicted Label: 93, True Label: 231\n",
      "Predicted Label: 158, True Label: 231\n",
      "Predicted Label: 96, True Label: 231\n",
      "Predicted Label: 17, True Label: 231\n",
      "True Label: 125, Count: 11\n",
      "Predicted Label: 228, True Label: 125\n",
      "Predicted Label: 28, True Label: 125\n",
      "Predicted Label: 71, True Label: 125\n",
      "Predicted Label: 212, True Label: 125\n",
      "Predicted Label: 161, True Label: 125\n",
      "True Label: 250, Count: 11\n",
      "Predicted Label: 243, True Label: 250\n",
      "Predicted Label: 68, True Label: 250\n",
      "Predicted Label: 137, True Label: 250\n",
      "Predicted Label: 20, True Label: 250\n",
      "Predicted Label: 184, True Label: 250\n",
      "True Label: 146, Count: 10\n",
      "Predicted Label: 221, True Label: 146\n",
      "Predicted Label: 27, True Label: 146\n",
      "Predicted Label: 118, True Label: 146\n",
      "Predicted Label: 152, True Label: 146\n",
      "Predicted Label: 42, True Label: 146\n",
      "\n",
      "Epoch : 7\n"
     ]
    },
    {
     "name": "stderr",
     "output_type": "stream",
     "text": [
      "100%|████████████████████████████████████████████████████████████████████████████████| 861/861 [06:46<00:00,  2.12it/s]\n"
     ]
    },
    {
     "name": "stdout",
     "output_type": "stream",
     "text": [
      "Train Loss: 0.541 | Accuracy: 85.642\n",
      "Val Loss: 0.562| Accuracy: 85.528\n",
      "Top 5 Wrong Predictions in Validation Set:\n",
      "True Label: 256, Count: 29\n",
      "Predicted Label: 160, True Label: 256\n",
      "Predicted Label: 245, True Label: 256\n",
      "Predicted Label: 91, True Label: 256\n",
      "Predicted Label: 67, True Label: 256\n",
      "Predicted Label: 248, True Label: 256\n",
      "True Label: 125, Count: 14\n",
      "Predicted Label: 172, True Label: 125\n",
      "Predicted Label: 30, True Label: 125\n",
      "Predicted Label: 149, True Label: 125\n",
      "Predicted Label: 158, True Label: 125\n",
      "Predicted Label: 240, True Label: 125\n",
      "True Label: 146, Count: 10\n",
      "Predicted Label: 33, True Label: 146\n",
      "Predicted Label: 246, True Label: 146\n",
      "Predicted Label: 51, True Label: 146\n",
      "Predicted Label: 255, True Label: 146\n",
      "Predicted Label: 193, True Label: 146\n",
      "True Label: 104, Count: 8\n",
      "Predicted Label: 28, True Label: 104\n",
      "Predicted Label: 88, True Label: 104\n",
      "Predicted Label: 164, True Label: 104\n",
      "Predicted Label: 227, True Label: 104\n",
      "Predicted Label: 133, True Label: 104\n",
      "True Label: 250, Count: 7\n",
      "Predicted Label: 133, True Label: 250\n",
      "Predicted Label: 101, True Label: 250\n",
      "Predicted Label: 28, True Label: 250\n",
      "Predicted Label: 68, True Label: 250\n",
      "Predicted Label: 256, True Label: 250\n",
      "\n",
      "Epoch : 8\n"
     ]
    },
    {
     "name": "stderr",
     "output_type": "stream",
     "text": [
      "100%|████████████████████████████████████████████████████████████████████████████████| 861/861 [06:38<00:00,  2.16it/s]\n"
     ]
    },
    {
     "name": "stdout",
     "output_type": "stream",
     "text": [
      "Train Loss: 0.551 | Accuracy: 84.996\n",
      "Val Loss: 0.534| Accuracy: 86.148\n",
      "Top 5 Wrong Predictions in Validation Set:\n",
      "True Label: 256, Count: 29\n",
      "Predicted Label: 215, True Label: 256\n",
      "Predicted Label: 132, True Label: 256\n",
      "Predicted Label: 160, True Label: 256\n",
      "Predicted Label: 80, True Label: 256\n",
      "Predicted Label: 91, True Label: 256\n",
      "True Label: 125, Count: 15\n",
      "Predicted Label: 2, True Label: 125\n",
      "Predicted Label: 45, True Label: 125\n",
      "Predicted Label: 96, True Label: 125\n",
      "Predicted Label: 227, True Label: 125\n",
      "Predicted Label: 168, True Label: 125\n",
      "True Label: 146, Count: 10\n",
      "Predicted Label: 221, True Label: 146\n",
      "Predicted Label: 158, True Label: 146\n",
      "Predicted Label: 24, True Label: 146\n",
      "Predicted Label: 167, True Label: 146\n",
      "Predicted Label: 117, True Label: 146\n",
      "True Label: 231, Count: 9\n",
      "Predicted Label: 100, True Label: 231\n",
      "Predicted Label: 158, True Label: 231\n",
      "Predicted Label: 238, True Label: 231\n",
      "Predicted Label: 7, True Label: 231\n",
      "Predicted Label: 34, True Label: 231\n",
      "True Label: 104, Count: 8\n",
      "Predicted Label: 196, True Label: 104\n",
      "Predicted Label: 14, True Label: 104\n",
      "Predicted Label: 68, True Label: 104\n",
      "Predicted Label: 149, True Label: 104\n",
      "Predicted Label: 133, True Label: 104\n",
      "\n",
      "Epoch : 9\n"
     ]
    },
    {
     "name": "stderr",
     "output_type": "stream",
     "text": [
      "100%|████████████████████████████████████████████████████████████████████████████████| 861/861 [06:37<00:00,  2.17it/s]\n"
     ]
    },
    {
     "name": "stdout",
     "output_type": "stream",
     "text": [
      "Train Loss: 0.536 | Accuracy: 85.747\n",
      "Val Loss: 0.560| Accuracy: 85.103\n",
      "Top 5 Wrong Predictions in Validation Set:\n",
      "True Label: 256, Count: 31\n",
      "Predicted Label: 132, True Label: 256\n",
      "Predicted Label: 141, True Label: 256\n",
      "Predicted Label: 8, True Label: 256\n",
      "Predicted Label: 91, True Label: 256\n",
      "Predicted Label: 128, True Label: 256\n",
      "True Label: 125, Count: 16\n",
      "Predicted Label: 49, True Label: 125\n",
      "Predicted Label: 161, True Label: 125\n",
      "Predicted Label: 143, True Label: 125\n",
      "Predicted Label: 168, True Label: 125\n",
      "Predicted Label: 158, True Label: 125\n",
      "True Label: 95, Count: 10\n",
      "Predicted Label: 196, True Label: 95\n",
      "Predicted Label: 163, True Label: 95\n",
      "Predicted Label: 29, True Label: 95\n",
      "Predicted Label: 246, True Label: 95\n",
      "Predicted Label: 153, True Label: 95\n",
      "True Label: 7, Count: 8\n",
      "Predicted Label: 191, True Label: 7\n",
      "Predicted Label: 20, True Label: 7\n",
      "Predicted Label: 158, True Label: 7\n",
      "Predicted Label: 14, True Label: 7\n",
      "Predicted Label: 137, True Label: 7\n",
      "True Label: 146, Count: 7\n",
      "Predicted Label: 185, True Label: 146\n",
      "Predicted Label: 0, True Label: 146\n",
      "Predicted Label: 220, True Label: 146\n",
      "Predicted Label: 179, True Label: 146\n",
      "Predicted Label: 147, True Label: 146\n",
      "\n",
      "Epoch : 10\n"
     ]
    },
    {
     "name": "stderr",
     "output_type": "stream",
     "text": [
      "100%|████████████████████████████████████████████████████████████████████████████████| 861/861 [06:43<00:00,  2.13it/s]\n"
     ]
    },
    {
     "name": "stdout",
     "output_type": "stream",
     "text": [
      "Train Loss: 0.526 | Accuracy: 85.726\n",
      "Val Loss: 0.615| Accuracy: 83.698\n",
      "Top 5 Wrong Predictions in Validation Set:\n",
      "True Label: 256, Count: 37\n",
      "Predicted Label: 25, True Label: 256\n",
      "Predicted Label: 132, True Label: 256\n",
      "Predicted Label: 137, True Label: 256\n",
      "Predicted Label: 137, True Label: 256\n",
      "Predicted Label: 79, True Label: 256\n",
      "True Label: 125, Count: 12\n",
      "Predicted Label: 3, True Label: 125\n",
      "Predicted Label: 96, True Label: 125\n",
      "Predicted Label: 147, True Label: 125\n",
      "Predicted Label: 244, True Label: 125\n",
      "Predicted Label: 158, True Label: 125\n",
      "True Label: 231, Count: 11\n",
      "Predicted Label: 9, True Label: 231\n",
      "Predicted Label: 100, True Label: 231\n",
      "Predicted Label: 158, True Label: 231\n",
      "Predicted Label: 18, True Label: 231\n",
      "Predicted Label: 166, True Label: 231\n",
      "True Label: 104, Count: 10\n",
      "Predicted Label: 100, True Label: 104\n",
      "Predicted Label: 28, True Label: 104\n",
      "Predicted Label: 144, True Label: 104\n",
      "Predicted Label: 143, True Label: 104\n",
      "Predicted Label: 27, True Label: 104\n",
      "True Label: 146, Count: 8\n",
      "Predicted Label: 221, True Label: 146\n",
      "Predicted Label: 158, True Label: 146\n",
      "Predicted Label: 51, True Label: 146\n",
      "Predicted Label: 152, True Label: 146\n",
      "Predicted Label: 188, True Label: 146\n",
      "\n",
      "Epoch : 11\n"
     ]
    },
    {
     "name": "stderr",
     "output_type": "stream",
     "text": [
      "100%|████████████████████████████████████████████████████████████████████████████████| 861/861 [06:40<00:00,  2.15it/s]\n"
     ]
    },
    {
     "name": "stdout",
     "output_type": "stream",
     "text": [
      "Train Loss: 0.515 | Accuracy: 85.991\n",
      "Val Loss: 0.577| Accuracy: 84.711\n",
      "Top 5 Wrong Predictions in Validation Set:\n",
      "True Label: 256, Count: 32\n",
      "Predicted Label: 160, True Label: 256\n",
      "Predicted Label: 147, True Label: 256\n",
      "Predicted Label: 6, True Label: 256\n",
      "Predicted Label: 91, True Label: 256\n",
      "Predicted Label: 67, True Label: 256\n",
      "True Label: 231, Count: 11\n",
      "Predicted Label: 21, True Label: 231\n",
      "Predicted Label: 118, True Label: 231\n",
      "Predicted Label: 74, True Label: 231\n",
      "Predicted Label: 216, True Label: 231\n",
      "Predicted Label: 34, True Label: 231\n",
      "True Label: 146, Count: 9\n",
      "Predicted Label: 158, True Label: 146\n",
      "Predicted Label: 51, True Label: 146\n",
      "Predicted Label: 86, True Label: 146\n",
      "Predicted Label: 147, True Label: 146\n",
      "Predicted Label: 63, True Label: 146\n",
      "True Label: 104, Count: 8\n",
      "Predicted Label: 244, True Label: 104\n",
      "Predicted Label: 88, True Label: 104\n",
      "Predicted Label: 63, True Label: 104\n",
      "Predicted Label: 39, True Label: 104\n",
      "Predicted Label: 125, True Label: 104\n",
      "True Label: 250, Count: 7\n",
      "Predicted Label: 68, True Label: 250\n",
      "Predicted Label: 68, True Label: 250\n",
      "Predicted Label: 68, True Label: 250\n",
      "Predicted Label: 101, True Label: 250\n",
      "Predicted Label: 101, True Label: 250\n",
      "\n",
      "Epoch : 12\n"
     ]
    },
    {
     "name": "stderr",
     "output_type": "stream",
     "text": [
      "100%|████████████████████████████████████████████████████████████████████████████████| 861/861 [06:42<00:00,  2.14it/s]\n"
     ]
    },
    {
     "name": "stdout",
     "output_type": "stream",
     "text": [
      "Train Loss: 0.507 | Accuracy: 86.052\n",
      "Val Loss: 0.595| Accuracy: 84.842\n",
      "Top 5 Wrong Predictions in Validation Set:\n",
      "True Label: 256, Count: 25\n",
      "Predicted Label: 25, True Label: 256\n",
      "Predicted Label: 91, True Label: 256\n",
      "Predicted Label: 214, True Label: 256\n",
      "Predicted Label: 149, True Label: 256\n",
      "Predicted Label: 198, True Label: 256\n",
      "True Label: 125, Count: 14\n",
      "Predicted Label: 206, True Label: 125\n",
      "Predicted Label: 158, True Label: 125\n",
      "Predicted Label: 255, True Label: 125\n",
      "Predicted Label: 192, True Label: 125\n",
      "Predicted Label: 158, True Label: 125\n",
      "True Label: 146, Count: 9\n",
      "Predicted Label: 240, True Label: 146\n",
      "Predicted Label: 158, True Label: 146\n",
      "Predicted Label: 149, True Label: 146\n",
      "Predicted Label: 179, True Label: 146\n",
      "Predicted Label: 188, True Label: 146\n",
      "True Label: 10, Count: 8\n",
      "Predicted Label: 226, True Label: 10\n",
      "Predicted Label: 3, True Label: 10\n",
      "Predicted Label: 125, True Label: 10\n",
      "Predicted Label: 158, True Label: 10\n",
      "Predicted Label: 158, True Label: 10\n",
      "True Label: 7, Count: 8\n",
      "Predicted Label: 243, True Label: 7\n",
      "Predicted Label: 238, True Label: 7\n",
      "Predicted Label: 158, True Label: 7\n",
      "Predicted Label: 256, True Label: 7\n",
      "Predicted Label: 164, True Label: 7\n"
     ]
    }
   ],
   "source": [
    "epochs = 12 # 20 run modify it later on\n",
    "for epoch in range(1, epochs+1):\n",
    "  train(epoch)\n",
    "  eval_val(epoch)"
   ]
  },
  {
   "cell_type": "code",
   "execution_count": 30,
   "metadata": {},
   "outputs": [
    {
     "name": "stdout",
     "output_type": "stream",
     "text": [
      "\n",
      "Epoch : 1\n"
     ]
    },
    {
     "name": "stderr",
     "output_type": "stream",
     "text": [
      "100%|████████████████████████████████████████████████████████████████████████████████| 861/861 [11:15<00:00,  1.27it/s]\n"
     ]
    },
    {
     "name": "stdout",
     "output_type": "stream",
     "text": [
      "Train Loss: 0.635 | Accuracy: 83.293\n",
      "Val Loss: 0.478| Accuracy: 86.704\n",
      "Top 5 Wrong Predictions in Validation Set:\n",
      "True Label: 256, Count: 39\n",
      "Predicted Label: 221, True Label: 256\n",
      "Predicted Label: 116, True Label: 256\n",
      "Predicted Label: 161, True Label: 256\n",
      "Predicted Label: 38, True Label: 256\n",
      "Predicted Label: 167, True Label: 256\n",
      "True Label: 95, Count: 10\n",
      "Predicted Label: 17, True Label: 95\n",
      "Predicted Label: 41, True Label: 95\n",
      "Predicted Label: 24, True Label: 95\n",
      "Predicted Label: 143, True Label: 95\n",
      "Predicted Label: 196, True Label: 95\n",
      "True Label: 125, Count: 9\n",
      "Predicted Label: 0, True Label: 125\n",
      "Predicted Label: 49, True Label: 125\n",
      "Predicted Label: 67, True Label: 125\n",
      "Predicted Label: 244, True Label: 125\n",
      "Predicted Label: 84, True Label: 125\n",
      "True Label: 250, Count: 9\n",
      "Predicted Label: 56, True Label: 250\n",
      "Predicted Label: 62, True Label: 250\n",
      "Predicted Label: 177, True Label: 250\n",
      "Predicted Label: 68, True Label: 250\n",
      "Predicted Label: 177, True Label: 250\n",
      "True Label: 104, Count: 9\n",
      "Predicted Label: 29, True Label: 104\n",
      "Predicted Label: 161, True Label: 104\n",
      "Predicted Label: 27, True Label: 104\n",
      "Predicted Label: 29, True Label: 104\n",
      "Predicted Label: 27, True Label: 104\n",
      "\n",
      "Epoch : 2\n"
     ]
    },
    {
     "name": "stderr",
     "output_type": "stream",
     "text": [
      "100%|████████████████████████████████████████████████████████████████████████████████| 861/861 [23:01<00:00,  1.60s/it]\n"
     ]
    },
    {
     "name": "stdout",
     "output_type": "stream",
     "text": [
      "Train Loss: 0.624 | Accuracy: 83.362\n",
      "Val Loss: 0.561| Accuracy: 85.430\n",
      "Top 5 Wrong Predictions in Validation Set:\n",
      "True Label: 256, Count: 30\n",
      "Predicted Label: 161, True Label: 256\n",
      "Predicted Label: 41, True Label: 256\n",
      "Predicted Label: 6, True Label: 256\n",
      "Predicted Label: 205, True Label: 256\n",
      "Predicted Label: 187, True Label: 256\n",
      "True Label: 125, Count: 13\n",
      "Predicted Label: 29, True Label: 125\n",
      "Predicted Label: 243, True Label: 125\n",
      "Predicted Label: 149, True Label: 125\n",
      "Predicted Label: 204, True Label: 125\n",
      "Predicted Label: 62, True Label: 125\n",
      "True Label: 158, Count: 11\n",
      "Predicted Label: 231, True Label: 158\n",
      "Predicted Label: 127, True Label: 158\n",
      "Predicted Label: 34, True Label: 158\n",
      "Predicted Label: 21, True Label: 158\n",
      "Predicted Label: 253, True Label: 158\n",
      "True Label: 95, Count: 9\n",
      "Predicted Label: 107, True Label: 95\n",
      "Predicted Label: 212, True Label: 95\n",
      "Predicted Label: 194, True Label: 95\n",
      "Predicted Label: 118, True Label: 95\n",
      "Predicted Label: 108, True Label: 95\n",
      "True Label: 7, Count: 8\n",
      "Predicted Label: 86, True Label: 7\n",
      "Predicted Label: 41, True Label: 7\n",
      "Predicted Label: 116, True Label: 7\n",
      "Predicted Label: 202, True Label: 7\n",
      "Predicted Label: 10, True Label: 7\n",
      "\n",
      "Epoch : 3\n"
     ]
    },
    {
     "name": "stderr",
     "output_type": "stream",
     "text": [
      "100%|████████████████████████████████████████████████████████████████████████████████| 861/861 [13:45<00:00,  1.04it/s]\n"
     ]
    },
    {
     "name": "stdout",
     "output_type": "stream",
     "text": [
      "Train Loss: 0.589 | Accuracy: 83.976\n",
      "Val Loss: 0.558| Accuracy: 85.462\n",
      "Top 5 Wrong Predictions in Validation Set:\n",
      "True Label: 256, Count: 39\n",
      "Predicted Label: 22, True Label: 256\n",
      "Predicted Label: 241, True Label: 256\n",
      "Predicted Label: 208, True Label: 256\n",
      "Predicted Label: 6, True Label: 256\n",
      "Predicted Label: 107, True Label: 256\n",
      "True Label: 104, Count: 13\n",
      "Predicted Label: 63, True Label: 104\n",
      "Predicted Label: 150, True Label: 104\n",
      "Predicted Label: 235, True Label: 104\n",
      "Predicted Label: 63, True Label: 104\n",
      "Predicted Label: 132, True Label: 104\n",
      "True Label: 125, Count: 10\n",
      "Predicted Label: 166, True Label: 125\n",
      "Predicted Label: 191, True Label: 125\n",
      "Predicted Label: 172, True Label: 125\n",
      "Predicted Label: 62, True Label: 125\n",
      "Predicted Label: 256, True Label: 125\n",
      "True Label: 158, Count: 10\n",
      "Predicted Label: 138, True Label: 158\n",
      "Predicted Label: 137, True Label: 158\n",
      "Predicted Label: 86, True Label: 158\n",
      "Predicted Label: 226, True Label: 158\n",
      "Predicted Label: 235, True Label: 158\n",
      "True Label: 16, Count: 10\n",
      "Predicted Label: 132, True Label: 16\n",
      "Predicted Label: 93, True Label: 16\n",
      "Predicted Label: 132, True Label: 16\n",
      "Predicted Label: 17, True Label: 16\n",
      "Predicted Label: 59, True Label: 16\n",
      "\n",
      "Epoch : 4\n"
     ]
    },
    {
     "name": "stderr",
     "output_type": "stream",
     "text": [
      "100%|████████████████████████████████████████████████████████████████████████████████| 861/861 [11:28<00:00,  1.25it/s]\n"
     ]
    },
    {
     "name": "stdout",
     "output_type": "stream",
     "text": [
      "Train Loss: 0.600 | Accuracy: 84.284\n",
      "Val Loss: 0.578| Accuracy: 83.273\n",
      "Top 5 Wrong Predictions in Validation Set:\n",
      "True Label: 256, Count: 58\n",
      "Predicted Label: 166, True Label: 256\n",
      "Predicted Label: 15, True Label: 256\n",
      "Predicted Label: 79, True Label: 256\n",
      "Predicted Label: 20, True Label: 256\n",
      "Predicted Label: 6, True Label: 256\n",
      "True Label: 125, Count: 18\n",
      "Predicted Label: 170, True Label: 125\n",
      "Predicted Label: 244, True Label: 125\n",
      "Predicted Label: 82, True Label: 125\n",
      "Predicted Label: 180, True Label: 125\n",
      "Predicted Label: 149, True Label: 125\n",
      "True Label: 158, Count: 11\n",
      "Predicted Label: 231, True Label: 158\n",
      "Predicted Label: 114, True Label: 158\n",
      "Predicted Label: 148, True Label: 158\n",
      "Predicted Label: 138, True Label: 158\n",
      "Predicted Label: 194, True Label: 158\n",
      "True Label: 104, Count: 11\n",
      "Predicted Label: 27, True Label: 104\n",
      "Predicted Label: 14, True Label: 104\n",
      "Predicted Label: 164, True Label: 104\n",
      "Predicted Label: 133, True Label: 104\n",
      "Predicted Label: 253, True Label: 104\n",
      "True Label: 231, Count: 10\n",
      "Predicted Label: 192, True Label: 231\n",
      "Predicted Label: 2, True Label: 231\n",
      "Predicted Label: 173, True Label: 231\n",
      "Predicted Label: 74, True Label: 231\n",
      "Predicted Label: 40, True Label: 231\n",
      "\n",
      "Epoch : 5\n"
     ]
    },
    {
     "name": "stderr",
     "output_type": "stream",
     "text": [
      "100%|████████████████████████████████████████████████████████████████████████████████| 861/861 [06:06<00:00,  2.35it/s]\n"
     ]
    },
    {
     "name": "stdout",
     "output_type": "stream",
     "text": [
      "Train Loss: 0.599 | Accuracy: 84.088\n",
      "Val Loss: 0.569| Accuracy: 83.927\n",
      "Top 5 Wrong Predictions in Validation Set:\n",
      "True Label: 256, Count: 43\n",
      "Predicted Label: 22, True Label: 256\n",
      "Predicted Label: 146, True Label: 256\n",
      "Predicted Label: 186, True Label: 256\n",
      "Predicted Label: 192, True Label: 256\n",
      "Predicted Label: 127, True Label: 256\n",
      "True Label: 95, Count: 11\n",
      "Predicted Label: 25, True Label: 95\n",
      "Predicted Label: 208, True Label: 95\n",
      "Predicted Label: 104, True Label: 95\n",
      "Predicted Label: 153, True Label: 95\n",
      "Predicted Label: 196, True Label: 95\n",
      "True Label: 158, Count: 10\n",
      "Predicted Label: 231, True Label: 158\n",
      "Predicted Label: 138, True Label: 158\n",
      "Predicted Label: 143, True Label: 158\n",
      "Predicted Label: 194, True Label: 158\n",
      "Predicted Label: 256, True Label: 158\n",
      "True Label: 125, Count: 10\n",
      "Predicted Label: 170, True Label: 125\n",
      "Predicted Label: 27, True Label: 125\n",
      "Predicted Label: 146, True Label: 125\n",
      "Predicted Label: 27, True Label: 125\n",
      "Predicted Label: 61, True Label: 125\n",
      "True Label: 231, Count: 9\n",
      "Predicted Label: 9, True Label: 231\n",
      "Predicted Label: 248, True Label: 231\n",
      "Predicted Label: 17, True Label: 231\n",
      "Predicted Label: 234, True Label: 231\n",
      "Predicted Label: 6, True Label: 231\n",
      "\n",
      "Epoch : 6\n"
     ]
    },
    {
     "name": "stderr",
     "output_type": "stream",
     "text": [
      "100%|████████████████████████████████████████████████████████████████████████████████| 861/861 [05:57<00:00,  2.41it/s]\n"
     ]
    },
    {
     "name": "stdout",
     "output_type": "stream",
     "text": [
      "Train Loss: 0.589 | Accuracy: 84.397\n",
      "Val Loss: 0.640| Accuracy: 83.208\n",
      "Top 5 Wrong Predictions in Validation Set:\n",
      "True Label: 256, Count: 49\n",
      "Predicted Label: 30, True Label: 256\n",
      "Predicted Label: 177, True Label: 256\n",
      "Predicted Label: 255, True Label: 256\n",
      "Predicted Label: 206, True Label: 256\n",
      "Predicted Label: 167, True Label: 256\n",
      "True Label: 95, Count: 10\n",
      "Predicted Label: 172, True Label: 95\n",
      "Predicted Label: 34, True Label: 95\n",
      "Predicted Label: 196, True Label: 95\n",
      "Predicted Label: 51, True Label: 95\n",
      "Predicted Label: 29, True Label: 95\n",
      "True Label: 190, Count: 9\n",
      "Predicted Label: 119, True Label: 190\n",
      "Predicted Label: 236, True Label: 190\n",
      "Predicted Label: 246, True Label: 190\n",
      "Predicted Label: 123, True Label: 190\n",
      "Predicted Label: 194, True Label: 190\n",
      "True Label: 104, Count: 9\n",
      "Predicted Label: 235, True Label: 104\n",
      "Predicted Label: 243, True Label: 104\n",
      "Predicted Label: 235, True Label: 104\n",
      "Predicted Label: 63, True Label: 104\n",
      "Predicted Label: 55, True Label: 104\n",
      "True Label: 125, Count: 7\n",
      "Predicted Label: 244, True Label: 125\n",
      "Predicted Label: 61, True Label: 125\n",
      "Predicted Label: 61, True Label: 125\n",
      "Predicted Label: 143, True Label: 125\n",
      "Predicted Label: 71, True Label: 125\n",
      "\n",
      "Epoch : 7\n"
     ]
    },
    {
     "name": "stderr",
     "output_type": "stream",
     "text": [
      "100%|████████████████████████████████████████████████████████████████████████████████| 861/861 [05:24<00:00,  2.66it/s]\n"
     ]
    },
    {
     "name": "stdout",
     "output_type": "stream",
     "text": [
      "Train Loss: 0.575 | Accuracy: 84.785\n",
      "Val Loss: 0.657| Accuracy: 82.979\n",
      "Top 5 Wrong Predictions in Validation Set:\n",
      "True Label: 256, Count: 42\n",
      "Predicted Label: 22, True Label: 256\n",
      "Predicted Label: 92, True Label: 256\n",
      "Predicted Label: 38, True Label: 256\n",
      "Predicted Label: 167, True Label: 256\n",
      "Predicted Label: 77, True Label: 256\n",
      "True Label: 104, Count: 11\n",
      "Predicted Label: 150, True Label: 104\n",
      "Predicted Label: 235, True Label: 104\n",
      "Predicted Label: 49, True Label: 104\n",
      "Predicted Label: 235, True Label: 104\n",
      "Predicted Label: 253, True Label: 104\n",
      "True Label: 95, Count: 10\n",
      "Predicted Label: 25, True Label: 95\n",
      "Predicted Label: 14, True Label: 95\n",
      "Predicted Label: 153, True Label: 95\n",
      "Predicted Label: 153, True Label: 95\n",
      "Predicted Label: 151, True Label: 95\n",
      "True Label: 125, Count: 10\n",
      "Predicted Label: 82, True Label: 125\n",
      "Predicted Label: 61, True Label: 125\n",
      "Predicted Label: 42, True Label: 125\n",
      "Predicted Label: 71, True Label: 125\n",
      "Predicted Label: 226, True Label: 125\n",
      "True Label: 190, Count: 8\n",
      "Predicted Label: 76, True Label: 190\n",
      "Predicted Label: 254, True Label: 190\n",
      "Predicted Label: 11, True Label: 190\n",
      "Predicted Label: 254, True Label: 190\n",
      "Predicted Label: 77, True Label: 190\n",
      "\n",
      "Epoch : 8\n"
     ]
    },
    {
     "name": "stderr",
     "output_type": "stream",
     "text": [
      "100%|████████████████████████████████████████████████████████████████████████████████| 861/861 [05:28<00:00,  2.62it/s]\n"
     ]
    },
    {
     "name": "stdout",
     "output_type": "stream",
     "text": [
      "Train Loss: 0.574 | Accuracy: 84.597\n",
      "Val Loss: 0.651| Accuracy: 82.849\n",
      "Top 5 Wrong Predictions in Validation Set:\n",
      "True Label: 256, Count: 33\n",
      "Predicted Label: 238, True Label: 256\n",
      "Predicted Label: 6, True Label: 256\n",
      "Predicted Label: 71, True Label: 256\n",
      "Predicted Label: 125, True Label: 256\n",
      "Predicted Label: 24, True Label: 256\n",
      "True Label: 125, Count: 14\n",
      "Predicted Label: 244, True Label: 125\n",
      "Predicted Label: 177, True Label: 125\n",
      "Predicted Label: 25, True Label: 125\n",
      "Predicted Label: 61, True Label: 125\n",
      "Predicted Label: 24, True Label: 125\n",
      "True Label: 104, Count: 13\n",
      "Predicted Label: 169, True Label: 104\n",
      "Predicted Label: 166, True Label: 104\n",
      "Predicted Label: 235, True Label: 104\n",
      "Predicted Label: 56, True Label: 104\n",
      "Predicted Label: 166, True Label: 104\n",
      "True Label: 95, Count: 12\n",
      "Predicted Label: 229, True Label: 95\n",
      "Predicted Label: 230, True Label: 95\n",
      "Predicted Label: 34, True Label: 95\n",
      "Predicted Label: 153, True Label: 95\n",
      "Predicted Label: 164, True Label: 95\n",
      "True Label: 190, Count: 10\n",
      "Predicted Label: 164, True Label: 190\n",
      "Predicted Label: 100, True Label: 190\n",
      "Predicted Label: 33, True Label: 190\n",
      "Predicted Label: 229, True Label: 190\n",
      "Predicted Label: 254, True Label: 190\n",
      "\n",
      "Epoch : 9\n"
     ]
    },
    {
     "name": "stderr",
     "output_type": "stream",
     "text": [
      "100%|████████████████████████████████████████████████████████████████████████████████| 861/861 [05:33<00:00,  2.58it/s]\n"
     ]
    },
    {
     "name": "stdout",
     "output_type": "stream",
     "text": [
      "Train Loss: 0.570 | Accuracy: 84.829\n",
      "Val Loss: 0.650| Accuracy: 83.012\n",
      "Top 5 Wrong Predictions in Validation Set:\n",
      "True Label: 256, Count: 43\n",
      "Predicted Label: 28, True Label: 256\n",
      "Predicted Label: 225, True Label: 256\n",
      "Predicted Label: 22, True Label: 256\n",
      "Predicted Label: 167, True Label: 256\n",
      "Predicted Label: 114, True Label: 256\n",
      "True Label: 95, Count: 20\n",
      "Predicted Label: 148, True Label: 95\n",
      "Predicted Label: 41, True Label: 95\n",
      "Predicted Label: 127, True Label: 95\n",
      "Predicted Label: 213, True Label: 95\n",
      "Predicted Label: 196, True Label: 95\n",
      "True Label: 158, Count: 11\n",
      "Predicted Label: 104, True Label: 158\n",
      "Predicted Label: 127, True Label: 158\n",
      "Predicted Label: 252, True Label: 158\n",
      "Predicted Label: 171, True Label: 158\n",
      "Predicted Label: 159, True Label: 158\n",
      "True Label: 125, Count: 11\n",
      "Predicted Label: 82, True Label: 125\n",
      "Predicted Label: 2, True Label: 125\n",
      "Predicted Label: 71, True Label: 125\n",
      "Predicted Label: 156, True Label: 125\n",
      "Predicted Label: 198, True Label: 125\n",
      "True Label: 25, Count: 8\n",
      "Predicted Label: 159, True Label: 25\n",
      "Predicted Label: 58, True Label: 25\n",
      "Predicted Label: 191, True Label: 25\n",
      "Predicted Label: 24, True Label: 25\n",
      "Predicted Label: 195, True Label: 25\n",
      "\n",
      "Epoch : 10\n"
     ]
    },
    {
     "name": "stderr",
     "output_type": "stream",
     "text": [
      "100%|████████████████████████████████████████████████████████████████████████████████| 861/861 [05:13<00:00,  2.74it/s]\n"
     ]
    },
    {
     "name": "stdout",
     "output_type": "stream",
     "text": [
      "Train Loss: 0.562 | Accuracy: 84.883\n",
      "Val Loss: 0.645| Accuracy: 82.816\n",
      "Top 5 Wrong Predictions in Validation Set:\n",
      "True Label: 256, Count: 43\n",
      "Predicted Label: 72, True Label: 256\n",
      "Predicted Label: 91, True Label: 256\n",
      "Predicted Label: 185, True Label: 256\n",
      "Predicted Label: 132, True Label: 256\n",
      "Predicted Label: 127, True Label: 256\n",
      "True Label: 95, Count: 13\n",
      "Predicted Label: 41, True Label: 95\n",
      "Predicted Label: 158, True Label: 95\n",
      "Predicted Label: 153, True Label: 95\n",
      "Predicted Label: 158, True Label: 95\n",
      "Predicted Label: 161, True Label: 95\n",
      "True Label: 104, Count: 9\n",
      "Predicted Label: 161, True Label: 104\n",
      "Predicted Label: 29, True Label: 104\n",
      "Predicted Label: 213, True Label: 104\n",
      "Predicted Label: 63, True Label: 104\n",
      "Predicted Label: 175, True Label: 104\n",
      "True Label: 228, Count: 9\n",
      "Predicted Label: 131, True Label: 228\n",
      "Predicted Label: 129, True Label: 228\n",
      "Predicted Label: 70, True Label: 228\n",
      "Predicted Label: 141, True Label: 228\n",
      "Predicted Label: 145, True Label: 228\n",
      "True Label: 157, Count: 8\n",
      "Predicted Label: 89, True Label: 157\n",
      "Predicted Label: 59, True Label: 157\n",
      "Predicted Label: 150, True Label: 157\n",
      "Predicted Label: 48, True Label: 157\n",
      "Predicted Label: 88, True Label: 157\n"
     ]
    }
   ],
   "source": [
    "epochs = 10 # 20 run modify it later on\n",
    "for epoch in range(1, epochs+1):\n",
    "  train(epoch)\n",
    "  eval_val(epoch)"
   ]
  },
  {
   "cell_type": "code",
   "execution_count": 37,
   "metadata": {
    "scrolled": true
   },
   "outputs": [
    {
     "name": "stdout",
     "output_type": "stream",
     "text": [
      "\n",
      "Epoch : 1\n"
     ]
    },
    {
     "name": "stderr",
     "output_type": "stream",
     "text": [
      "100%|████████████████████████████████████████████████████████████████████████████████| 861/861 [06:39<00:00,  2.16it/s]\n"
     ]
    },
    {
     "name": "stdout",
     "output_type": "stream",
     "text": [
      "Train Loss: 0.745 | Accuracy: 80.237\n",
      "Val Loss: 0.623| Accuracy: 83.698\n",
      "Top 5 Wrong Predictions in Validation Set:\n",
      "True Label: 256, Count: 37\n",
      "Predicted Label: 240, True Label: 256\n",
      "Predicted Label: 193, True Label: 256\n",
      "Predicted Label: 233, True Label: 256\n",
      "Predicted Label: 8, True Label: 256\n",
      "Predicted Label: 233, True Label: 256\n",
      "True Label: 125, Count: 16\n",
      "Predicted Label: 127, True Label: 125\n",
      "Predicted Label: 146, True Label: 125\n",
      "Predicted Label: 191, True Label: 125\n",
      "Predicted Label: 180, True Label: 125\n",
      "Predicted Label: 244, True Label: 125\n",
      "True Label: 158, Count: 12\n",
      "Predicted Label: 114, True Label: 158\n",
      "Predicted Label: 104, True Label: 158\n",
      "Predicted Label: 118, True Label: 158\n",
      "Predicted Label: 252, True Label: 158\n",
      "Predicted Label: 37, True Label: 158\n",
      "True Label: 104, Count: 9\n",
      "Predicted Label: 95, True Label: 104\n",
      "Predicted Label: 49, True Label: 104\n",
      "Predicted Label: 29, True Label: 104\n",
      "Predicted Label: 60, True Label: 104\n",
      "Predicted Label: 115, True Label: 104\n",
      "True Label: 95, Count: 8\n",
      "Predicted Label: 172, True Label: 95\n",
      "Predicted Label: 29, True Label: 95\n",
      "Predicted Label: 41, True Label: 95\n",
      "Predicted Label: 108, True Label: 95\n",
      "Predicted Label: 61, True Label: 95\n",
      "\n",
      "Epoch : 2\n"
     ]
    },
    {
     "name": "stderr",
     "output_type": "stream",
     "text": [
      "100%|████████████████████████████████████████████████████████████████████████████████| 861/861 [10:17<00:00,  1.39it/s]\n"
     ]
    },
    {
     "name": "stdout",
     "output_type": "stream",
     "text": [
      "Train Loss: 0.718 | Accuracy: 80.926\n",
      "Val Loss: 0.673| Accuracy: 83.567\n",
      "Top 5 Wrong Predictions in Validation Set:\n",
      "True Label: 256, Count: 31\n",
      "Predicted Label: 216, True Label: 256\n",
      "Predicted Label: 242, True Label: 256\n",
      "Predicted Label: 88, True Label: 256\n",
      "Predicted Label: 161, True Label: 256\n",
      "Predicted Label: 97, True Label: 256\n",
      "True Label: 125, Count: 17\n",
      "Predicted Label: 170, True Label: 125\n",
      "Predicted Label: 255, True Label: 125\n",
      "Predicted Label: 121, True Label: 125\n",
      "Predicted Label: 191, True Label: 125\n",
      "Predicted Label: 180, True Label: 125\n",
      "True Label: 104, Count: 13\n",
      "Predicted Label: 121, True Label: 104\n",
      "Predicted Label: 49, True Label: 104\n",
      "Predicted Label: 95, True Label: 104\n",
      "Predicted Label: 69, True Label: 104\n",
      "Predicted Label: 147, True Label: 104\n",
      "True Label: 158, Count: 12\n",
      "Predicted Label: 204, True Label: 158\n",
      "Predicted Label: 134, True Label: 158\n",
      "Predicted Label: 70, True Label: 158\n",
      "Predicted Label: 157, True Label: 158\n",
      "Predicted Label: 100, True Label: 158\n",
      "True Label: 140, Count: 7\n",
      "Predicted Label: 218, True Label: 140\n",
      "Predicted Label: 218, True Label: 140\n",
      "Predicted Label: 160, True Label: 140\n",
      "Predicted Label: 58, True Label: 140\n",
      "Predicted Label: 160, True Label: 140\n",
      "\n",
      "Epoch : 3\n"
     ]
    },
    {
     "name": "stderr",
     "output_type": "stream",
     "text": [
      "100%|████████████████████████████████████████████████████████████████████████████████| 861/861 [06:44<00:00,  2.13it/s]\n"
     ]
    },
    {
     "name": "stdout",
     "output_type": "stream",
     "text": [
      "Train Loss: 0.703 | Accuracy: 81.398\n",
      "Val Loss: 0.693| Accuracy: 82.261\n",
      "Top 5 Wrong Predictions in Validation Set:\n",
      "True Label: 256, Count: 30\n",
      "Predicted Label: 196, True Label: 256\n",
      "Predicted Label: 70, True Label: 256\n",
      "Predicted Label: 161, True Label: 256\n",
      "Predicted Label: 124, True Label: 256\n",
      "Predicted Label: 82, True Label: 256\n",
      "True Label: 95, Count: 15\n",
      "Predicted Label: 158, True Label: 95\n",
      "Predicted Label: 17, True Label: 95\n",
      "Predicted Label: 256, True Label: 95\n",
      "Predicted Label: 125, True Label: 95\n",
      "Predicted Label: 14, True Label: 95\n",
      "True Label: 231, Count: 12\n",
      "Predicted Label: 106, True Label: 231\n",
      "Predicted Label: 82, True Label: 231\n",
      "Predicted Label: 143, True Label: 231\n",
      "Predicted Label: 2, True Label: 231\n",
      "Predicted Label: 41, True Label: 231\n",
      "True Label: 250, Count: 10\n",
      "Predicted Label: 236, True Label: 250\n",
      "Predicted Label: 213, True Label: 250\n",
      "Predicted Label: 68, True Label: 250\n",
      "Predicted Label: 251, True Label: 250\n",
      "Predicted Label: 196, True Label: 250\n",
      "True Label: 104, Count: 10\n",
      "Predicted Label: 49, True Label: 104\n",
      "Predicted Label: 212, True Label: 104\n",
      "Predicted Label: 227, True Label: 104\n",
      "Predicted Label: 182, True Label: 104\n",
      "Predicted Label: 126, True Label: 104\n",
      "\n",
      "Epoch : 4\n"
     ]
    },
    {
     "name": "stderr",
     "output_type": "stream",
     "text": [
      "100%|████████████████████████████████████████████████████████████████████████████████| 861/861 [06:45<00:00,  2.12it/s]\n"
     ]
    },
    {
     "name": "stdout",
     "output_type": "stream",
     "text": [
      "Train Loss: 0.703 | Accuracy: 81.384\n",
      "Val Loss: 0.704| Accuracy: 81.640\n",
      "Top 5 Wrong Predictions in Validation Set:\n",
      "True Label: 256, Count: 28\n",
      "Predicted Label: 123, True Label: 256\n",
      "Predicted Label: 153, True Label: 256\n",
      "Predicted Label: 29, True Label: 256\n",
      "Predicted Label: 172, True Label: 256\n",
      "Predicted Label: 82, True Label: 256\n",
      "True Label: 95, Count: 17\n",
      "Predicted Label: 17, True Label: 95\n",
      "Predicted Label: 153, True Label: 95\n",
      "Predicted Label: 175, True Label: 95\n",
      "Predicted Label: 126, True Label: 95\n",
      "Predicted Label: 89, True Label: 95\n",
      "True Label: 104, Count: 13\n",
      "Predicted Label: 150, True Label: 104\n",
      "Predicted Label: 113, True Label: 104\n",
      "Predicted Label: 64, True Label: 104\n",
      "Predicted Label: 161, True Label: 104\n",
      "Predicted Label: 27, True Label: 104\n",
      "True Label: 158, Count: 11\n",
      "Predicted Label: 114, True Label: 158\n",
      "Predicted Label: 134, True Label: 158\n",
      "Predicted Label: 48, True Label: 158\n",
      "Predicted Label: 185, True Label: 158\n",
      "Predicted Label: 237, True Label: 158\n",
      "True Label: 147, Count: 10\n",
      "Predicted Label: 189, True Label: 147\n",
      "Predicted Label: 57, True Label: 147\n",
      "Predicted Label: 36, True Label: 147\n",
      "Predicted Label: 195, True Label: 147\n",
      "Predicted Label: 4, True Label: 147\n",
      "\n",
      "Epoch : 5\n"
     ]
    },
    {
     "name": "stderr",
     "output_type": "stream",
     "text": [
      "100%|████████████████████████████████████████████████████████████████████████████████| 861/861 [07:30<00:00,  1.91it/s]\n"
     ]
    },
    {
     "name": "stdout",
     "output_type": "stream",
     "text": [
      "Train Loss: 0.699 | Accuracy: 81.758\n",
      "Val Loss: 0.726| Accuracy: 82.163\n",
      "Top 5 Wrong Predictions in Validation Set:\n",
      "True Label: 256, Count: 31\n",
      "Predicted Label: 240, True Label: 256\n",
      "Predicted Label: 233, True Label: 256\n",
      "Predicted Label: 130, True Label: 256\n",
      "Predicted Label: 187, True Label: 256\n",
      "Predicted Label: 192, True Label: 256\n",
      "True Label: 95, Count: 14\n",
      "Predicted Label: 17, True Label: 95\n",
      "Predicted Label: 107, True Label: 95\n",
      "Predicted Label: 29, True Label: 95\n",
      "Predicted Label: 213, True Label: 95\n",
      "Predicted Label: 172, True Label: 95\n",
      "True Label: 158, Count: 12\n",
      "Predicted Label: 159, True Label: 158\n",
      "Predicted Label: 243, True Label: 158\n",
      "Predicted Label: 25, True Label: 158\n",
      "Predicted Label: 125, True Label: 158\n",
      "Predicted Label: 70, True Label: 158\n",
      "True Label: 104, Count: 11\n",
      "Predicted Label: 150, True Label: 104\n",
      "Predicted Label: 63, True Label: 104\n",
      "Predicted Label: 158, True Label: 104\n",
      "Predicted Label: 253, True Label: 104\n",
      "Predicted Label: 133, True Label: 104\n",
      "True Label: 231, Count: 10\n",
      "Predicted Label: 190, True Label: 231\n",
      "Predicted Label: 170, True Label: 231\n",
      "Predicted Label: 74, True Label: 231\n",
      "Predicted Label: 147, True Label: 231\n",
      "Predicted Label: 2, True Label: 231\n",
      "\n",
      "Epoch : 6\n"
     ]
    },
    {
     "name": "stderr",
     "output_type": "stream",
     "text": [
      "100%|████████████████████████████████████████████████████████████████████████████████| 861/861 [06:46<00:00,  2.12it/s]\n"
     ]
    },
    {
     "name": "stdout",
     "output_type": "stream",
     "text": [
      "Train Loss: 0.684 | Accuracy: 81.740\n",
      "Val Loss: 0.725| Accuracy: 80.791\n",
      "Top 5 Wrong Predictions in Validation Set:\n",
      "True Label: 256, Count: 34\n",
      "Predicted Label: 216, True Label: 256\n",
      "Predicted Label: 79, True Label: 256\n",
      "Predicted Label: 106, True Label: 256\n",
      "Predicted Label: 70, True Label: 256\n",
      "Predicted Label: 28, True Label: 256\n",
      "True Label: 104, Count: 14\n",
      "Predicted Label: 227, True Label: 104\n",
      "Predicted Label: 113, True Label: 104\n",
      "Predicted Label: 175, True Label: 104\n",
      "Predicted Label: 27, True Label: 104\n",
      "Predicted Label: 180, True Label: 104\n",
      "True Label: 95, Count: 12\n",
      "Predicted Label: 158, True Label: 95\n",
      "Predicted Label: 25, True Label: 95\n",
      "Predicted Label: 168, True Label: 95\n",
      "Predicted Label: 164, True Label: 95\n",
      "Predicted Label: 35, True Label: 95\n",
      "True Label: 158, Count: 12\n",
      "Predicted Label: 234, True Label: 158\n",
      "Predicted Label: 22, True Label: 158\n",
      "Predicted Label: 180, True Label: 158\n",
      "Predicted Label: 101, True Label: 158\n",
      "Predicted Label: 119, True Label: 158\n",
      "True Label: 125, Count: 12\n",
      "Predicted Label: 200, True Label: 125\n",
      "Predicted Label: 191, True Label: 125\n",
      "Predicted Label: 180, True Label: 125\n",
      "Predicted Label: 58, True Label: 125\n",
      "Predicted Label: 29, True Label: 125\n",
      "\n",
      "Epoch : 7\n"
     ]
    },
    {
     "name": "stderr",
     "output_type": "stream",
     "text": [
      "100%|████████████████████████████████████████████████████████████████████████████████| 861/861 [06:44<00:00,  2.13it/s]\n"
     ]
    },
    {
     "name": "stdout",
     "output_type": "stream",
     "text": [
      "Train Loss: 0.666 | Accuracy: 82.248\n",
      "Val Loss: 0.795| Accuracy: 80.301\n",
      "Top 5 Wrong Predictions in Validation Set:\n",
      "True Label: 256, Count: 34\n",
      "Predicted Label: 240, True Label: 256\n",
      "Predicted Label: 123, True Label: 256\n",
      "Predicted Label: 120, True Label: 256\n",
      "Predicted Label: 161, True Label: 256\n",
      "Predicted Label: 97, True Label: 256\n",
      "True Label: 95, Count: 20\n",
      "Predicted Label: 158, True Label: 95\n",
      "Predicted Label: 10, True Label: 95\n",
      "Predicted Label: 161, True Label: 95\n",
      "Predicted Label: 172, True Label: 95\n",
      "Predicted Label: 90, True Label: 95\n",
      "True Label: 158, Count: 13\n",
      "Predicted Label: 204, True Label: 158\n",
      "Predicted Label: 172, True Label: 158\n",
      "Predicted Label: 192, True Label: 158\n",
      "Predicted Label: 172, True Label: 158\n",
      "Predicted Label: 186, True Label: 158\n",
      "True Label: 104, Count: 10\n",
      "Predicted Label: 113, True Label: 104\n",
      "Predicted Label: 240, True Label: 104\n",
      "Predicted Label: 161, True Label: 104\n",
      "Predicted Label: 49, True Label: 104\n",
      "Predicted Label: 63, True Label: 104\n",
      "True Label: 189, Count: 9\n",
      "Predicted Label: 126, True Label: 189\n",
      "Predicted Label: 67, True Label: 189\n",
      "Predicted Label: 178, True Label: 189\n",
      "Predicted Label: 255, True Label: 189\n",
      "Predicted Label: 151, True Label: 189\n",
      "\n",
      "Epoch : 8\n"
     ]
    },
    {
     "name": "stderr",
     "output_type": "stream",
     "text": [
      "100%|████████████████████████████████████████████████████████████████████████████████| 861/861 [06:40<00:00,  2.15it/s]\n"
     ]
    },
    {
     "name": "stdout",
     "output_type": "stream",
     "text": [
      "Train Loss: 0.674 | Accuracy: 81.968\n",
      "Val Loss: 0.726| Accuracy: 81.575\n",
      "Top 5 Wrong Predictions in Validation Set:\n",
      "True Label: 256, Count: 36\n",
      "Predicted Label: 193, True Label: 256\n",
      "Predicted Label: 74, True Label: 256\n",
      "Predicted Label: 200, True Label: 256\n",
      "Predicted Label: 216, True Label: 256\n",
      "Predicted Label: 97, True Label: 256\n",
      "True Label: 189, Count: 11\n",
      "Predicted Label: 197, True Label: 189\n",
      "Predicted Label: 165, True Label: 189\n",
      "Predicted Label: 178, True Label: 189\n",
      "Predicted Label: 165, True Label: 189\n",
      "Predicted Label: 212, True Label: 189\n",
      "True Label: 158, Count: 11\n",
      "Predicted Label: 109, True Label: 158\n",
      "Predicted Label: 192, True Label: 158\n",
      "Predicted Label: 206, True Label: 158\n",
      "Predicted Label: 58, True Label: 158\n",
      "Predicted Label: 95, True Label: 158\n",
      "True Label: 231, Count: 10\n",
      "Predicted Label: 20, True Label: 231\n",
      "Predicted Label: 143, True Label: 231\n",
      "Predicted Label: 143, True Label: 231\n",
      "Predicted Label: 96, True Label: 231\n",
      "Predicted Label: 19, True Label: 231\n",
      "True Label: 95, Count: 10\n",
      "Predicted Label: 158, True Label: 95\n",
      "Predicted Label: 153, True Label: 95\n",
      "Predicted Label: 158, True Label: 95\n",
      "Predicted Label: 161, True Label: 95\n",
      "Predicted Label: 175, True Label: 95\n",
      "\n",
      "Epoch : 9\n"
     ]
    },
    {
     "name": "stderr",
     "output_type": "stream",
     "text": [
      "100%|████████████████████████████████████████████████████████████████████████████████| 861/861 [06:43<00:00,  2.13it/s]\n"
     ]
    },
    {
     "name": "stdout",
     "output_type": "stream",
     "text": [
      "Train Loss: 0.661 | Accuracy: 82.237\n",
      "Val Loss: 0.876| Accuracy: 78.406\n",
      "Top 5 Wrong Predictions in Validation Set:\n",
      "True Label: 256, Count: 37\n",
      "Predicted Label: 67, True Label: 256\n",
      "Predicted Label: 123, True Label: 256\n",
      "Predicted Label: 63, True Label: 256\n",
      "Predicted Label: 73, True Label: 256\n",
      "Predicted Label: 205, True Label: 256\n",
      "True Label: 95, Count: 15\n",
      "Predicted Label: 161, True Label: 95\n",
      "Predicted Label: 172, True Label: 95\n",
      "Predicted Label: 168, True Label: 95\n",
      "Predicted Label: 216, True Label: 95\n",
      "Predicted Label: 191, True Label: 95\n",
      "True Label: 125, Count: 15\n",
      "Predicted Label: 170, True Label: 125\n",
      "Predicted Label: 243, True Label: 125\n",
      "Predicted Label: 28, True Label: 125\n",
      "Predicted Label: 180, True Label: 125\n",
      "Predicted Label: 58, True Label: 125\n",
      "True Label: 158, Count: 12\n",
      "Predicted Label: 204, True Label: 158\n",
      "Predicted Label: 243, True Label: 158\n",
      "Predicted Label: 37, True Label: 158\n",
      "Predicted Label: 222, True Label: 158\n",
      "Predicted Label: 170, True Label: 158\n",
      "True Label: 104, Count: 11\n",
      "Predicted Label: 55, True Label: 104\n",
      "Predicted Label: 253, True Label: 104\n",
      "Predicted Label: 17, True Label: 104\n",
      "Predicted Label: 164, True Label: 104\n",
      "Predicted Label: 108, True Label: 104\n",
      "\n",
      "Epoch : 10\n"
     ]
    },
    {
     "name": "stderr",
     "output_type": "stream",
     "text": [
      "100%|████████████████████████████████████████████████████████████████████████████████| 861/861 [06:40<00:00,  2.15it/s]\n"
     ]
    },
    {
     "name": "stdout",
     "output_type": "stream",
     "text": [
      "Train Loss: 0.653 | Accuracy: 82.720\n",
      "Val Loss: 0.785| Accuracy: 79.288\n",
      "Top 5 Wrong Predictions in Validation Set:\n",
      "True Label: 256, Count: 33\n",
      "Predicted Label: 240, True Label: 256\n",
      "Predicted Label: 205, True Label: 256\n",
      "Predicted Label: 82, True Label: 256\n",
      "Predicted Label: 24, True Label: 256\n",
      "Predicted Label: 133, True Label: 256\n",
      "True Label: 104, Count: 19\n",
      "Predicted Label: 63, True Label: 104\n",
      "Predicted Label: 60, True Label: 104\n",
      "Predicted Label: 231, True Label: 104\n",
      "Predicted Label: 49, True Label: 104\n",
      "Predicted Label: 161, True Label: 104\n",
      "True Label: 125, Count: 14\n",
      "Predicted Label: 149, True Label: 125\n",
      "Predicted Label: 168, True Label: 125\n",
      "Predicted Label: 180, True Label: 125\n",
      "Predicted Label: 102, True Label: 125\n",
      "Predicted Label: 213, True Label: 125\n",
      "True Label: 231, Count: 12\n",
      "Predicted Label: 1, True Label: 231\n",
      "Predicted Label: 193, True Label: 231\n",
      "Predicted Label: 147, True Label: 231\n",
      "Predicted Label: 209, True Label: 231\n",
      "Predicted Label: 93, True Label: 231\n",
      "True Label: 158, Count: 11\n",
      "Predicted Label: 192, True Label: 158\n",
      "Predicted Label: 161, True Label: 158\n",
      "Predicted Label: 167, True Label: 158\n",
      "Predicted Label: 10, True Label: 158\n",
      "Predicted Label: 95, True Label: 158\n"
     ]
    }
   ],
   "source": [
    "epochs = 10 # 20 run modify it later on\n",
    "for epoch in range(1, epochs+1):\n",
    "  train(epoch)\n",
    "  eval_val(epoch)"
   ]
  },
  {
   "cell_type": "code",
   "execution_count": 54,
   "metadata": {},
   "outputs": [
    {
     "name": "stdout",
     "output_type": "stream",
     "text": [
      "\n",
      "Epoch : 1\n"
     ]
    },
    {
     "name": "stderr",
     "output_type": "stream",
     "text": [
      "100%|████████████████████████████████████████████████████████████████████████████████| 861/861 [11:25<00:00,  1.26it/s]\n"
     ]
    },
    {
     "name": "stdout",
     "output_type": "stream",
     "text": [
      "Train Loss: 0.666 | Accuracy: 82.458\n",
      "Val Loss: 0.812| Accuracy: 79.320\n",
      "Top 5 Wrong Predictions in Validation Set:\n",
      "True Label: 256, Count: 36\n",
      "Predicted Label: 79, True Label: 256\n",
      "Predicted Label: 123, True Label: 256\n",
      "Predicted Label: 250, True Label: 256\n",
      "Predicted Label: 93, True Label: 256\n",
      "Predicted Label: 187, True Label: 256\n",
      "True Label: 158, Count: 13\n",
      "Predicted Label: 134, True Label: 158\n",
      "Predicted Label: 25, True Label: 158\n",
      "Predicted Label: 161, True Label: 158\n",
      "Predicted Label: 125, True Label: 158\n",
      "Predicted Label: 219, True Label: 158\n",
      "True Label: 125, Count: 13\n",
      "Predicted Label: 24, True Label: 125\n",
      "Predicted Label: 104, True Label: 125\n",
      "Predicted Label: 164, True Label: 125\n",
      "Predicted Label: 232, True Label: 125\n",
      "Predicted Label: 182, True Label: 125\n",
      "True Label: 231, Count: 11\n",
      "Predicted Label: 143, True Label: 231\n",
      "Predicted Label: 74, True Label: 231\n",
      "Predicted Label: 162, True Label: 231\n",
      "Predicted Label: 137, True Label: 231\n",
      "Predicted Label: 34, True Label: 231\n",
      "True Label: 104, Count: 10\n",
      "Predicted Label: 55, True Label: 104\n",
      "Predicted Label: 64, True Label: 104\n",
      "Predicted Label: 64, True Label: 104\n",
      "Predicted Label: 112, True Label: 104\n",
      "Predicted Label: 143, True Label: 104\n",
      "\n",
      "Epoch : 2\n"
     ]
    },
    {
     "name": "stderr",
     "output_type": "stream",
     "text": [
      "100%|████████████████████████████████████████████████████████████████████████████████| 861/861 [10:15<00:00,  1.40it/s]\n"
     ]
    },
    {
     "name": "stdout",
     "output_type": "stream",
     "text": [
      "Train Loss: 0.644 | Accuracy: 82.640\n",
      "Val Loss: 0.815| Accuracy: 79.451\n",
      "Top 5 Wrong Predictions in Validation Set:\n",
      "True Label: 256, Count: 35\n",
      "Predicted Label: 161, True Label: 256\n",
      "Predicted Label: 123, True Label: 256\n",
      "Predicted Label: 70, True Label: 256\n",
      "Predicted Label: 97, True Label: 256\n",
      "Predicted Label: 141, True Label: 256\n",
      "True Label: 104, Count: 15\n",
      "Predicted Label: 253, True Label: 104\n",
      "Predicted Label: 55, True Label: 104\n",
      "Predicted Label: 158, True Label: 104\n",
      "Predicted Label: 158, True Label: 104\n",
      "Predicted Label: 118, True Label: 104\n",
      "True Label: 125, Count: 13\n",
      "Predicted Label: 161, True Label: 125\n",
      "Predicted Label: 146, True Label: 125\n",
      "Predicted Label: 180, True Label: 125\n",
      "Predicted Label: 206, True Label: 125\n",
      "Predicted Label: 7, True Label: 125\n",
      "True Label: 158, Count: 12\n",
      "Predicted Label: 204, True Label: 158\n",
      "Predicted Label: 253, True Label: 158\n",
      "Predicted Label: 143, True Label: 158\n",
      "Predicted Label: 63, True Label: 158\n",
      "Predicted Label: 143, True Label: 158\n",
      "True Label: 95, Count: 12\n",
      "Predicted Label: 161, True Label: 95\n",
      "Predicted Label: 97, True Label: 95\n",
      "Predicted Label: 38, True Label: 95\n",
      "Predicted Label: 26, True Label: 95\n",
      "Predicted Label: 35, True Label: 95\n",
      "\n",
      "Epoch : 3\n"
     ]
    },
    {
     "name": "stderr",
     "output_type": "stream",
     "text": [
      "100%|████████████████████████████████████████████████████████████████████████████████| 861/861 [09:08<00:00,  1.57it/s]\n"
     ]
    },
    {
     "name": "stdout",
     "output_type": "stream",
     "text": [
      "Train Loss: 0.636 | Accuracy: 82.803\n",
      "Val Loss: 0.826| Accuracy: 79.124\n",
      "Top 5 Wrong Predictions in Validation Set:\n",
      "True Label: 256, Count: 41\n",
      "Predicted Label: 240, True Label: 256\n",
      "Predicted Label: 206, True Label: 256\n",
      "Predicted Label: 28, True Label: 256\n",
      "Predicted Label: 93, True Label: 256\n",
      "Predicted Label: 161, True Label: 256\n",
      "True Label: 104, Count: 14\n",
      "Predicted Label: 227, True Label: 104\n",
      "Predicted Label: 150, True Label: 104\n",
      "Predicted Label: 210, True Label: 104\n",
      "Predicted Label: 49, True Label: 104\n",
      "Predicted Label: 95, True Label: 104\n",
      "True Label: 158, Count: 14\n",
      "Predicted Label: 172, True Label: 158\n",
      "Predicted Label: 21, True Label: 158\n",
      "Predicted Label: 228, True Label: 158\n",
      "Predicted Label: 152, True Label: 158\n",
      "Predicted Label: 54, True Label: 158\n",
      "True Label: 125, Count: 12\n",
      "Predicted Label: 180, True Label: 125\n",
      "Predicted Label: 41, True Label: 125\n",
      "Predicted Label: 180, True Label: 125\n",
      "Predicted Label: 134, True Label: 125\n",
      "Predicted Label: 84, True Label: 125\n",
      "True Label: 231, Count: 11\n",
      "Predicted Label: 214, True Label: 231\n",
      "Predicted Label: 119, True Label: 231\n",
      "Predicted Label: 74, True Label: 231\n",
      "Predicted Label: 3, True Label: 231\n",
      "Predicted Label: 193, True Label: 231\n",
      "\n",
      "Epoch : 4\n"
     ]
    },
    {
     "name": "stderr",
     "output_type": "stream",
     "text": [
      "100%|████████████████████████████████████████████████████████████████████████████████| 861/861 [12:44<00:00,  1.13it/s]\n"
     ]
    },
    {
     "name": "stdout",
     "output_type": "stream",
     "text": [
      "Train Loss: 0.641 | Accuracy: 82.967\n",
      "Val Loss: 0.844| Accuracy: 78.504\n",
      "Top 5 Wrong Predictions in Validation Set:\n",
      "True Label: 256, Count: 37\n",
      "Predicted Label: 112, True Label: 256\n",
      "Predicted Label: 123, True Label: 256\n",
      "Predicted Label: 106, True Label: 256\n",
      "Predicted Label: 70, True Label: 256\n",
      "Predicted Label: 244, True Label: 256\n",
      "True Label: 95, Count: 19\n",
      "Predicted Label: 158, True Label: 95\n",
      "Predicted Label: 161, True Label: 95\n",
      "Predicted Label: 17, True Label: 95\n",
      "Predicted Label: 88, True Label: 95\n",
      "Predicted Label: 3, True Label: 95\n",
      "True Label: 104, Count: 15\n",
      "Predicted Label: 27, True Label: 104\n",
      "Predicted Label: 198, True Label: 104\n",
      "Predicted Label: 115, True Label: 104\n",
      "Predicted Label: 2, True Label: 104\n",
      "Predicted Label: 49, True Label: 104\n",
      "True Label: 125, Count: 14\n",
      "Predicted Label: 234, True Label: 125\n",
      "Predicted Label: 188, True Label: 125\n",
      "Predicted Label: 180, True Label: 125\n",
      "Predicted Label: 168, True Label: 125\n",
      "Predicted Label: 243, True Label: 125\n",
      "True Label: 231, Count: 11\n",
      "Predicted Label: 119, True Label: 231\n",
      "Predicted Label: 2, True Label: 231\n",
      "Predicted Label: 193, True Label: 231\n",
      "Predicted Label: 3, True Label: 231\n",
      "Predicted Label: 25, True Label: 231\n",
      "\n",
      "Epoch : 5\n"
     ]
    },
    {
     "name": "stderr",
     "output_type": "stream",
     "text": [
      "100%|████████████████████████████████████████████████████████████████████████████████| 861/861 [12:36<00:00,  1.14it/s]\n"
     ]
    },
    {
     "name": "stdout",
     "output_type": "stream",
     "text": [
      "Train Loss: 0.628 | Accuracy: 83.344\n",
      "Val Loss: 0.875| Accuracy: 79.059\n",
      "Top 5 Wrong Predictions in Validation Set:\n",
      "True Label: 256, Count: 31\n",
      "Predicted Label: 216, True Label: 256\n",
      "Predicted Label: 196, True Label: 256\n",
      "Predicted Label: 161, True Label: 256\n",
      "Predicted Label: 208, True Label: 256\n",
      "Predicted Label: 205, True Label: 256\n",
      "True Label: 104, Count: 13\n",
      "Predicted Label: 84, True Label: 104\n",
      "Predicted Label: 204, True Label: 104\n",
      "Predicted Label: 12, True Label: 104\n",
      "Predicted Label: 28, True Label: 104\n",
      "Predicted Label: 8, True Label: 104\n",
      "True Label: 125, Count: 13\n",
      "Predicted Label: 230, True Label: 125\n",
      "Predicted Label: 149, True Label: 125\n",
      "Predicted Label: 158, True Label: 125\n",
      "Predicted Label: 158, True Label: 125\n",
      "Predicted Label: 28, True Label: 125\n",
      "True Label: 146, Count: 10\n",
      "Predicted Label: 47, True Label: 146\n",
      "Predicted Label: 83, True Label: 146\n",
      "Predicted Label: 12, True Label: 146\n",
      "Predicted Label: 105, True Label: 146\n",
      "Predicted Label: 216, True Label: 146\n",
      "True Label: 231, Count: 10\n",
      "Predicted Label: 74, True Label: 231\n",
      "Predicted Label: 175, True Label: 231\n",
      "Predicted Label: 148, True Label: 231\n",
      "Predicted Label: 191, True Label: 231\n",
      "Predicted Label: 34, True Label: 231\n",
      "\n",
      "Epoch : 6\n"
     ]
    },
    {
     "name": "stderr",
     "output_type": "stream",
     "text": [
      "100%|████████████████████████████████████████████████████████████████████████████████| 861/861 [05:54<00:00,  2.43it/s]\n"
     ]
    },
    {
     "name": "stdout",
     "output_type": "stream",
     "text": [
      "Train Loss: 0.606 | Accuracy: 83.642\n",
      "Val Loss: 0.869| Accuracy: 78.634\n",
      "Top 5 Wrong Predictions in Validation Set:\n",
      "True Label: 256, Count: 35\n",
      "Predicted Label: 241, True Label: 256\n",
      "Predicted Label: 56, True Label: 256\n",
      "Predicted Label: 242, True Label: 256\n",
      "Predicted Label: 168, True Label: 256\n",
      "Predicted Label: 38, True Label: 256\n",
      "True Label: 158, Count: 15\n",
      "Predicted Label: 159, True Label: 158\n",
      "Predicted Label: 104, True Label: 158\n",
      "Predicted Label: 143, True Label: 158\n",
      "Predicted Label: 60, True Label: 158\n",
      "Predicted Label: 55, True Label: 158\n",
      "True Label: 125, Count: 14\n",
      "Predicted Label: 180, True Label: 125\n",
      "Predicted Label: 242, True Label: 125\n",
      "Predicted Label: 29, True Label: 125\n",
      "Predicted Label: 141, True Label: 125\n",
      "Predicted Label: 216, True Label: 125\n",
      "True Label: 104, Count: 12\n",
      "Predicted Label: 243, True Label: 104\n",
      "Predicted Label: 253, True Label: 104\n",
      "Predicted Label: 158, True Label: 104\n",
      "Predicted Label: 253, True Label: 104\n",
      "Predicted Label: 57, True Label: 104\n",
      "True Label: 231, Count: 12\n",
      "Predicted Label: 192, True Label: 231\n",
      "Predicted Label: 2, True Label: 231\n",
      "Predicted Label: 118, True Label: 231\n",
      "Predicted Label: 97, True Label: 231\n",
      "Predicted Label: 25, True Label: 231\n",
      "\n",
      "Epoch : 7\n"
     ]
    },
    {
     "name": "stderr",
     "output_type": "stream",
     "text": [
      "100%|████████████████████████████████████████████████████████████████████████████████| 861/861 [05:21<00:00,  2.68it/s]\n"
     ]
    },
    {
     "name": "stdout",
     "output_type": "stream",
     "text": [
      "Train Loss: 0.614 | Accuracy: 83.537\n",
      "Val Loss: 0.916| Accuracy: 77.524\n",
      "Top 5 Wrong Predictions in Validation Set:\n",
      "True Label: 256, Count: 37\n",
      "Predicted Label: 215, True Label: 256\n",
      "Predicted Label: 240, True Label: 256\n",
      "Predicted Label: 193, True Label: 256\n",
      "Predicted Label: 216, True Label: 256\n",
      "Predicted Label: 70, True Label: 256\n",
      "True Label: 104, Count: 16\n",
      "Predicted Label: 84, True Label: 104\n",
      "Predicted Label: 253, True Label: 104\n",
      "Predicted Label: 55, True Label: 104\n",
      "Predicted Label: 118, True Label: 104\n",
      "Predicted Label: 49, True Label: 104\n",
      "True Label: 158, Count: 12\n",
      "Predicted Label: 225, True Label: 158\n",
      "Predicted Label: 114, True Label: 158\n",
      "Predicted Label: 135, True Label: 158\n",
      "Predicted Label: 180, True Label: 158\n",
      "Predicted Label: 119, True Label: 158\n",
      "True Label: 125, Count: 12\n",
      "Predicted Label: 212, True Label: 125\n",
      "Predicted Label: 180, True Label: 125\n",
      "Predicted Label: 25, True Label: 125\n",
      "Predicted Label: 28, True Label: 125\n",
      "Predicted Label: 29, True Label: 125\n",
      "True Label: 231, Count: 11\n",
      "Predicted Label: 74, True Label: 231\n",
      "Predicted Label: 148, True Label: 231\n",
      "Predicted Label: 222, True Label: 231\n",
      "Predicted Label: 49, True Label: 231\n",
      "Predicted Label: 202, True Label: 231\n",
      "\n",
      "Epoch : 8\n"
     ]
    },
    {
     "name": "stderr",
     "output_type": "stream",
     "text": [
      "100%|████████████████████████████████████████████████████████████████████████████████| 861/861 [05:13<00:00,  2.74it/s]\n"
     ]
    },
    {
     "name": "stdout",
     "output_type": "stream",
     "text": [
      "Train Loss: 0.614 | Accuracy: 83.602\n",
      "Val Loss: 0.906| Accuracy: 78.177\n",
      "Top 5 Wrong Predictions in Validation Set:\n",
      "True Label: 256, Count: 38\n",
      "Predicted Label: 240, True Label: 256\n",
      "Predicted Label: 123, True Label: 256\n",
      "Predicted Label: 242, True Label: 256\n",
      "Predicted Label: 213, True Label: 256\n",
      "Predicted Label: 3, True Label: 256\n",
      "True Label: 158, Count: 17\n",
      "Predicted Label: 104, True Label: 158\n",
      "Predicted Label: 162, True Label: 158\n",
      "Predicted Label: 143, True Label: 158\n",
      "Predicted Label: 116, True Label: 158\n",
      "Predicted Label: 162, True Label: 158\n",
      "True Label: 104, Count: 12\n",
      "Predicted Label: 158, True Label: 104\n",
      "Predicted Label: 55, True Label: 104\n",
      "Predicted Label: 253, True Label: 104\n",
      "Predicted Label: 64, True Label: 104\n",
      "Predicted Label: 164, True Label: 104\n",
      "True Label: 125, Count: 12\n",
      "Predicted Label: 27, True Label: 125\n",
      "Predicted Label: 104, True Label: 125\n",
      "Predicted Label: 180, True Label: 125\n",
      "Predicted Label: 116, True Label: 125\n",
      "Predicted Label: 61, True Label: 125\n",
      "True Label: 189, Count: 11\n",
      "Predicted Label: 215, True Label: 189\n",
      "Predicted Label: 255, True Label: 189\n",
      "Predicted Label: 255, True Label: 189\n",
      "Predicted Label: 147, True Label: 189\n",
      "Predicted Label: 6, True Label: 189\n",
      "\n",
      "Epoch : 9\n"
     ]
    },
    {
     "name": "stderr",
     "output_type": "stream",
     "text": [
      "100%|████████████████████████████████████████████████████████████████████████████████| 861/861 [22:14<00:00,  1.55s/it]\n"
     ]
    },
    {
     "name": "stdout",
     "output_type": "stream",
     "text": [
      "Train Loss: 0.612 | Accuracy: 83.994\n",
      "Val Loss: 0.879| Accuracy: 78.928\n",
      "Top 5 Wrong Predictions in Validation Set:\n",
      "True Label: 256, Count: 35\n",
      "Predicted Label: 216, True Label: 256\n",
      "Predicted Label: 112, True Label: 256\n",
      "Predicted Label: 123, True Label: 256\n",
      "Predicted Label: 153, True Label: 256\n",
      "Predicted Label: 208, True Label: 256\n",
      "True Label: 158, Count: 15\n",
      "Predicted Label: 172, True Label: 158\n",
      "Predicted Label: 162, True Label: 158\n",
      "Predicted Label: 228, True Label: 158\n",
      "Predicted Label: 164, True Label: 158\n",
      "Predicted Label: 222, True Label: 158\n",
      "True Label: 104, Count: 14\n",
      "Predicted Label: 146, True Label: 104\n",
      "Predicted Label: 49, True Label: 104\n",
      "Predicted Label: 121, True Label: 104\n",
      "Predicted Label: 180, True Label: 104\n",
      "Predicted Label: 172, True Label: 104\n",
      "True Label: 84, Count: 12\n",
      "Predicted Label: 133, True Label: 84\n",
      "Predicted Label: 253, True Label: 84\n",
      "Predicted Label: 206, True Label: 84\n",
      "Predicted Label: 104, True Label: 84\n",
      "Predicted Label: 3, True Label: 84\n",
      "True Label: 95, Count: 12\n",
      "Predicted Label: 163, True Label: 95\n",
      "Predicted Label: 25, True Label: 95\n",
      "Predicted Label: 216, True Label: 95\n",
      "Predicted Label: 256, True Label: 95\n",
      "Predicted Label: 199, True Label: 95\n",
      "\n",
      "Epoch : 10\n"
     ]
    },
    {
     "name": "stderr",
     "output_type": "stream",
     "text": [
      "100%|████████████████████████████████████████████████████████████████████████████████| 861/861 [05:33<00:00,  2.58it/s]\n"
     ]
    },
    {
     "name": "stdout",
     "output_type": "stream",
     "text": [
      "Train Loss: 0.611 | Accuracy: 83.660\n",
      "Val Loss: 0.861| Accuracy: 77.883\n",
      "Top 5 Wrong Predictions in Validation Set:\n",
      "True Label: 256, Count: 34\n",
      "Predicted Label: 206, True Label: 256\n",
      "Predicted Label: 196, True Label: 256\n",
      "Predicted Label: 213, True Label: 256\n",
      "Predicted Label: 73, True Label: 256\n",
      "Predicted Label: 205, True Label: 256\n",
      "True Label: 158, Count: 17\n",
      "Predicted Label: 114, True Label: 158\n",
      "Predicted Label: 104, True Label: 158\n",
      "Predicted Label: 192, True Label: 158\n",
      "Predicted Label: 162, True Label: 158\n",
      "Predicted Label: 228, True Label: 158\n",
      "True Label: 231, Count: 13\n",
      "Predicted Label: 20, True Label: 231\n",
      "Predicted Label: 110, True Label: 231\n",
      "Predicted Label: 2, True Label: 231\n",
      "Predicted Label: 166, True Label: 231\n",
      "Predicted Label: 164, True Label: 231\n",
      "True Label: 104, Count: 13\n",
      "Predicted Label: 158, True Label: 104\n",
      "Predicted Label: 18, True Label: 104\n",
      "Predicted Label: 253, True Label: 104\n",
      "Predicted Label: 14, True Label: 104\n",
      "Predicted Label: 175, True Label: 104\n",
      "True Label: 95, Count: 13\n",
      "Predicted Label: 158, True Label: 95\n",
      "Predicted Label: 115, True Label: 95\n",
      "Predicted Label: 89, True Label: 95\n",
      "Predicted Label: 14, True Label: 95\n",
      "Predicted Label: 133, True Label: 95\n"
     ]
    }
   ],
   "source": [
    "epochs = 10 # 20 run modify it later on\n",
    "for epoch in range(1, epochs+1):\n",
    "  train(epoch)\n",
    "  eval_val(epoch)"
   ]
  },
  {
   "cell_type": "code",
   "execution_count": 49,
   "metadata": {
    "colab": {
     "base_uri": "https://localhost:8080/"
    },
    "id": "tqZGNTciKDRf",
    "outputId": "00fcf609-538a-4825-82b1-a4cb50c3bd94",
    "scrolled": true
   },
   "outputs": [],
   "source": [
    "# epochs = 30 # 20 run modify it later on\n",
    "# for epoch in range(1, epochs+1):\n",
    "#   train(epoch)\n",
    "#   eval_val(epoch)"
   ]
  },
  {
   "cell_type": "code",
   "execution_count": 50,
   "metadata": {
    "colab": {
     "base_uri": "https://localhost:8080/"
    },
    "id": "LEiTRMfwydz0",
    "outputId": "38fca368-3a7c-4177-a52a-4a0bd7a3594d"
   },
   "outputs": [],
   "source": [
    "# epochs = 5 # 20 run moidfy it later on\n",
    "# for epoch in range(1, epochs+1):\n",
    "#   train(epoch)\n",
    "#   eval_val(epoch)"
   ]
  },
  {
   "cell_type": "code",
   "execution_count": 51,
   "metadata": {
    "colab": {
     "base_uri": "https://localhost:8080/"
    },
    "id": "oOq1LjqPP-5Q",
    "outputId": "a3112f48-a742-4c11-8dba-53338728ad2f"
   },
   "outputs": [],
   "source": [
    "# epochs = 3 # 20 run modify it later on\n",
    "# for epoch in range(1, epochs+1):\n",
    "#   train(epoch)\n",
    "#   eval_val(epoch)"
   ]
  },
  {
   "cell_type": "code",
   "execution_count": 52,
   "metadata": {
    "colab": {
     "base_uri": "https://localhost:8080/"
    },
    "id": "IlcUbFNYs7d0",
    "outputId": "a9dfce17-aa2a-4d04-ccc1-e02daf2db6dc"
   },
   "outputs": [],
   "source": [
    "# epochs = 28 # 20 run modify it later on\n",
    "# for epoch in range(1, epochs+1):\n",
    "#   train(epoch)\n",
    "#   eval_val(epoch)"
   ]
  },
  {
   "cell_type": "markdown",
   "metadata": {
    "id": "RbF1RIZMSf36"
   },
   "source": [
    "Validatation data sets as well - todo"
   ]
  },
  {
   "cell_type": "markdown",
   "metadata": {
    "id": "IAZSUyfrO_4y"
   },
   "source": [
    "Hyper Parameters = epcoh, learning rate,"
   ]
  },
  {
   "cell_type": "code",
   "execution_count": 43,
   "metadata": {
    "id": "XDxPernlKDU6"
   },
   "outputs": [],
   "source": [
    "PATH = 'CalTech-256-GoogleNet_v307_2307.pth'\n",
    "torch.save(model_ft.state_dict(), PATH)"
   ]
  },
  {
   "cell_type": "code",
   "execution_count": null,
   "metadata": {
    "colab": {
     "base_uri": "https://localhost:8080/",
     "height": 449
    },
    "id": "oGnqhmQwKDWv",
    "outputId": "98526e80-6ab8-4588-f00b-021a865a305d"
   },
   "outputs": [],
   "source": [
    "plt.plot(train_accu,'-o')\n",
    "plt.xlabel('epoch')\n",
    "plt.ylabel('accuracy')\n",
    "plt.legend(['Train'])\n",
    "plt.show()"
   ]
  },
  {
   "cell_type": "code",
   "execution_count": null,
   "metadata": {
    "colab": {
     "base_uri": "https://localhost:8080/",
     "height": 472
    },
    "id": "HyvbQU17P5-a",
    "outputId": "029058d8-646e-4cf8-d292-444d60471de5"
   },
   "outputs": [],
   "source": [
    "plt.plot(train_losses,'-o')\n",
    "plt.xlabel('epoch')\n",
    "plt.ylabel('Loss')\n",
    "plt.legend(['Train'])\n",
    "plt.title('Train Loss')\n",
    "plt.show()"
   ]
  },
  {
   "cell_type": "markdown",
   "metadata": {
    "id": "k-O0Jx99UhmI"
   },
   "source": [
    "###   **Stage 3**: Evaluate the Model and get model predictions on the Kaggle testset (2 Points)\n",
    "\n",
    "\n",
    "\n",
    "\n",
    "\n",
    "\n",
    "\n"
   ]
  },
  {
   "cell_type": "code",
   "execution_count": null,
   "metadata": {
    "id": "hgq_S-MOP_ZZ"
   },
   "outputs": [],
   "source": [
    "PATH='CalTech-256-GoogleNet_v307_2307.pth'\n",
    "model_ft.load_state_dict(torch.load(PATH))"
   ]
  },
  {
   "cell_type": "code",
   "execution_count": 44,
   "metadata": {
    "id": "85hE9-shP_nw"
   },
   "outputs": [
    {
     "data": {
      "text/plain": [
       "GoogLeNet(\n",
       "  (conv1): BasicConv2d(\n",
       "    (conv): Conv2d(3, 64, kernel_size=(7, 7), stride=(2, 2), padding=(3, 3), bias=False)\n",
       "    (bn): BatchNorm2d(64, eps=0.001, momentum=0.1, affine=True, track_running_stats=True)\n",
       "  )\n",
       "  (maxpool1): MaxPool2d(kernel_size=3, stride=2, padding=0, dilation=1, ceil_mode=True)\n",
       "  (conv2): BasicConv2d(\n",
       "    (conv): Conv2d(64, 64, kernel_size=(1, 1), stride=(1, 1), bias=False)\n",
       "    (bn): BatchNorm2d(64, eps=0.001, momentum=0.1, affine=True, track_running_stats=True)\n",
       "  )\n",
       "  (conv3): BasicConv2d(\n",
       "    (conv): Conv2d(64, 192, kernel_size=(3, 3), stride=(1, 1), padding=(1, 1), bias=False)\n",
       "    (bn): BatchNorm2d(192, eps=0.001, momentum=0.1, affine=True, track_running_stats=True)\n",
       "  )\n",
       "  (maxpool2): MaxPool2d(kernel_size=3, stride=2, padding=0, dilation=1, ceil_mode=True)\n",
       "  (inception3a): Inception(\n",
       "    (branch1): BasicConv2d(\n",
       "      (conv): Conv2d(192, 64, kernel_size=(1, 1), stride=(1, 1), bias=False)\n",
       "      (bn): BatchNorm2d(64, eps=0.001, momentum=0.1, affine=True, track_running_stats=True)\n",
       "    )\n",
       "    (branch2): Sequential(\n",
       "      (0): BasicConv2d(\n",
       "        (conv): Conv2d(192, 96, kernel_size=(1, 1), stride=(1, 1), bias=False)\n",
       "        (bn): BatchNorm2d(96, eps=0.001, momentum=0.1, affine=True, track_running_stats=True)\n",
       "      )\n",
       "      (1): BasicConv2d(\n",
       "        (conv): Conv2d(96, 128, kernel_size=(3, 3), stride=(1, 1), padding=(1, 1), bias=False)\n",
       "        (bn): BatchNorm2d(128, eps=0.001, momentum=0.1, affine=True, track_running_stats=True)\n",
       "      )\n",
       "    )\n",
       "    (branch3): Sequential(\n",
       "      (0): BasicConv2d(\n",
       "        (conv): Conv2d(192, 16, kernel_size=(1, 1), stride=(1, 1), bias=False)\n",
       "        (bn): BatchNorm2d(16, eps=0.001, momentum=0.1, affine=True, track_running_stats=True)\n",
       "      )\n",
       "      (1): BasicConv2d(\n",
       "        (conv): Conv2d(16, 32, kernel_size=(3, 3), stride=(1, 1), padding=(1, 1), bias=False)\n",
       "        (bn): BatchNorm2d(32, eps=0.001, momentum=0.1, affine=True, track_running_stats=True)\n",
       "      )\n",
       "    )\n",
       "    (branch4): Sequential(\n",
       "      (0): MaxPool2d(kernel_size=3, stride=1, padding=1, dilation=1, ceil_mode=True)\n",
       "      (1): BasicConv2d(\n",
       "        (conv): Conv2d(192, 32, kernel_size=(1, 1), stride=(1, 1), bias=False)\n",
       "        (bn): BatchNorm2d(32, eps=0.001, momentum=0.1, affine=True, track_running_stats=True)\n",
       "      )\n",
       "    )\n",
       "  )\n",
       "  (inception3b): Inception(\n",
       "    (branch1): BasicConv2d(\n",
       "      (conv): Conv2d(256, 128, kernel_size=(1, 1), stride=(1, 1), bias=False)\n",
       "      (bn): BatchNorm2d(128, eps=0.001, momentum=0.1, affine=True, track_running_stats=True)\n",
       "    )\n",
       "    (branch2): Sequential(\n",
       "      (0): BasicConv2d(\n",
       "        (conv): Conv2d(256, 128, kernel_size=(1, 1), stride=(1, 1), bias=False)\n",
       "        (bn): BatchNorm2d(128, eps=0.001, momentum=0.1, affine=True, track_running_stats=True)\n",
       "      )\n",
       "      (1): BasicConv2d(\n",
       "        (conv): Conv2d(128, 192, kernel_size=(3, 3), stride=(1, 1), padding=(1, 1), bias=False)\n",
       "        (bn): BatchNorm2d(192, eps=0.001, momentum=0.1, affine=True, track_running_stats=True)\n",
       "      )\n",
       "    )\n",
       "    (branch3): Sequential(\n",
       "      (0): BasicConv2d(\n",
       "        (conv): Conv2d(256, 32, kernel_size=(1, 1), stride=(1, 1), bias=False)\n",
       "        (bn): BatchNorm2d(32, eps=0.001, momentum=0.1, affine=True, track_running_stats=True)\n",
       "      )\n",
       "      (1): BasicConv2d(\n",
       "        (conv): Conv2d(32, 96, kernel_size=(3, 3), stride=(1, 1), padding=(1, 1), bias=False)\n",
       "        (bn): BatchNorm2d(96, eps=0.001, momentum=0.1, affine=True, track_running_stats=True)\n",
       "      )\n",
       "    )\n",
       "    (branch4): Sequential(\n",
       "      (0): MaxPool2d(kernel_size=3, stride=1, padding=1, dilation=1, ceil_mode=True)\n",
       "      (1): BasicConv2d(\n",
       "        (conv): Conv2d(256, 64, kernel_size=(1, 1), stride=(1, 1), bias=False)\n",
       "        (bn): BatchNorm2d(64, eps=0.001, momentum=0.1, affine=True, track_running_stats=True)\n",
       "      )\n",
       "    )\n",
       "  )\n",
       "  (maxpool3): MaxPool2d(kernel_size=3, stride=2, padding=0, dilation=1, ceil_mode=True)\n",
       "  (inception4a): Inception(\n",
       "    (branch1): BasicConv2d(\n",
       "      (conv): Conv2d(480, 192, kernel_size=(1, 1), stride=(1, 1), bias=False)\n",
       "      (bn): BatchNorm2d(192, eps=0.001, momentum=0.1, affine=True, track_running_stats=True)\n",
       "    )\n",
       "    (branch2): Sequential(\n",
       "      (0): BasicConv2d(\n",
       "        (conv): Conv2d(480, 96, kernel_size=(1, 1), stride=(1, 1), bias=False)\n",
       "        (bn): BatchNorm2d(96, eps=0.001, momentum=0.1, affine=True, track_running_stats=True)\n",
       "      )\n",
       "      (1): BasicConv2d(\n",
       "        (conv): Conv2d(96, 208, kernel_size=(3, 3), stride=(1, 1), padding=(1, 1), bias=False)\n",
       "        (bn): BatchNorm2d(208, eps=0.001, momentum=0.1, affine=True, track_running_stats=True)\n",
       "      )\n",
       "    )\n",
       "    (branch3): Sequential(\n",
       "      (0): BasicConv2d(\n",
       "        (conv): Conv2d(480, 16, kernel_size=(1, 1), stride=(1, 1), bias=False)\n",
       "        (bn): BatchNorm2d(16, eps=0.001, momentum=0.1, affine=True, track_running_stats=True)\n",
       "      )\n",
       "      (1): BasicConv2d(\n",
       "        (conv): Conv2d(16, 48, kernel_size=(3, 3), stride=(1, 1), padding=(1, 1), bias=False)\n",
       "        (bn): BatchNorm2d(48, eps=0.001, momentum=0.1, affine=True, track_running_stats=True)\n",
       "      )\n",
       "    )\n",
       "    (branch4): Sequential(\n",
       "      (0): MaxPool2d(kernel_size=3, stride=1, padding=1, dilation=1, ceil_mode=True)\n",
       "      (1): BasicConv2d(\n",
       "        (conv): Conv2d(480, 64, kernel_size=(1, 1), stride=(1, 1), bias=False)\n",
       "        (bn): BatchNorm2d(64, eps=0.001, momentum=0.1, affine=True, track_running_stats=True)\n",
       "      )\n",
       "    )\n",
       "  )\n",
       "  (inception4b): Inception(\n",
       "    (branch1): BasicConv2d(\n",
       "      (conv): Conv2d(512, 160, kernel_size=(1, 1), stride=(1, 1), bias=False)\n",
       "      (bn): BatchNorm2d(160, eps=0.001, momentum=0.1, affine=True, track_running_stats=True)\n",
       "    )\n",
       "    (branch2): Sequential(\n",
       "      (0): BasicConv2d(\n",
       "        (conv): Conv2d(512, 112, kernel_size=(1, 1), stride=(1, 1), bias=False)\n",
       "        (bn): BatchNorm2d(112, eps=0.001, momentum=0.1, affine=True, track_running_stats=True)\n",
       "      )\n",
       "      (1): BasicConv2d(\n",
       "        (conv): Conv2d(112, 224, kernel_size=(3, 3), stride=(1, 1), padding=(1, 1), bias=False)\n",
       "        (bn): BatchNorm2d(224, eps=0.001, momentum=0.1, affine=True, track_running_stats=True)\n",
       "      )\n",
       "    )\n",
       "    (branch3): Sequential(\n",
       "      (0): BasicConv2d(\n",
       "        (conv): Conv2d(512, 24, kernel_size=(1, 1), stride=(1, 1), bias=False)\n",
       "        (bn): BatchNorm2d(24, eps=0.001, momentum=0.1, affine=True, track_running_stats=True)\n",
       "      )\n",
       "      (1): BasicConv2d(\n",
       "        (conv): Conv2d(24, 64, kernel_size=(3, 3), stride=(1, 1), padding=(1, 1), bias=False)\n",
       "        (bn): BatchNorm2d(64, eps=0.001, momentum=0.1, affine=True, track_running_stats=True)\n",
       "      )\n",
       "    )\n",
       "    (branch4): Sequential(\n",
       "      (0): MaxPool2d(kernel_size=3, stride=1, padding=1, dilation=1, ceil_mode=True)\n",
       "      (1): BasicConv2d(\n",
       "        (conv): Conv2d(512, 64, kernel_size=(1, 1), stride=(1, 1), bias=False)\n",
       "        (bn): BatchNorm2d(64, eps=0.001, momentum=0.1, affine=True, track_running_stats=True)\n",
       "      )\n",
       "    )\n",
       "  )\n",
       "  (inception4c): Inception(\n",
       "    (branch1): BasicConv2d(\n",
       "      (conv): Conv2d(512, 128, kernel_size=(1, 1), stride=(1, 1), bias=False)\n",
       "      (bn): BatchNorm2d(128, eps=0.001, momentum=0.1, affine=True, track_running_stats=True)\n",
       "    )\n",
       "    (branch2): Sequential(\n",
       "      (0): BasicConv2d(\n",
       "        (conv): Conv2d(512, 128, kernel_size=(1, 1), stride=(1, 1), bias=False)\n",
       "        (bn): BatchNorm2d(128, eps=0.001, momentum=0.1, affine=True, track_running_stats=True)\n",
       "      )\n",
       "      (1): BasicConv2d(\n",
       "        (conv): Conv2d(128, 256, kernel_size=(3, 3), stride=(1, 1), padding=(1, 1), bias=False)\n",
       "        (bn): BatchNorm2d(256, eps=0.001, momentum=0.1, affine=True, track_running_stats=True)\n",
       "      )\n",
       "    )\n",
       "    (branch3): Sequential(\n",
       "      (0): BasicConv2d(\n",
       "        (conv): Conv2d(512, 24, kernel_size=(1, 1), stride=(1, 1), bias=False)\n",
       "        (bn): BatchNorm2d(24, eps=0.001, momentum=0.1, affine=True, track_running_stats=True)\n",
       "      )\n",
       "      (1): BasicConv2d(\n",
       "        (conv): Conv2d(24, 64, kernel_size=(3, 3), stride=(1, 1), padding=(1, 1), bias=False)\n",
       "        (bn): BatchNorm2d(64, eps=0.001, momentum=0.1, affine=True, track_running_stats=True)\n",
       "      )\n",
       "    )\n",
       "    (branch4): Sequential(\n",
       "      (0): MaxPool2d(kernel_size=3, stride=1, padding=1, dilation=1, ceil_mode=True)\n",
       "      (1): BasicConv2d(\n",
       "        (conv): Conv2d(512, 64, kernel_size=(1, 1), stride=(1, 1), bias=False)\n",
       "        (bn): BatchNorm2d(64, eps=0.001, momentum=0.1, affine=True, track_running_stats=True)\n",
       "      )\n",
       "    )\n",
       "  )\n",
       "  (inception4d): Inception(\n",
       "    (branch1): BasicConv2d(\n",
       "      (conv): Conv2d(512, 112, kernel_size=(1, 1), stride=(1, 1), bias=False)\n",
       "      (bn): BatchNorm2d(112, eps=0.001, momentum=0.1, affine=True, track_running_stats=True)\n",
       "    )\n",
       "    (branch2): Sequential(\n",
       "      (0): BasicConv2d(\n",
       "        (conv): Conv2d(512, 144, kernel_size=(1, 1), stride=(1, 1), bias=False)\n",
       "        (bn): BatchNorm2d(144, eps=0.001, momentum=0.1, affine=True, track_running_stats=True)\n",
       "      )\n",
       "      (1): BasicConv2d(\n",
       "        (conv): Conv2d(144, 288, kernel_size=(3, 3), stride=(1, 1), padding=(1, 1), bias=False)\n",
       "        (bn): BatchNorm2d(288, eps=0.001, momentum=0.1, affine=True, track_running_stats=True)\n",
       "      )\n",
       "    )\n",
       "    (branch3): Sequential(\n",
       "      (0): BasicConv2d(\n",
       "        (conv): Conv2d(512, 32, kernel_size=(1, 1), stride=(1, 1), bias=False)\n",
       "        (bn): BatchNorm2d(32, eps=0.001, momentum=0.1, affine=True, track_running_stats=True)\n",
       "      )\n",
       "      (1): BasicConv2d(\n",
       "        (conv): Conv2d(32, 64, kernel_size=(3, 3), stride=(1, 1), padding=(1, 1), bias=False)\n",
       "        (bn): BatchNorm2d(64, eps=0.001, momentum=0.1, affine=True, track_running_stats=True)\n",
       "      )\n",
       "    )\n",
       "    (branch4): Sequential(\n",
       "      (0): MaxPool2d(kernel_size=3, stride=1, padding=1, dilation=1, ceil_mode=True)\n",
       "      (1): BasicConv2d(\n",
       "        (conv): Conv2d(512, 64, kernel_size=(1, 1), stride=(1, 1), bias=False)\n",
       "        (bn): BatchNorm2d(64, eps=0.001, momentum=0.1, affine=True, track_running_stats=True)\n",
       "      )\n",
       "    )\n",
       "  )\n",
       "  (inception4e): Inception(\n",
       "    (branch1): BasicConv2d(\n",
       "      (conv): Conv2d(528, 256, kernel_size=(1, 1), stride=(1, 1), bias=False)\n",
       "      (bn): BatchNorm2d(256, eps=0.001, momentum=0.1, affine=True, track_running_stats=True)\n",
       "    )\n",
       "    (branch2): Sequential(\n",
       "      (0): BasicConv2d(\n",
       "        (conv): Conv2d(528, 160, kernel_size=(1, 1), stride=(1, 1), bias=False)\n",
       "        (bn): BatchNorm2d(160, eps=0.001, momentum=0.1, affine=True, track_running_stats=True)\n",
       "      )\n",
       "      (1): BasicConv2d(\n",
       "        (conv): Conv2d(160, 320, kernel_size=(3, 3), stride=(1, 1), padding=(1, 1), bias=False)\n",
       "        (bn): BatchNorm2d(320, eps=0.001, momentum=0.1, affine=True, track_running_stats=True)\n",
       "      )\n",
       "    )\n",
       "    (branch3): Sequential(\n",
       "      (0): BasicConv2d(\n",
       "        (conv): Conv2d(528, 32, kernel_size=(1, 1), stride=(1, 1), bias=False)\n",
       "        (bn): BatchNorm2d(32, eps=0.001, momentum=0.1, affine=True, track_running_stats=True)\n",
       "      )\n",
       "      (1): BasicConv2d(\n",
       "        (conv): Conv2d(32, 128, kernel_size=(3, 3), stride=(1, 1), padding=(1, 1), bias=False)\n",
       "        (bn): BatchNorm2d(128, eps=0.001, momentum=0.1, affine=True, track_running_stats=True)\n",
       "      )\n",
       "    )\n",
       "    (branch4): Sequential(\n",
       "      (0): MaxPool2d(kernel_size=3, stride=1, padding=1, dilation=1, ceil_mode=True)\n",
       "      (1): BasicConv2d(\n",
       "        (conv): Conv2d(528, 128, kernel_size=(1, 1), stride=(1, 1), bias=False)\n",
       "        (bn): BatchNorm2d(128, eps=0.001, momentum=0.1, affine=True, track_running_stats=True)\n",
       "      )\n",
       "    )\n",
       "  )\n",
       "  (maxpool4): MaxPool2d(kernel_size=2, stride=2, padding=0, dilation=1, ceil_mode=True)\n",
       "  (inception5a): Inception(\n",
       "    (branch1): BasicConv2d(\n",
       "      (conv): Conv2d(832, 256, kernel_size=(1, 1), stride=(1, 1), bias=False)\n",
       "      (bn): BatchNorm2d(256, eps=0.001, momentum=0.1, affine=True, track_running_stats=True)\n",
       "    )\n",
       "    (branch2): Sequential(\n",
       "      (0): BasicConv2d(\n",
       "        (conv): Conv2d(832, 160, kernel_size=(1, 1), stride=(1, 1), bias=False)\n",
       "        (bn): BatchNorm2d(160, eps=0.001, momentum=0.1, affine=True, track_running_stats=True)\n",
       "      )\n",
       "      (1): BasicConv2d(\n",
       "        (conv): Conv2d(160, 320, kernel_size=(3, 3), stride=(1, 1), padding=(1, 1), bias=False)\n",
       "        (bn): BatchNorm2d(320, eps=0.001, momentum=0.1, affine=True, track_running_stats=True)\n",
       "      )\n",
       "    )\n",
       "    (branch3): Sequential(\n",
       "      (0): BasicConv2d(\n",
       "        (conv): Conv2d(832, 32, kernel_size=(1, 1), stride=(1, 1), bias=False)\n",
       "        (bn): BatchNorm2d(32, eps=0.001, momentum=0.1, affine=True, track_running_stats=True)\n",
       "      )\n",
       "      (1): BasicConv2d(\n",
       "        (conv): Conv2d(32, 128, kernel_size=(3, 3), stride=(1, 1), padding=(1, 1), bias=False)\n",
       "        (bn): BatchNorm2d(128, eps=0.001, momentum=0.1, affine=True, track_running_stats=True)\n",
       "      )\n",
       "    )\n",
       "    (branch4): Sequential(\n",
       "      (0): MaxPool2d(kernel_size=3, stride=1, padding=1, dilation=1, ceil_mode=True)\n",
       "      (1): BasicConv2d(\n",
       "        (conv): Conv2d(832, 128, kernel_size=(1, 1), stride=(1, 1), bias=False)\n",
       "        (bn): BatchNorm2d(128, eps=0.001, momentum=0.1, affine=True, track_running_stats=True)\n",
       "      )\n",
       "    )\n",
       "  )\n",
       "  (inception5b): Inception(\n",
       "    (branch1): BasicConv2d(\n",
       "      (conv): Conv2d(832, 384, kernel_size=(1, 1), stride=(1, 1), bias=False)\n",
       "      (bn): BatchNorm2d(384, eps=0.001, momentum=0.1, affine=True, track_running_stats=True)\n",
       "    )\n",
       "    (branch2): Sequential(\n",
       "      (0): BasicConv2d(\n",
       "        (conv): Conv2d(832, 192, kernel_size=(1, 1), stride=(1, 1), bias=False)\n",
       "        (bn): BatchNorm2d(192, eps=0.001, momentum=0.1, affine=True, track_running_stats=True)\n",
       "      )\n",
       "      (1): BasicConv2d(\n",
       "        (conv): Conv2d(192, 384, kernel_size=(3, 3), stride=(1, 1), padding=(1, 1), bias=False)\n",
       "        (bn): BatchNorm2d(384, eps=0.001, momentum=0.1, affine=True, track_running_stats=True)\n",
       "      )\n",
       "    )\n",
       "    (branch3): Sequential(\n",
       "      (0): BasicConv2d(\n",
       "        (conv): Conv2d(832, 48, kernel_size=(1, 1), stride=(1, 1), bias=False)\n",
       "        (bn): BatchNorm2d(48, eps=0.001, momentum=0.1, affine=True, track_running_stats=True)\n",
       "      )\n",
       "      (1): BasicConv2d(\n",
       "        (conv): Conv2d(48, 128, kernel_size=(3, 3), stride=(1, 1), padding=(1, 1), bias=False)\n",
       "        (bn): BatchNorm2d(128, eps=0.001, momentum=0.1, affine=True, track_running_stats=True)\n",
       "      )\n",
       "    )\n",
       "    (branch4): Sequential(\n",
       "      (0): MaxPool2d(kernel_size=3, stride=1, padding=1, dilation=1, ceil_mode=True)\n",
       "      (1): BasicConv2d(\n",
       "        (conv): Conv2d(832, 128, kernel_size=(1, 1), stride=(1, 1), bias=False)\n",
       "        (bn): BatchNorm2d(128, eps=0.001, momentum=0.1, affine=True, track_running_stats=True)\n",
       "      )\n",
       "    )\n",
       "  )\n",
       "  (aux1): None\n",
       "  (aux2): None\n",
       "  (avgpool): AdaptiveAvgPool2d(output_size=(1, 1))\n",
       "  (dropout): Dropout(p=0.2, inplace=False)\n",
       "  (fc): Linear(in_features=1024, out_features=257, bias=True)\n",
       ")"
      ]
     },
     "execution_count": 44,
     "metadata": {},
     "output_type": "execute_result"
    }
   ],
   "source": [
    "model_ft.eval()"
   ]
  },
  {
   "cell_type": "code",
   "execution_count": 45,
   "metadata": {
    "id": "pd4qBH9TRFPU"
   },
   "outputs": [],
   "source": [
    "# Loading the train dataset\n",
    "test_batch_size = 1\n",
    "test_loader = torch.utils.data.DataLoader(test_data, batch_size=test_batch_size,shuffle=False)"
   ]
  },
  {
   "cell_type": "code",
   "execution_count": 46,
   "metadata": {
    "id": "pZyKOwhQP_rq"
   },
   "outputs": [],
   "source": [
    "predictions = []\n",
    "for i,data in enumerate(test_loader):\n",
    "  input,_ = data\n",
    "  output = model_ft(input.to(device))\n",
    "  # print(output)\n",
    "  pred = torch.max(output,dim=1)\n",
    "  # print(pred)\n",
    "  predictions.append(total_dataset.classes[pred.indices])"
   ]
  },
  {
   "cell_type": "code",
   "execution_count": null,
   "metadata": {
    "id": "HGZlHUr7QAHm",
    "scrolled": false
   },
   "outputs": [],
   "source": [
    "# print([(x[0].split(\"/\",3)[2]).split('\\\\',1)[1].replace('\\\\','/') for x in list(test_loader.dataset.imgs)])\n",
    "# test_loader.dataset.imgs"
   ]
  },
  {
   "cell_type": "code",
   "execution_count": 47,
   "metadata": {
    "id": "ExS0RVcGP_-d"
   },
   "outputs": [],
   "source": [
    "results = pd.DataFrame()\n",
    "results['img_path'] = pd.Series([(x[0].split(\"/\",3)[2]).split('\\\\',1)[1].replace('\\\\','/') for x in list(test_loader.dataset.imgs)])\n",
    "results['label'] = pd.Series(predictions)"
   ]
  },
  {
   "cell_type": "code",
   "execution_count": 48,
   "metadata": {},
   "outputs": [
    {
     "data": {
      "text/plain": [
       "0           Watch-101\n",
       "1           Watch-101\n",
       "2       American-Flag\n",
       "3                Toad\n",
       "4                Toad\n",
       "            ...      \n",
       "9172             Toad\n",
       "9173             Toad\n",
       "9174             Toad\n",
       "9175             Toad\n",
       "9176             Toad\n",
       "Name: label, Length: 9177, dtype: object"
      ]
     },
     "execution_count": 48,
     "metadata": {},
     "output_type": "execute_result"
    }
   ],
   "source": [
    "results['label'] = results['label'].apply(lambda x: x.split('.')[1].title())\n",
    "results['label']"
   ]
  },
  {
   "cell_type": "code",
   "execution_count": 49,
   "metadata": {
    "id": "HsAh3OJKQATl"
   },
   "outputs": [],
   "source": [
    "results.to_csv(\"Group11_Kaggle2_Submission_v307_2307.csv\")"
   ]
  },
  {
   "cell_type": "code",
   "execution_count": null,
   "metadata": {
    "id": "YvUUC1TMP52C"
   },
   "outputs": [],
   "source": [
    "results.head(15)"
   ]
  },
  {
   "cell_type": "code",
   "execution_count": null,
   "metadata": {
    "id": "0owSLS1CP5sp"
   },
   "outputs": [],
   "source": [
    "# results.head(5)"
   ]
  },
  {
   "cell_type": "code",
   "execution_count": null,
   "metadata": {
    "id": "z7agh3hOOKg2"
   },
   "outputs": [],
   "source": [
    "from google.colab import files\n",
    "# files.download('Group4_Pred_Submission_v75_lC_withques.csv')\n",
    "files.download('Group11_Kaggle2_Submission_v307_2107.csv')\n",
    "files.download('/content/CalTech-256-GoogleNet_v307_2107.pth')"
   ]
  },
  {
   "cell_type": "code",
   "execution_count": null,
   "metadata": {
    "id": "YoNCJlnVOLqk"
   },
   "outputs": [],
   "source": [
    "# submit the file to kaggle\n",
    "# !kaggle competitions submit classification-of-caltech-256-images -f Group11_Kaggle2_Submission_v4_adv.csv -m \"Model\""
   ]
  },
  {
   "cell_type": "markdown",
   "metadata": {
    "id": "fBIA1sbLByIL"
   },
   "source": [
    "### Report Analysis\n",
    "\n",
    "- Compare the accuracies for the Pre-trained vs CNN models\n",
    "- What process was followed to tune the hyperparameters?\n",
    "- Plot the confusion matrix in terms of the misclassifications"
   ]
  }
 ],
 "metadata": {
  "accelerator": "GPU",
  "colab": {
   "gpuType": "T4",
   "provenance": []
  },
  "kernelspec": {
   "display_name": "Python 3 (ipykernel)",
   "language": "python",
   "name": "python3"
  },
  "language_info": {
   "codemirror_mode": {
    "name": "ipython",
    "version": 3
   },
   "file_extension": ".py",
   "mimetype": "text/x-python",
   "name": "python",
   "nbconvert_exporter": "python",
   "pygments_lexer": "ipython3",
   "version": "3.10.9"
  }
 },
 "nbformat": 4,
 "nbformat_minor": 1
}
